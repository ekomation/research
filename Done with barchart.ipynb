{
  "cells": [
    {
      "cell_type": "markdown",
      "metadata": {
        "id": "view-in-github",
        "colab_type": "text"
      },
      "source": [
        "<a href=\"https://colab.research.google.com/github/ekomation/research/blob/main/Done%20with%20barchart.ipynb\" target=\"_parent\"><img src=\"https://colab.research.google.com/assets/colab-badge.svg\" alt=\"Open In Colab\"/></a>"
      ]
    },
    {
      "cell_type": "code",
      "execution_count": 1,
      "id": "f87d1b00",
      "metadata": {
        "id": "f87d1b00"
      },
      "outputs": [],
      "source": [
        "import numpy as np\n",
        "import pandas as pd"
      ]
    },
    {
      "cell_type": "code",
      "execution_count": null,
      "id": "e053d54e",
      "metadata": {
        "id": "e053d54e"
      },
      "outputs": [],
      "source": []
    },
    {
      "cell_type": "code",
      "execution_count": null,
      "id": "b902a31c",
      "metadata": {
        "id": "b902a31c"
      },
      "outputs": [],
      "source": []
    },
    {
      "cell_type": "code",
      "execution_count": 2,
      "id": "c629ddbc",
      "metadata": {
        "id": "c629ddbc"
      },
      "outputs": [],
      "source": [
        "import seaborn as sns\n",
        "import matplotlib.pyplot as plt\n",
        "from random import randint\n",
        "%matplotlib inline \n",
        "import warnings\n",
        "warnings.filterwarnings(\"ignore\")\n",
        "\n",
        "from sklearn.model_selection import train_test_split\n",
        "def split(df,label):\n",
        "    X_tr, X_te, Y_tr, Y_te = train_test_split(df.iloc[:, :-1], label, test_size=0.25, random_state=42)\n",
        "    return X_tr, X_te, Y_tr, Y_te\n",
        "\n",
        "from sklearn.feature_selection import RFE\n",
        "from sklearn.linear_model import LogisticRegression\n",
        "from sklearn.neighbors import KNeighborsClassifier\n",
        "from sklearn import svm\n",
        "from sklearn import metrics\n",
        "from sklearn.metrics import accuracy_score\n",
        "from sklearn.model_selection import KFold, cross_val_score\n",
        "\n",
        "\n",
        "classifiers = ['Logistic', 'Support vector Machine', 'KNeighbors']\n",
        "\n"
      ]
    },
    {
      "cell_type": "code",
      "execution_count": 3,
      "id": "cfada0a2",
      "metadata": {
        "id": "cfada0a2"
      },
      "outputs": [],
      "source": [
        "models = [LogisticRegression(max_iter = 1000),\n",
        "          svm.SVC(kernel='rbf'),\n",
        "          KNeighborsClassifier()]"
      ]
    },
    {
      "cell_type": "code",
      "execution_count": null,
      "id": "358bf0ea",
      "metadata": {
        "id": "358bf0ea"
      },
      "outputs": [],
      "source": []
    },
    {
      "cell_type": "code",
      "execution_count": 4,
      "id": "9a3b58a6",
      "metadata": {
        "id": "9a3b58a6"
      },
      "outputs": [],
      "source": [
        "def acc_score(df,label):\n",
        "    Score = pd.DataFrame({\"Classifier\":classifiers})\n",
        "    j = 0\n",
        "    acc = []\n",
        "   # X = df.iloc[:, : -1]\n",
        "    X_train,X_test,Y_train,Y_test = split(df,label)\n",
        "    for i in models:\n",
        "        model = i\n",
        "        model.fit(X_train,Y_train)\n",
        "        predictions = model.predict(X_test)\n",
        "        acc.append(accuracy_score(Y_test,predictions))\n",
        "        j = j+1     \n",
        "    Score[\"Accuracy\"] = acc\n",
        "    Score.sort_values(by=\"Accuracy\", ascending=False,inplace = True)\n",
        "    Score.reset_index(drop=True, inplace=True)\n",
        "    #joblib.dump(model, 'diabetes_prediction_model.joblib')\n",
        "    return Score\n"
      ]
    },
    {
      "cell_type": "code",
      "execution_count": null,
      "id": "e30b48e7",
      "metadata": {
        "id": "e30b48e7"
      },
      "outputs": [],
      "source": []
    },
    {
      "cell_type": "code",
      "execution_count": 5,
      "id": "3f393424",
      "metadata": {
        "id": "3f393424"
      },
      "outputs": [],
      "source": [
        "def plot(score,x,y,c = \"b\"):\n",
        "    gen = [1,2,3,4,5]\n",
        "    plt.figure(figsize=(6,4))\n",
        "    ax = sns.pointplot(x=gen, y=score,color = c )\n",
        "    ax.set(xlabel=\"Generation\", ylabel=\"Accuracy\")\n",
        "    ax.set(ylim=(x,y))"
      ]
    },
    {
      "cell_type": "code",
      "execution_count": null,
      "id": "acb4101f",
      "metadata": {
        "id": "acb4101f"
      },
      "outputs": [],
      "source": []
    },
    {
      "cell_type": "code",
      "execution_count": 6,
      "id": "a43a1b2b",
      "metadata": {
        "id": "a43a1b2b"
      },
      "outputs": [],
      "source": [
        "def initilization_of_population(size,n_feat):\n",
        "    population = []\n",
        "    for i in range(size):\n",
        "        chromosome = np.ones(n_feat,dtype=np.bool)     \n",
        "        chromosome[:int(0.3*n_feat)]=False             \n",
        "        np.random.shuffle(chromosome)\n",
        "        population.append(chromosome)\n",
        "    return population\n",
        "\n"
      ]
    },
    {
      "cell_type": "code",
      "execution_count": 7,
      "id": "c0095f68",
      "metadata": {
        "id": "c0095f68"
      },
      "outputs": [],
      "source": [
        "def fitness_score(population):\n",
        "    scores = []\n",
        "    for chromosome in population:\n",
        "        logmodel.fit(X_train.iloc[:,chromosome],Y_train)         \n",
        "        predictions = logmodel.predict(X_test.iloc[:,chromosome])\n",
        "        scores.append(accuracy_score(Y_test,predictions))\n",
        "    scores, population = np.array(scores), np.array(population) \n",
        "    inds = np.argsort(scores)                                    \n",
        "    return list(scores[inds][::-1]), list(population[inds,:][::-1]) \n",
        "\n"
      ]
    },
    {
      "cell_type": "code",
      "execution_count": 8,
      "id": "12848e5a",
      "metadata": {
        "id": "12848e5a"
      },
      "outputs": [],
      "source": [
        "def selection(pop_after_fit,n_parents):\n",
        "    population_nextgen = []\n",
        "    for i in range(n_parents):\n",
        "        population_nextgen.append(pop_after_fit[i])\n",
        "    return population_nextgen\n"
      ]
    },
    {
      "cell_type": "code",
      "execution_count": 9,
      "id": "df4c2e41",
      "metadata": {
        "id": "df4c2e41"
      },
      "outputs": [],
      "source": [
        "def crossover(pop_after_sel):\n",
        "    pop_nextgen = pop_after_sel\n",
        "    for i in range(0,len(pop_after_sel),2):\n",
        "        new_par = []\n",
        "        child_1 , child_2 = pop_nextgen[i] , pop_nextgen[i+1]\n",
        "        new_par = np.concatenate((child_1[:len(child_1)//2],child_2[len(child_1)//2:]))\n",
        "        pop_nextgen.append(new_par)\n",
        "    return pop_nextgen\n"
      ]
    },
    {
      "cell_type": "code",
      "execution_count": 10,
      "id": "c65c5e93",
      "metadata": {
        "id": "c65c5e93"
      },
      "outputs": [],
      "source": [
        "def mutation(pop_after_cross,mutation_rate,n_feat):   \n",
        "    mutation_range = int(mutation_rate*n_feat)\n",
        "    pop_next_gen = []\n",
        "    for n in range(0,len(pop_after_cross)):\n",
        "        chromo = pop_after_cross[n]\n",
        "        rand_posi = [] \n",
        "        for i in range(0,mutation_range):\n",
        "            pos = randint(0,n_feat-1)\n",
        "            rand_posi.append(pos)\n",
        "        for j in rand_posi:\n",
        "            chromo[j] = not chromo[j]  \n",
        "        pop_next_gen.append(chromo)\n",
        "    return pop_next_gen"
      ]
    },
    {
      "cell_type": "code",
      "execution_count": 11,
      "id": "eea1b9fc",
      "metadata": {
        "id": "eea1b9fc"
      },
      "outputs": [],
      "source": [
        "def generations(df,label,size,n_feat,n_parents,mutation_rate,n_gen,X_train,\n",
        "                                   X_test, Y_train, Y_test):\n",
        "    best_chromo= []\n",
        "    best_score= []\n",
        "    population_nextgen=initilization_of_population(size,n_feat)\n",
        "    for i in range(n_gen):\n",
        "        scores, pop_after_fit = fitness_score(population_nextgen)\n",
        "        print('Best score in generation',i+1,':',scores[:1])  #2\n",
        "        pop_after_sel = selection(pop_after_fit,n_parents)\n",
        "        pop_after_cross = crossover(pop_after_sel)\n",
        "        population_nextgen = mutation(pop_after_cross,mutation_rate,n_feat)\n",
        "        best_chromo.append(pop_after_fit[0])\n",
        "        best_score.append(scores[0])\n",
        "    return best_chromo,best_score"
      ]
    },
    {
      "cell_type": "code",
      "execution_count": 12,
      "id": "c55f8522",
      "metadata": {
        "colab": {
          "base_uri": "https://localhost:8080/",
          "height": 75
        },
        "id": "c55f8522",
        "outputId": "cffebe51-4f6b-4248-f2c3-75af8323434d"
      },
      "outputs": [
        {
          "output_type": "display_data",
          "data": {
            "text/plain": [
              "<IPython.core.display.HTML object>"
            ],
            "text/html": [
              "\n",
              "     <input type=\"file\" id=\"files-1fa28918-3353-4e12-89bc-449644c07c43\" name=\"files[]\" multiple disabled\n",
              "        style=\"border:none\" />\n",
              "     <output id=\"result-1fa28918-3353-4e12-89bc-449644c07c43\">\n",
              "      Upload widget is only available when the cell has been executed in the\n",
              "      current browser session. Please rerun this cell to enable.\n",
              "      </output>\n",
              "      <script>// Copyright 2017 Google LLC\n",
              "//\n",
              "// Licensed under the Apache License, Version 2.0 (the \"License\");\n",
              "// you may not use this file except in compliance with the License.\n",
              "// You may obtain a copy of the License at\n",
              "//\n",
              "//      http://www.apache.org/licenses/LICENSE-2.0\n",
              "//\n",
              "// Unless required by applicable law or agreed to in writing, software\n",
              "// distributed under the License is distributed on an \"AS IS\" BASIS,\n",
              "// WITHOUT WARRANTIES OR CONDITIONS OF ANY KIND, either express or implied.\n",
              "// See the License for the specific language governing permissions and\n",
              "// limitations under the License.\n",
              "\n",
              "/**\n",
              " * @fileoverview Helpers for google.colab Python module.\n",
              " */\n",
              "(function(scope) {\n",
              "function span(text, styleAttributes = {}) {\n",
              "  const element = document.createElement('span');\n",
              "  element.textContent = text;\n",
              "  for (const key of Object.keys(styleAttributes)) {\n",
              "    element.style[key] = styleAttributes[key];\n",
              "  }\n",
              "  return element;\n",
              "}\n",
              "\n",
              "// Max number of bytes which will be uploaded at a time.\n",
              "const MAX_PAYLOAD_SIZE = 100 * 1024;\n",
              "\n",
              "function _uploadFiles(inputId, outputId) {\n",
              "  const steps = uploadFilesStep(inputId, outputId);\n",
              "  const outputElement = document.getElementById(outputId);\n",
              "  // Cache steps on the outputElement to make it available for the next call\n",
              "  // to uploadFilesContinue from Python.\n",
              "  outputElement.steps = steps;\n",
              "\n",
              "  return _uploadFilesContinue(outputId);\n",
              "}\n",
              "\n",
              "// This is roughly an async generator (not supported in the browser yet),\n",
              "// where there are multiple asynchronous steps and the Python side is going\n",
              "// to poll for completion of each step.\n",
              "// This uses a Promise to block the python side on completion of each step,\n",
              "// then passes the result of the previous step as the input to the next step.\n",
              "function _uploadFilesContinue(outputId) {\n",
              "  const outputElement = document.getElementById(outputId);\n",
              "  const steps = outputElement.steps;\n",
              "\n",
              "  const next = steps.next(outputElement.lastPromiseValue);\n",
              "  return Promise.resolve(next.value.promise).then((value) => {\n",
              "    // Cache the last promise value to make it available to the next\n",
              "    // step of the generator.\n",
              "    outputElement.lastPromiseValue = value;\n",
              "    return next.value.response;\n",
              "  });\n",
              "}\n",
              "\n",
              "/**\n",
              " * Generator function which is called between each async step of the upload\n",
              " * process.\n",
              " * @param {string} inputId Element ID of the input file picker element.\n",
              " * @param {string} outputId Element ID of the output display.\n",
              " * @return {!Iterable<!Object>} Iterable of next steps.\n",
              " */\n",
              "function* uploadFilesStep(inputId, outputId) {\n",
              "  const inputElement = document.getElementById(inputId);\n",
              "  inputElement.disabled = false;\n",
              "\n",
              "  const outputElement = document.getElementById(outputId);\n",
              "  outputElement.innerHTML = '';\n",
              "\n",
              "  const pickedPromise = new Promise((resolve) => {\n",
              "    inputElement.addEventListener('change', (e) => {\n",
              "      resolve(e.target.files);\n",
              "    });\n",
              "  });\n",
              "\n",
              "  const cancel = document.createElement('button');\n",
              "  inputElement.parentElement.appendChild(cancel);\n",
              "  cancel.textContent = 'Cancel upload';\n",
              "  const cancelPromise = new Promise((resolve) => {\n",
              "    cancel.onclick = () => {\n",
              "      resolve(null);\n",
              "    };\n",
              "  });\n",
              "\n",
              "  // Wait for the user to pick the files.\n",
              "  const files = yield {\n",
              "    promise: Promise.race([pickedPromise, cancelPromise]),\n",
              "    response: {\n",
              "      action: 'starting',\n",
              "    }\n",
              "  };\n",
              "\n",
              "  cancel.remove();\n",
              "\n",
              "  // Disable the input element since further picks are not allowed.\n",
              "  inputElement.disabled = true;\n",
              "\n",
              "  if (!files) {\n",
              "    return {\n",
              "      response: {\n",
              "        action: 'complete',\n",
              "      }\n",
              "    };\n",
              "  }\n",
              "\n",
              "  for (const file of files) {\n",
              "    const li = document.createElement('li');\n",
              "    li.append(span(file.name, {fontWeight: 'bold'}));\n",
              "    li.append(span(\n",
              "        `(${file.type || 'n/a'}) - ${file.size} bytes, ` +\n",
              "        `last modified: ${\n",
              "            file.lastModifiedDate ? file.lastModifiedDate.toLocaleDateString() :\n",
              "                                    'n/a'} - `));\n",
              "    const percent = span('0% done');\n",
              "    li.appendChild(percent);\n",
              "\n",
              "    outputElement.appendChild(li);\n",
              "\n",
              "    const fileDataPromise = new Promise((resolve) => {\n",
              "      const reader = new FileReader();\n",
              "      reader.onload = (e) => {\n",
              "        resolve(e.target.result);\n",
              "      };\n",
              "      reader.readAsArrayBuffer(file);\n",
              "    });\n",
              "    // Wait for the data to be ready.\n",
              "    let fileData = yield {\n",
              "      promise: fileDataPromise,\n",
              "      response: {\n",
              "        action: 'continue',\n",
              "      }\n",
              "    };\n",
              "\n",
              "    // Use a chunked sending to avoid message size limits. See b/62115660.\n",
              "    let position = 0;\n",
              "    do {\n",
              "      const length = Math.min(fileData.byteLength - position, MAX_PAYLOAD_SIZE);\n",
              "      const chunk = new Uint8Array(fileData, position, length);\n",
              "      position += length;\n",
              "\n",
              "      const base64 = btoa(String.fromCharCode.apply(null, chunk));\n",
              "      yield {\n",
              "        response: {\n",
              "          action: 'append',\n",
              "          file: file.name,\n",
              "          data: base64,\n",
              "        },\n",
              "      };\n",
              "\n",
              "      let percentDone = fileData.byteLength === 0 ?\n",
              "          100 :\n",
              "          Math.round((position / fileData.byteLength) * 100);\n",
              "      percent.textContent = `${percentDone}% done`;\n",
              "\n",
              "    } while (position < fileData.byteLength);\n",
              "  }\n",
              "\n",
              "  // All done.\n",
              "  yield {\n",
              "    response: {\n",
              "      action: 'complete',\n",
              "    }\n",
              "  };\n",
              "}\n",
              "\n",
              "scope.google = scope.google || {};\n",
              "scope.google.colab = scope.google.colab || {};\n",
              "scope.google.colab._files = {\n",
              "  _uploadFiles,\n",
              "  _uploadFilesContinue,\n",
              "};\n",
              "})(self);\n",
              "</script> "
            ]
          },
          "metadata": {}
        },
        {
          "output_type": "stream",
          "name": "stdout",
          "text": [
            "Saving diabetes_data.csv to diabetes_data.csv\n"
          ]
        }
      ],
      "source": [
        "from google.colab import files\n",
        "uploaded = files.upload()"
      ]
    },
    {
      "cell_type": "code",
      "execution_count": 13,
      "id": "effd76dd",
      "metadata": {
        "colab": {
          "base_uri": "https://localhost:8080/"
        },
        "id": "effd76dd",
        "outputId": "312fce7c-b045-4388-a3b7-b895af6b89c7"
      },
      "outputs": [
        {
          "output_type": "stream",
          "name": "stdout",
          "text": [
            "Diabetes disease dataset:\n",
            " 1000 Records\n",
            " 14 Features\n"
          ]
        }
      ],
      "source": [
        "data_db = pd.read_csv(\"diabetes_data.csv\").sample(frac = 1).reset_index(drop = True).drop([])\n",
        "label_db = data_db[\"CLASS\"]\n",
        "\n",
        "\n",
        "print(\"Diabetes disease dataset:\\n\",data_db.shape[0],\"Records\\n\",data_db.shape[1],\"Features\")\n"
      ]
    },
    {
      "cell_type": "code",
      "execution_count": null,
      "id": "aa2548f1",
      "metadata": {
        "id": "aa2548f1"
      },
      "outputs": [],
      "source": []
    },
    {
      "cell_type": "code",
      "execution_count": 14,
      "id": "d09629f6",
      "metadata": {
        "id": "d09629f6"
      },
      "outputs": [],
      "source": [
        "#data cleaning\n",
        "data_db['CLASS'] = [2 if CLASS.strip() == 'Y' else 0 if CLASS.strip() == 'N' else 1 for CLASS in data_db['CLASS']]\n",
        "data_db['Gender'] = [0 if Gender.strip() in ['f', 'F'] else 1 if Gender.strip() == 'M' else None for Gender in data_db['Gender']]"
      ]
    },
    {
      "cell_type": "code",
      "execution_count": 15,
      "id": "c9960141",
      "metadata": {
        "colab": {
          "base_uri": "https://localhost:8080/",
          "height": 300
        },
        "id": "c9960141",
        "outputId": "19213f7e-8090-4667-b9c5-f3de94e7c7cd"
      },
      "outputs": [
        {
          "output_type": "execute_result",
          "data": {
            "text/plain": [
              "    ID  No_Pation  Gender  AGE  Urea  Cr  HbA1c  Chol   TG  HDL  LDL  VLDL  \\\n",
              "0   15      65455       0   53   4.3  44    8.8   5.8  1.7  1.1  3.9   0.9   \n",
              "1  138      34246       0   48   7.5  82    5.4   3.2  1.8  1.6  0.9   0.8   \n",
              "2  226      34548       0   61   7.1  45   13.6   6.6  2.6  1.1  4.4   1.1   \n",
              "3  697      34495       0   51   4.5  34   10.4   4.7  2.5  3.4  1.1   1.5   \n",
              "4  275      24063       1   55   2.9  44    9.8   4.1  1.0  1.1  2.1   0.5   \n",
              "5  571      34521       1   52   7.5  90   10.5   3.0  1.5  0.6  2.2   0.7   \n",
              "6  756      34532       1   52   6.0  72   10.5   5.7  3.6  1.0  1.7   2.0   \n",
              "7  766      34446       0   56   5.6  46    9.1   5.6  5.8  1.6  1.7   1.0   \n",
              "\n",
              "    BMI  CLASS  \n",
              "0  38.0      2  \n",
              "1  23.0      0  \n",
              "2  31.0      2  \n",
              "3  37.0      2  \n",
              "4  29.0      2  \n",
              "5  35.0      2  \n",
              "6  30.0      2  \n",
              "7  35.0      2  "
            ],
            "text/html": [
              "\n",
              "  <div id=\"df-736658d4-600a-4afc-86eb-1f406e2bdd79\">\n",
              "    <div class=\"colab-df-container\">\n",
              "      <div>\n",
              "<style scoped>\n",
              "    .dataframe tbody tr th:only-of-type {\n",
              "        vertical-align: middle;\n",
              "    }\n",
              "\n",
              "    .dataframe tbody tr th {\n",
              "        vertical-align: top;\n",
              "    }\n",
              "\n",
              "    .dataframe thead th {\n",
              "        text-align: right;\n",
              "    }\n",
              "</style>\n",
              "<table border=\"1\" class=\"dataframe\">\n",
              "  <thead>\n",
              "    <tr style=\"text-align: right;\">\n",
              "      <th></th>\n",
              "      <th>ID</th>\n",
              "      <th>No_Pation</th>\n",
              "      <th>Gender</th>\n",
              "      <th>AGE</th>\n",
              "      <th>Urea</th>\n",
              "      <th>Cr</th>\n",
              "      <th>HbA1c</th>\n",
              "      <th>Chol</th>\n",
              "      <th>TG</th>\n",
              "      <th>HDL</th>\n",
              "      <th>LDL</th>\n",
              "      <th>VLDL</th>\n",
              "      <th>BMI</th>\n",
              "      <th>CLASS</th>\n",
              "    </tr>\n",
              "  </thead>\n",
              "  <tbody>\n",
              "    <tr>\n",
              "      <th>0</th>\n",
              "      <td>15</td>\n",
              "      <td>65455</td>\n",
              "      <td>0</td>\n",
              "      <td>53</td>\n",
              "      <td>4.3</td>\n",
              "      <td>44</td>\n",
              "      <td>8.8</td>\n",
              "      <td>5.8</td>\n",
              "      <td>1.7</td>\n",
              "      <td>1.1</td>\n",
              "      <td>3.9</td>\n",
              "      <td>0.9</td>\n",
              "      <td>38.0</td>\n",
              "      <td>2</td>\n",
              "    </tr>\n",
              "    <tr>\n",
              "      <th>1</th>\n",
              "      <td>138</td>\n",
              "      <td>34246</td>\n",
              "      <td>0</td>\n",
              "      <td>48</td>\n",
              "      <td>7.5</td>\n",
              "      <td>82</td>\n",
              "      <td>5.4</td>\n",
              "      <td>3.2</td>\n",
              "      <td>1.8</td>\n",
              "      <td>1.6</td>\n",
              "      <td>0.9</td>\n",
              "      <td>0.8</td>\n",
              "      <td>23.0</td>\n",
              "      <td>0</td>\n",
              "    </tr>\n",
              "    <tr>\n",
              "      <th>2</th>\n",
              "      <td>226</td>\n",
              "      <td>34548</td>\n",
              "      <td>0</td>\n",
              "      <td>61</td>\n",
              "      <td>7.1</td>\n",
              "      <td>45</td>\n",
              "      <td>13.6</td>\n",
              "      <td>6.6</td>\n",
              "      <td>2.6</td>\n",
              "      <td>1.1</td>\n",
              "      <td>4.4</td>\n",
              "      <td>1.1</td>\n",
              "      <td>31.0</td>\n",
              "      <td>2</td>\n",
              "    </tr>\n",
              "    <tr>\n",
              "      <th>3</th>\n",
              "      <td>697</td>\n",
              "      <td>34495</td>\n",
              "      <td>0</td>\n",
              "      <td>51</td>\n",
              "      <td>4.5</td>\n",
              "      <td>34</td>\n",
              "      <td>10.4</td>\n",
              "      <td>4.7</td>\n",
              "      <td>2.5</td>\n",
              "      <td>3.4</td>\n",
              "      <td>1.1</td>\n",
              "      <td>1.5</td>\n",
              "      <td>37.0</td>\n",
              "      <td>2</td>\n",
              "    </tr>\n",
              "    <tr>\n",
              "      <th>4</th>\n",
              "      <td>275</td>\n",
              "      <td>24063</td>\n",
              "      <td>1</td>\n",
              "      <td>55</td>\n",
              "      <td>2.9</td>\n",
              "      <td>44</td>\n",
              "      <td>9.8</td>\n",
              "      <td>4.1</td>\n",
              "      <td>1.0</td>\n",
              "      <td>1.1</td>\n",
              "      <td>2.1</td>\n",
              "      <td>0.5</td>\n",
              "      <td>29.0</td>\n",
              "      <td>2</td>\n",
              "    </tr>\n",
              "    <tr>\n",
              "      <th>5</th>\n",
              "      <td>571</td>\n",
              "      <td>34521</td>\n",
              "      <td>1</td>\n",
              "      <td>52</td>\n",
              "      <td>7.5</td>\n",
              "      <td>90</td>\n",
              "      <td>10.5</td>\n",
              "      <td>3.0</td>\n",
              "      <td>1.5</td>\n",
              "      <td>0.6</td>\n",
              "      <td>2.2</td>\n",
              "      <td>0.7</td>\n",
              "      <td>35.0</td>\n",
              "      <td>2</td>\n",
              "    </tr>\n",
              "    <tr>\n",
              "      <th>6</th>\n",
              "      <td>756</td>\n",
              "      <td>34532</td>\n",
              "      <td>1</td>\n",
              "      <td>52</td>\n",
              "      <td>6.0</td>\n",
              "      <td>72</td>\n",
              "      <td>10.5</td>\n",
              "      <td>5.7</td>\n",
              "      <td>3.6</td>\n",
              "      <td>1.0</td>\n",
              "      <td>1.7</td>\n",
              "      <td>2.0</td>\n",
              "      <td>30.0</td>\n",
              "      <td>2</td>\n",
              "    </tr>\n",
              "    <tr>\n",
              "      <th>7</th>\n",
              "      <td>766</td>\n",
              "      <td>34446</td>\n",
              "      <td>0</td>\n",
              "      <td>56</td>\n",
              "      <td>5.6</td>\n",
              "      <td>46</td>\n",
              "      <td>9.1</td>\n",
              "      <td>5.6</td>\n",
              "      <td>5.8</td>\n",
              "      <td>1.6</td>\n",
              "      <td>1.7</td>\n",
              "      <td>1.0</td>\n",
              "      <td>35.0</td>\n",
              "      <td>2</td>\n",
              "    </tr>\n",
              "  </tbody>\n",
              "</table>\n",
              "</div>\n",
              "      <button class=\"colab-df-convert\" onclick=\"convertToInteractive('df-736658d4-600a-4afc-86eb-1f406e2bdd79')\"\n",
              "              title=\"Convert this dataframe to an interactive table.\"\n",
              "              style=\"display:none;\">\n",
              "        \n",
              "  <svg xmlns=\"http://www.w3.org/2000/svg\" height=\"24px\"viewBox=\"0 0 24 24\"\n",
              "       width=\"24px\">\n",
              "    <path d=\"M0 0h24v24H0V0z\" fill=\"none\"/>\n",
              "    <path d=\"M18.56 5.44l.94 2.06.94-2.06 2.06-.94-2.06-.94-.94-2.06-.94 2.06-2.06.94zm-11 1L8.5 8.5l.94-2.06 2.06-.94-2.06-.94L8.5 2.5l-.94 2.06-2.06.94zm10 10l.94 2.06.94-2.06 2.06-.94-2.06-.94-.94-2.06-.94 2.06-2.06.94z\"/><path d=\"M17.41 7.96l-1.37-1.37c-.4-.4-.92-.59-1.43-.59-.52 0-1.04.2-1.43.59L10.3 9.45l-7.72 7.72c-.78.78-.78 2.05 0 2.83L4 21.41c.39.39.9.59 1.41.59.51 0 1.02-.2 1.41-.59l7.78-7.78 2.81-2.81c.8-.78.8-2.07 0-2.86zM5.41 20L4 18.59l7.72-7.72 1.47 1.35L5.41 20z\"/>\n",
              "  </svg>\n",
              "      </button>\n",
              "      \n",
              "  <style>\n",
              "    .colab-df-container {\n",
              "      display:flex;\n",
              "      flex-wrap:wrap;\n",
              "      gap: 12px;\n",
              "    }\n",
              "\n",
              "    .colab-df-convert {\n",
              "      background-color: #E8F0FE;\n",
              "      border: none;\n",
              "      border-radius: 50%;\n",
              "      cursor: pointer;\n",
              "      display: none;\n",
              "      fill: #1967D2;\n",
              "      height: 32px;\n",
              "      padding: 0 0 0 0;\n",
              "      width: 32px;\n",
              "    }\n",
              "\n",
              "    .colab-df-convert:hover {\n",
              "      background-color: #E2EBFA;\n",
              "      box-shadow: 0px 1px 2px rgba(60, 64, 67, 0.3), 0px 1px 3px 1px rgba(60, 64, 67, 0.15);\n",
              "      fill: #174EA6;\n",
              "    }\n",
              "\n",
              "    [theme=dark] .colab-df-convert {\n",
              "      background-color: #3B4455;\n",
              "      fill: #D2E3FC;\n",
              "    }\n",
              "\n",
              "    [theme=dark] .colab-df-convert:hover {\n",
              "      background-color: #434B5C;\n",
              "      box-shadow: 0px 1px 3px 1px rgba(0, 0, 0, 0.15);\n",
              "      filter: drop-shadow(0px 1px 2px rgba(0, 0, 0, 0.3));\n",
              "      fill: #FFFFFF;\n",
              "    }\n",
              "  </style>\n",
              "\n",
              "      <script>\n",
              "        const buttonEl =\n",
              "          document.querySelector('#df-736658d4-600a-4afc-86eb-1f406e2bdd79 button.colab-df-convert');\n",
              "        buttonEl.style.display =\n",
              "          google.colab.kernel.accessAllowed ? 'block' : 'none';\n",
              "\n",
              "        async function convertToInteractive(key) {\n",
              "          const element = document.querySelector('#df-736658d4-600a-4afc-86eb-1f406e2bdd79');\n",
              "          const dataTable =\n",
              "            await google.colab.kernel.invokeFunction('convertToInteractive',\n",
              "                                                     [key], {});\n",
              "          if (!dataTable) return;\n",
              "\n",
              "          const docLinkHtml = 'Like what you see? Visit the ' +\n",
              "            '<a target=\"_blank\" href=https://colab.research.google.com/notebooks/data_table.ipynb>data table notebook</a>'\n",
              "            + ' to learn more about interactive tables.';\n",
              "          element.innerHTML = '';\n",
              "          dataTable['output_type'] = 'display_data';\n",
              "          await google.colab.output.renderOutput(dataTable, element);\n",
              "          const docLink = document.createElement('div');\n",
              "          docLink.innerHTML = docLinkHtml;\n",
              "          element.appendChild(docLink);\n",
              "        }\n",
              "      </script>\n",
              "    </div>\n",
              "  </div>\n",
              "  "
            ]
          },
          "metadata": {},
          "execution_count": 15
        }
      ],
      "source": [
        "data_db.head(8)"
      ]
    },
    {
      "cell_type": "code",
      "source": [
        "# Split dataset into input and output variables\n",
        "X = data_db.iloc[:, 0:13]\n",
        "Y = data_db.iloc[:, 13]\n",
        "\n"
      ],
      "metadata": {
        "id": "oiLovFZQcGeL"
      },
      "id": "oiLovFZQcGeL",
      "execution_count": 16,
      "outputs": []
    },
    {
      "cell_type": "code",
      "source": [
        "#performing feature selection to pick the mose prevalent variables\n",
        "from sklearn.tree import DecisionTreeClassifier\n",
        "from sklearn.model_selection import train_test_split\n",
        "\n",
        "\n",
        "\n",
        "# Split the data into training and testing sets\n",
        "X_train, X_test, y_train, y_test = train_test_split(X, Y, random_state=1)\n",
        "\n",
        "# Train a decision tree classifier on the training set\n",
        "dtc = DecisionTreeClassifier(random_state=0)\n",
        "dtc.fit(X_train, y_train)\n",
        "\n",
        "# Print the feature importances\n",
        "print(\"Feature importances:\\n{}\".format(dtc.feature_importances_))\n",
        "\n",
        "# Select the most important features\n",
        "important_features = [i for i in dtc.feature_importances_.tolist() if i > 0.0]\n",
        "#X_train_reduced = X_train[:, important_features]\n",
        "#X_test_reduced = X_test[:, important_features]"
      ],
      "metadata": {
        "colab": {
          "base_uri": "https://localhost:8080/"
        },
        "id": "9AiDWizycRpg",
        "outputId": "cb470dfa-a41a-46c5-ba71-58ae0c7b2f3d"
      },
      "id": "9AiDWizycRpg",
      "execution_count": 17,
      "outputs": [
        {
          "output_type": "stream",
          "name": "stdout",
          "text": [
            "Feature importances:\n",
            "[0.         0.         0.         0.02917551 0.         0.00869207\n",
            " 0.30174032 0.08464725 0.05510666 0.0157745  0.         0.\n",
            " 0.50486368]\n"
          ]
        }
      ]
    },
    {
      "cell_type": "code",
      "source": [
        "reduced_data = data_db[['Gender', 'AGE', 'HbA1c', 'Chol', 'TG', 'VLDL', 'BMI', 'CLASS']]"
      ],
      "metadata": {
        "id": "NrheAoLicR6k"
      },
      "id": "NrheAoLicR6k",
      "execution_count": 18,
      "outputs": []
    },
    {
      "cell_type": "code",
      "source": [
        "#predicting the result using K-means classifier\n",
        "import pandas as pd\n",
        "import numpy as np\n",
        "from sklearn.cluster import KMeans\n",
        "from sklearn.preprocessing import StandardScaler\n",
        "import matplotlib.pyplot as plt\n",
        "%matplotlib inline"
      ],
      "metadata": {
        "id": "aYRH2zh5cSBE"
      },
      "id": "aYRH2zh5cSBE",
      "execution_count": 19,
      "outputs": []
    },
    {
      "cell_type": "code",
      "source": [
        "#Preparing the dataset\n",
        "X = reduced_data.drop(\"CLASS\", axis = 1)"
      ],
      "metadata": {
        "id": "csbXP1XGcSMB"
      },
      "id": "csbXP1XGcSMB",
      "execution_count": 20,
      "outputs": []
    },
    {
      "cell_type": "code",
      "source": [
        "scaler = StandardScaler()\n",
        "X = scaler.fit_transform(X)"
      ],
      "metadata": {
        "id": "uGw1UCAqfsg9"
      },
      "id": "uGw1UCAqfsg9",
      "execution_count": 21,
      "outputs": []
    },
    {
      "cell_type": "code",
      "source": [
        "X = pd.DataFrame(X)"
      ],
      "metadata": {
        "id": "HIdMiGODfyNX"
      },
      "id": "HIdMiGODfyNX",
      "execution_count": 22,
      "outputs": []
    },
    {
      "cell_type": "code",
      "source": [
        "X.columns = reduced_data.drop(\"CLASS\", axis = 1).columns"
      ],
      "metadata": {
        "id": "dqslaS9RBgDH"
      },
      "id": "dqslaS9RBgDH",
      "execution_count": 37,
      "outputs": []
    },
    {
      "cell_type": "code",
      "source": [
        "X"
      ],
      "metadata": {
        "colab": {
          "base_uri": "https://localhost:8080/",
          "height": 424
        },
        "id": "3VXx0Vd8CBmR",
        "outputId": "d4e3167c-5c37-4807-c99f-1e397042316a"
      },
      "id": "3VXx0Vd8CBmR",
      "execution_count": 38,
      "outputs": [
        {
          "output_type": "execute_result",
          "data": {
            "text/plain": [
              "       Gender       AGE     HbA1c      Chol        TG      VLDL       BMI\n",
              "0   -1.139671 -0.060035  0.204854  0.720306 -0.463850 -0.260721  1.698012\n",
              "1   -1.139671 -0.628550 -1.137568 -1.278024 -0.392445 -0.288030 -1.326239\n",
              "2   -1.139671  0.849589  2.100037  1.335176  0.178789 -0.206103  0.286695\n",
              "3   -1.139671 -0.287441  0.836582 -0.125142  0.107385 -0.096866  1.496395\n",
              "4    0.877446  0.167371  0.599684 -0.586295 -0.963680 -0.369958 -0.116538\n",
              "..        ...       ...       ...       ...       ...       ...       ...\n",
              "995  0.877446  0.394777 -0.782221 -0.509436  1.107046 -0.096866 -0.116538\n",
              "996  0.877446  0.167371 -0.150493  0.028576 -0.178232 -0.260721 -0.318155\n",
              "997 -1.139671 -1.310769 -0.111010  0.105435  0.107385 -0.069557  0.085078\n",
              "998  0.877446  1.531807 -0.466357 -1.662318 -0.963680 -0.369958  0.010480\n",
              "999  0.877446 -0.401144 -0.861187 -0.509436 -0.106828 -0.260721 -1.124622\n",
              "\n",
              "[1000 rows x 7 columns]"
            ],
            "text/html": [
              "\n",
              "  <div id=\"df-2752e916-89d9-428e-8ae0-25cd56b79cb5\">\n",
              "    <div class=\"colab-df-container\">\n",
              "      <div>\n",
              "<style scoped>\n",
              "    .dataframe tbody tr th:only-of-type {\n",
              "        vertical-align: middle;\n",
              "    }\n",
              "\n",
              "    .dataframe tbody tr th {\n",
              "        vertical-align: top;\n",
              "    }\n",
              "\n",
              "    .dataframe thead th {\n",
              "        text-align: right;\n",
              "    }\n",
              "</style>\n",
              "<table border=\"1\" class=\"dataframe\">\n",
              "  <thead>\n",
              "    <tr style=\"text-align: right;\">\n",
              "      <th></th>\n",
              "      <th>Gender</th>\n",
              "      <th>AGE</th>\n",
              "      <th>HbA1c</th>\n",
              "      <th>Chol</th>\n",
              "      <th>TG</th>\n",
              "      <th>VLDL</th>\n",
              "      <th>BMI</th>\n",
              "    </tr>\n",
              "  </thead>\n",
              "  <tbody>\n",
              "    <tr>\n",
              "      <th>0</th>\n",
              "      <td>-1.139671</td>\n",
              "      <td>-0.060035</td>\n",
              "      <td>0.204854</td>\n",
              "      <td>0.720306</td>\n",
              "      <td>-0.463850</td>\n",
              "      <td>-0.260721</td>\n",
              "      <td>1.698012</td>\n",
              "    </tr>\n",
              "    <tr>\n",
              "      <th>1</th>\n",
              "      <td>-1.139671</td>\n",
              "      <td>-0.628550</td>\n",
              "      <td>-1.137568</td>\n",
              "      <td>-1.278024</td>\n",
              "      <td>-0.392445</td>\n",
              "      <td>-0.288030</td>\n",
              "      <td>-1.326239</td>\n",
              "    </tr>\n",
              "    <tr>\n",
              "      <th>2</th>\n",
              "      <td>-1.139671</td>\n",
              "      <td>0.849589</td>\n",
              "      <td>2.100037</td>\n",
              "      <td>1.335176</td>\n",
              "      <td>0.178789</td>\n",
              "      <td>-0.206103</td>\n",
              "      <td>0.286695</td>\n",
              "    </tr>\n",
              "    <tr>\n",
              "      <th>3</th>\n",
              "      <td>-1.139671</td>\n",
              "      <td>-0.287441</td>\n",
              "      <td>0.836582</td>\n",
              "      <td>-0.125142</td>\n",
              "      <td>0.107385</td>\n",
              "      <td>-0.096866</td>\n",
              "      <td>1.496395</td>\n",
              "    </tr>\n",
              "    <tr>\n",
              "      <th>4</th>\n",
              "      <td>0.877446</td>\n",
              "      <td>0.167371</td>\n",
              "      <td>0.599684</td>\n",
              "      <td>-0.586295</td>\n",
              "      <td>-0.963680</td>\n",
              "      <td>-0.369958</td>\n",
              "      <td>-0.116538</td>\n",
              "    </tr>\n",
              "    <tr>\n",
              "      <th>...</th>\n",
              "      <td>...</td>\n",
              "      <td>...</td>\n",
              "      <td>...</td>\n",
              "      <td>...</td>\n",
              "      <td>...</td>\n",
              "      <td>...</td>\n",
              "      <td>...</td>\n",
              "    </tr>\n",
              "    <tr>\n",
              "      <th>995</th>\n",
              "      <td>0.877446</td>\n",
              "      <td>0.394777</td>\n",
              "      <td>-0.782221</td>\n",
              "      <td>-0.509436</td>\n",
              "      <td>1.107046</td>\n",
              "      <td>-0.096866</td>\n",
              "      <td>-0.116538</td>\n",
              "    </tr>\n",
              "    <tr>\n",
              "      <th>996</th>\n",
              "      <td>0.877446</td>\n",
              "      <td>0.167371</td>\n",
              "      <td>-0.150493</td>\n",
              "      <td>0.028576</td>\n",
              "      <td>-0.178232</td>\n",
              "      <td>-0.260721</td>\n",
              "      <td>-0.318155</td>\n",
              "    </tr>\n",
              "    <tr>\n",
              "      <th>997</th>\n",
              "      <td>-1.139671</td>\n",
              "      <td>-1.310769</td>\n",
              "      <td>-0.111010</td>\n",
              "      <td>0.105435</td>\n",
              "      <td>0.107385</td>\n",
              "      <td>-0.069557</td>\n",
              "      <td>0.085078</td>\n",
              "    </tr>\n",
              "    <tr>\n",
              "      <th>998</th>\n",
              "      <td>0.877446</td>\n",
              "      <td>1.531807</td>\n",
              "      <td>-0.466357</td>\n",
              "      <td>-1.662318</td>\n",
              "      <td>-0.963680</td>\n",
              "      <td>-0.369958</td>\n",
              "      <td>0.010480</td>\n",
              "    </tr>\n",
              "    <tr>\n",
              "      <th>999</th>\n",
              "      <td>0.877446</td>\n",
              "      <td>-0.401144</td>\n",
              "      <td>-0.861187</td>\n",
              "      <td>-0.509436</td>\n",
              "      <td>-0.106828</td>\n",
              "      <td>-0.260721</td>\n",
              "      <td>-1.124622</td>\n",
              "    </tr>\n",
              "  </tbody>\n",
              "</table>\n",
              "<p>1000 rows × 7 columns</p>\n",
              "</div>\n",
              "      <button class=\"colab-df-convert\" onclick=\"convertToInteractive('df-2752e916-89d9-428e-8ae0-25cd56b79cb5')\"\n",
              "              title=\"Convert this dataframe to an interactive table.\"\n",
              "              style=\"display:none;\">\n",
              "        \n",
              "  <svg xmlns=\"http://www.w3.org/2000/svg\" height=\"24px\"viewBox=\"0 0 24 24\"\n",
              "       width=\"24px\">\n",
              "    <path d=\"M0 0h24v24H0V0z\" fill=\"none\"/>\n",
              "    <path d=\"M18.56 5.44l.94 2.06.94-2.06 2.06-.94-2.06-.94-.94-2.06-.94 2.06-2.06.94zm-11 1L8.5 8.5l.94-2.06 2.06-.94-2.06-.94L8.5 2.5l-.94 2.06-2.06.94zm10 10l.94 2.06.94-2.06 2.06-.94-2.06-.94-.94-2.06-.94 2.06-2.06.94z\"/><path d=\"M17.41 7.96l-1.37-1.37c-.4-.4-.92-.59-1.43-.59-.52 0-1.04.2-1.43.59L10.3 9.45l-7.72 7.72c-.78.78-.78 2.05 0 2.83L4 21.41c.39.39.9.59 1.41.59.51 0 1.02-.2 1.41-.59l7.78-7.78 2.81-2.81c.8-.78.8-2.07 0-2.86zM5.41 20L4 18.59l7.72-7.72 1.47 1.35L5.41 20z\"/>\n",
              "  </svg>\n",
              "      </button>\n",
              "      \n",
              "  <style>\n",
              "    .colab-df-container {\n",
              "      display:flex;\n",
              "      flex-wrap:wrap;\n",
              "      gap: 12px;\n",
              "    }\n",
              "\n",
              "    .colab-df-convert {\n",
              "      background-color: #E8F0FE;\n",
              "      border: none;\n",
              "      border-radius: 50%;\n",
              "      cursor: pointer;\n",
              "      display: none;\n",
              "      fill: #1967D2;\n",
              "      height: 32px;\n",
              "      padding: 0 0 0 0;\n",
              "      width: 32px;\n",
              "    }\n",
              "\n",
              "    .colab-df-convert:hover {\n",
              "      background-color: #E2EBFA;\n",
              "      box-shadow: 0px 1px 2px rgba(60, 64, 67, 0.3), 0px 1px 3px 1px rgba(60, 64, 67, 0.15);\n",
              "      fill: #174EA6;\n",
              "    }\n",
              "\n",
              "    [theme=dark] .colab-df-convert {\n",
              "      background-color: #3B4455;\n",
              "      fill: #D2E3FC;\n",
              "    }\n",
              "\n",
              "    [theme=dark] .colab-df-convert:hover {\n",
              "      background-color: #434B5C;\n",
              "      box-shadow: 0px 1px 3px 1px rgba(0, 0, 0, 0.15);\n",
              "      filter: drop-shadow(0px 1px 2px rgba(0, 0, 0, 0.3));\n",
              "      fill: #FFFFFF;\n",
              "    }\n",
              "  </style>\n",
              "\n",
              "      <script>\n",
              "        const buttonEl =\n",
              "          document.querySelector('#df-2752e916-89d9-428e-8ae0-25cd56b79cb5 button.colab-df-convert');\n",
              "        buttonEl.style.display =\n",
              "          google.colab.kernel.accessAllowed ? 'block' : 'none';\n",
              "\n",
              "        async function convertToInteractive(key) {\n",
              "          const element = document.querySelector('#df-2752e916-89d9-428e-8ae0-25cd56b79cb5');\n",
              "          const dataTable =\n",
              "            await google.colab.kernel.invokeFunction('convertToInteractive',\n",
              "                                                     [key], {});\n",
              "          if (!dataTable) return;\n",
              "\n",
              "          const docLinkHtml = 'Like what you see? Visit the ' +\n",
              "            '<a target=\"_blank\" href=https://colab.research.google.com/notebooks/data_table.ipynb>data table notebook</a>'\n",
              "            + ' to learn more about interactive tables.';\n",
              "          element.innerHTML = '';\n",
              "          dataTable['output_type'] = 'display_data';\n",
              "          await google.colab.output.renderOutput(dataTable, element);\n",
              "          const docLink = document.createElement('div');\n",
              "          docLink.innerHTML = docLinkHtml;\n",
              "          element.appendChild(docLink);\n",
              "        }\n",
              "      </script>\n",
              "    </div>\n",
              "  </div>\n",
              "  "
            ]
          },
          "metadata": {},
          "execution_count": 38
        }
      ]
    },
    {
      "cell_type": "code",
      "source": [
        "wcss = []\n",
        "for i in range(1, 11):\n",
        "    kmeans = KMeans(n_clusters=i, init='k-means++', random_state=42)\n",
        "    kmeans.fit(X)\n",
        "    wcss.append(kmeans.inertia_)\n",
        "plt.plot(range(1, 11), wcss)\n",
        "plt.title('Elbow Method')\n",
        "plt.xlabel('Number of clusters')\n",
        "plt.ylabel('WCSS')\n",
        "plt.show()"
      ],
      "metadata": {
        "colab": {
          "base_uri": "https://localhost:8080/",
          "height": 472
        },
        "id": "mJZm2R9Ug3f2",
        "outputId": "e7b3aa52-265a-47fe-9b45-ef8923747bcb"
      },
      "id": "mJZm2R9Ug3f2",
      "execution_count": null,
      "outputs": [
        {
          "output_type": "display_data",
          "data": {
            "text/plain": [
              "<Figure size 640x480 with 1 Axes>"
            ],
            "image/png": "[encoded data removed]"
          },
          "metadata": {}
        }
      ]
    },
    {
      "cell_type": "code",
      "source": [
        "kmeans = KMeans(n_clusters=3, init='k-means++', random_state=42)\n",
        "kmeans.fit(X)"
      ],
      "metadata": {
        "colab": {
          "base_uri": "https://localhost:8080/",
          "height": 75
        },
        "id": "8P8lEYQNg3vw",
        "outputId": "5ca36ee8-250b-41bd-e007-188c24072e3e"
      },
      "id": "8P8lEYQNg3vw",
      "execution_count": null,
      "outputs": [
        {
          "output_type": "execute_result",
          "data": {
            "text/plain": [
              "KMeans(n_clusters=3, random_state=42)"
            ],
            "text/html": [
              "<style>#sk-container-id-1 {color: black;background-color: white;}#sk-container-id-1 pre{padding: 0;}#sk-container-id-1 div.sk-toggleable {background-color: white;}#sk-container-id-1 label.sk-toggleable__label {cursor: pointer;display: block;width: 100%;margin-bottom: 0;padding: 0.3em;box-sizing: border-box;text-align: center;}#sk-container-id-1 label.sk-toggleable__label-arrow:before {content: \"▸\";float: left;margin-right: 0.25em;color: #696969;}#sk-container-id-1 label.sk-toggleable__label-arrow:hover:before {color: black;}#sk-container-id-1 div.sk-estimator:hover label.sk-toggleable__label-arrow:before {color: black;}#sk-container-id-1 div.sk-toggleable__content {max-height: 0;max-width: 0;overflow: hidden;text-align: left;background-color: #f0f8ff;}#sk-container-id-1 div.sk-toggleable__content pre {margin: 0.2em;color: black;border-radius: 0.25em;background-color: #f0f8ff;}#sk-container-id-1 input.sk-toggleable__control:checked~div.sk-toggleable__content {max-height: 200px;max-width: 100%;overflow: auto;}#sk-container-id-1 input.sk-toggleable__control:checked~label.sk-toggleable__label-arrow:before {content: \"▾\";}#sk-container-id-1 div.sk-estimator input.sk-toggleable__control:checked~label.sk-toggleable__label {background-color: #d4ebff;}#sk-container-id-1 div.sk-label input.sk-toggleable__control:checked~label.sk-toggleable__label {background-color: #d4ebff;}#sk-container-id-1 input.sk-hidden--visually {border: 0;clip: rect(1px 1px 1px 1px);clip: rect(1px, 1px, 1px, 1px);height: 1px;margin: -1px;overflow: hidden;padding: 0;position: absolute;width: 1px;}#sk-container-id-1 div.sk-estimator {font-family: monospace;background-color: #f0f8ff;border: 1px dotted black;border-radius: 0.25em;box-sizing: border-box;margin-bottom: 0.5em;}#sk-container-id-1 div.sk-estimator:hover {background-color: #d4ebff;}#sk-container-id-1 div.sk-parallel-item::after {content: \"\";width: 100%;border-bottom: 1px solid gray;flex-grow: 1;}#sk-container-id-1 div.sk-label:hover label.sk-toggleable__label {background-color: #d4ebff;}#sk-container-id-1 div.sk-serial::before {content: \"\";position: absolute;border-left: 1px solid gray;box-sizing: border-box;top: 0;bottom: 0;left: 50%;z-index: 0;}#sk-container-id-1 div.sk-serial {display: flex;flex-direction: column;align-items: center;background-color: white;padding-right: 0.2em;padding-left: 0.2em;position: relative;}#sk-container-id-1 div.sk-item {position: relative;z-index: 1;}#sk-container-id-1 div.sk-parallel {display: flex;align-items: stretch;justify-content: center;background-color: white;position: relative;}#sk-container-id-1 div.sk-item::before, #sk-container-id-1 div.sk-parallel-item::before {content: \"\";position: absolute;border-left: 1px solid gray;box-sizing: border-box;top: 0;bottom: 0;left: 50%;z-index: -1;}#sk-container-id-1 div.sk-parallel-item {display: flex;flex-direction: column;z-index: 1;position: relative;background-color: white;}#sk-container-id-1 div.sk-parallel-item:first-child::after {align-self: flex-end;width: 50%;}#sk-container-id-1 div.sk-parallel-item:last-child::after {align-self: flex-start;width: 50%;}#sk-container-id-1 div.sk-parallel-item:only-child::after {width: 0;}#sk-container-id-1 div.sk-dashed-wrapped {border: 1px dashed gray;margin: 0 0.4em 0.5em 0.4em;box-sizing: border-box;padding-bottom: 0.4em;background-color: white;}#sk-container-id-1 div.sk-label label {font-family: monospace;font-weight: bold;display: inline-block;line-height: 1.2em;}#sk-container-id-1 div.sk-label-container {text-align: center;}#sk-container-id-1 div.sk-container {/* jupyter's `normalize.less` sets `[hidden] { display: none; }` but bootstrap.min.css set `[hidden] { display: none !important; }` so we also need the `!important` here to be able to override the default hidden behavior on the sphinx rendered scikit-learn.org. See: https://github.com/scikit-learn/scikit-learn/issues/21755 */display: inline-block !important;position: relative;}#sk-container-id-1 div.sk-text-repr-fallback {display: none;}</style><div id=\"sk-container-id-1\" class=\"sk-top-container\"><div class=\"sk-text-repr-fallback\"><pre>KMeans(n_clusters=3, random_state=42)</pre><b>In a Jupyter environment, please rerun this cell to show the HTML representation or trust the notebook. <br />On GitHub, the HTML representation is unable to render, please try loading this page with nbviewer.org.</b></div><div class=\"sk-container\" hidden><div class=\"sk-item\"><div class=\"sk-estimator sk-toggleable\"><input class=\"sk-toggleable__control sk-hidden--visually\" id=\"sk-estimator-id-1\" type=\"checkbox\" checked><label for=\"sk-estimator-id-1\" class=\"sk-toggleable__label sk-toggleable__label-arrow\">KMeans</label><div class=\"sk-toggleable__content\"><pre>KMeans(n_clusters=3, random_state=42)</pre></div></div></div></div></div>"
            ]
          },
          "metadata": {},
          "execution_count": 26
        }
      ]
    },
    {
      "cell_type": "code",
      "source": [
        "labels = kmeans.predict(X)\n",
        "reduced_means = X.copy()"
      ],
      "metadata": {
        "id": "Hdu2u1vlhZPk"
      },
      "id": "Hdu2u1vlhZPk",
      "execution_count": null,
      "outputs": []
    },
    {
      "cell_type": "code",
      "source": [
        "reduced_means['Cluster'] = labels"
      ],
      "metadata": {
        "id": "3vjp0AxfhZYS"
      },
      "id": "3vjp0AxfhZYS",
      "execution_count": null,
      "outputs": []
    },
    {
      "cell_type": "code",
      "source": [
        "reduced_means = pd.DataFrame(X)"
      ],
      "metadata": {
        "id": "nIlPtwwxhuY1"
      },
      "id": "nIlPtwwxhuY1",
      "execution_count": null,
      "outputs": []
    },
    {
      "cell_type": "code",
      "source": [
        "reduced_means['CLASS'] = reduced_data.CLASS"
      ],
      "metadata": {
        "id": "5lR3b55-dtGM"
      },
      "id": "5lR3b55-dtGM",
      "execution_count": null,
      "outputs": []
    },
    {
      "cell_type": "code",
      "source": [
        "reduced_means.columns = reduced_data.columns"
      ],
      "metadata": {
        "id": "otZLDPm3eHQU"
      },
      "id": "otZLDPm3eHQU",
      "execution_count": null,
      "outputs": []
    },
    {
      "cell_type": "code",
      "source": [
        "reduced_means"
      ],
      "metadata": {
        "colab": {
          "base_uri": "https://localhost:8080/",
          "height": 424
        },
        "id": "6d4-Uk-reRNZ",
        "outputId": "c9c580b7-2de0-4698-b826-976c8d422be3"
      },
      "id": "6d4-Uk-reRNZ",
      "execution_count": null,
      "outputs": [
        {
          "output_type": "execute_result",
          "data": {
            "text/plain": [
              "          AGE     HbA1c      Chol        TG      VLDL       BMI\n",
              "0   -1.538175 -0.387391  0.643447  1.035641 -0.042247 -1.931089\n",
              "1    0.167371  0.086405  0.566588 -0.178232 -0.397267 -0.721389\n",
              "2    0.508480 -0.189976 -0.663153  1.107046 -0.124175 -0.318155\n",
              "3    0.622183 -0.900670 -0.509436 -0.249637 -0.124175  1.698012\n",
              "4    0.622183  0.678650  0.028576 -0.178232 -0.260721 -0.318155\n",
              "..        ...       ...       ...       ...       ...       ...\n",
              "995  0.167371 -0.505840  0.566588 -0.313901  3.071004  1.935920\n",
              "996 -2.675205 -1.650847  0.028576 -0.749467 -0.369958 -1.527855\n",
              "997 -0.401144 -0.940153  0.336011 -0.749467 -0.342649 -2.132706\n",
              "998  0.167371  0.204854 -0.278859 -0.678063 -0.342649 -0.721389\n",
              "999  0.281074  1.389343 -0.740012  0.535811 -0.124175  0.085078\n",
              "\n",
              "[1000 rows x 6 columns]"
            ],
            "text/html": [
              "\n",
              "  <div id=\"df-2f3450d2-f6d0-4384-90be-f6794eaac2b2\">\n",
              "    <div class=\"colab-df-container\">\n",
              "      <div>\n",
              "<style scoped>\n",
              "    .dataframe tbody tr th:only-of-type {\n",
              "        vertical-align: middle;\n",
              "    }\n",
              "\n",
              "    .dataframe tbody tr th {\n",
              "        vertical-align: top;\n",
              "    }\n",
              "\n",
              "    .dataframe thead th {\n",
              "        text-align: right;\n",
              "    }\n",
              "</style>\n",
              "<table border=\"1\" class=\"dataframe\">\n",
              "  <thead>\n",
              "    <tr style=\"text-align: right;\">\n",
              "      <th></th>\n",
              "      <th>AGE</th>\n",
              "      <th>HbA1c</th>\n",
              "      <th>Chol</th>\n",
              "      <th>TG</th>\n",
              "      <th>VLDL</th>\n",
              "      <th>BMI</th>\n",
              "    </tr>\n",
              "  </thead>\n",
              "  <tbody>\n",
              "    <tr>\n",
              "      <th>0</th>\n",
              "      <td>-1.538175</td>\n",
              "      <td>-0.387391</td>\n",
              "      <td>0.643447</td>\n",
              "      <td>1.035641</td>\n",
              "      <td>-0.042247</td>\n",
              "      <td>-1.931089</td>\n",
              "    </tr>\n",
              "    <tr>\n",
              "      <th>1</th>\n",
              "      <td>0.167371</td>\n",
              "      <td>0.086405</td>\n",
              "      <td>0.566588</td>\n",
              "      <td>-0.178232</td>\n",
              "      <td>-0.397267</td>\n",
              "      <td>-0.721389</td>\n",
              "    </tr>\n",
              "    <tr>\n",
              "      <th>2</th>\n",
              "      <td>0.508480</td>\n",
              "      <td>-0.189976</td>\n",
              "      <td>-0.663153</td>\n",
              "      <td>1.107046</td>\n",
              "      <td>-0.124175</td>\n",
              "      <td>-0.318155</td>\n",
              "    </tr>\n",
              "    <tr>\n",
              "      <th>3</th>\n",
              "      <td>0.622183</td>\n",
              "      <td>-0.900670</td>\n",
              "      <td>-0.509436</td>\n",
              "      <td>-0.249637</td>\n",
              "      <td>-0.124175</td>\n",
              "      <td>1.698012</td>\n",
              "    </tr>\n",
              "    <tr>\n",
              "      <th>4</th>\n",
              "      <td>0.622183</td>\n",
              "      <td>0.678650</td>\n",
              "      <td>0.028576</td>\n",
              "      <td>-0.178232</td>\n",
              "      <td>-0.260721</td>\n",
              "      <td>-0.318155</td>\n",
              "    </tr>\n",
              "    <tr>\n",
              "      <th>...</th>\n",
              "      <td>...</td>\n",
              "      <td>...</td>\n",
              "      <td>...</td>\n",
              "      <td>...</td>\n",
              "      <td>...</td>\n",
              "      <td>...</td>\n",
              "    </tr>\n",
              "    <tr>\n",
              "      <th>995</th>\n",
              "      <td>0.167371</td>\n",
              "      <td>-0.505840</td>\n",
              "      <td>0.566588</td>\n",
              "      <td>-0.313901</td>\n",
              "      <td>3.071004</td>\n",
              "      <td>1.935920</td>\n",
              "    </tr>\n",
              "    <tr>\n",
              "      <th>996</th>\n",
              "      <td>-2.675205</td>\n",
              "      <td>-1.650847</td>\n",
              "      <td>0.028576</td>\n",
              "      <td>-0.749467</td>\n",
              "      <td>-0.369958</td>\n",
              "      <td>-1.527855</td>\n",
              "    </tr>\n",
              "    <tr>\n",
              "      <th>997</th>\n",
              "      <td>-0.401144</td>\n",
              "      <td>-0.940153</td>\n",
              "      <td>0.336011</td>\n",
              "      <td>-0.749467</td>\n",
              "      <td>-0.342649</td>\n",
              "      <td>-2.132706</td>\n",
              "    </tr>\n",
              "    <tr>\n",
              "      <th>998</th>\n",
              "      <td>0.167371</td>\n",
              "      <td>0.204854</td>\n",
              "      <td>-0.278859</td>\n",
              "      <td>-0.678063</td>\n",
              "      <td>-0.342649</td>\n",
              "      <td>-0.721389</td>\n",
              "    </tr>\n",
              "    <tr>\n",
              "      <th>999</th>\n",
              "      <td>0.281074</td>\n",
              "      <td>1.389343</td>\n",
              "      <td>-0.740012</td>\n",
              "      <td>0.535811</td>\n",
              "      <td>-0.124175</td>\n",
              "      <td>0.085078</td>\n",
              "    </tr>\n",
              "  </tbody>\n",
              "</table>\n",
              "<p>1000 rows × 6 columns</p>\n",
              "</div>\n",
              "      <button class=\"colab-df-convert\" onclick=\"convertToInteractive('df-2f3450d2-f6d0-4384-90be-f6794eaac2b2')\"\n",
              "              title=\"Convert this dataframe to an interactive table.\"\n",
              "              style=\"display:none;\">\n",
              "        \n",
              "  <svg xmlns=\"http://www.w3.org/2000/svg\" height=\"24px\"viewBox=\"0 0 24 24\"\n",
              "       width=\"24px\">\n",
              "    <path d=\"M0 0h24v24H0V0z\" fill=\"none\"/>\n",
              "    <path d=\"M18.56 5.44l.94 2.06.94-2.06 2.06-.94-2.06-.94-.94-2.06-.94 2.06-2.06.94zm-11 1L8.5 8.5l.94-2.06 2.06-.94-2.06-.94L8.5 2.5l-.94 2.06-2.06.94zm10 10l.94 2.06.94-2.06 2.06-.94-2.06-.94-.94-2.06-.94 2.06-2.06.94z\"/><path d=\"M17.41 7.96l-1.37-1.37c-.4-.4-.92-.59-1.43-.59-.52 0-1.04.2-1.43.59L10.3 9.45l-7.72 7.72c-.78.78-.78 2.05 0 2.83L4 21.41c.39.39.9.59 1.41.59.51 0 1.02-.2 1.41-.59l7.78-7.78 2.81-2.81c.8-.78.8-2.07 0-2.86zM5.41 20L4 18.59l7.72-7.72 1.47 1.35L5.41 20z\"/>\n",
              "  </svg>\n",
              "      </button>\n",
              "      \n",
              "  <style>\n",
              "    .colab-df-container {\n",
              "      display:flex;\n",
              "      flex-wrap:wrap;\n",
              "      gap: 12px;\n",
              "    }\n",
              "\n",
              "    .colab-df-convert {\n",
              "      background-color: #E8F0FE;\n",
              "      border: none;\n",
              "      border-radius: 50%;\n",
              "      cursor: pointer;\n",
              "      display: none;\n",
              "      fill: #1967D2;\n",
              "      height: 32px;\n",
              "      padding: 0 0 0 0;\n",
              "      width: 32px;\n",
              "    }\n",
              "\n",
              "    .colab-df-convert:hover {\n",
              "      background-color: #E2EBFA;\n",
              "      box-shadow: 0px 1px 2px rgba(60, 64, 67, 0.3), 0px 1px 3px 1px rgba(60, 64, 67, 0.15);\n",
              "      fill: #174EA6;\n",
              "    }\n",
              "\n",
              "    [theme=dark] .colab-df-convert {\n",
              "      background-color: #3B4455;\n",
              "      fill: #D2E3FC;\n",
              "    }\n",
              "\n",
              "    [theme=dark] .colab-df-convert:hover {\n",
              "      background-color: #434B5C;\n",
              "      box-shadow: 0px 1px 3px 1px rgba(0, 0, 0, 0.15);\n",
              "      filter: drop-shadow(0px 1px 2px rgba(0, 0, 0, 0.3));\n",
              "      fill: #FFFFFF;\n",
              "    }\n",
              "  </style>\n",
              "\n",
              "      <script>\n",
              "        const buttonEl =\n",
              "          document.querySelector('#df-2f3450d2-f6d0-4384-90be-f6794eaac2b2 button.colab-df-convert');\n",
              "        buttonEl.style.display =\n",
              "          google.colab.kernel.accessAllowed ? 'block' : 'none';\n",
              "\n",
              "        async function convertToInteractive(key) {\n",
              "          const element = document.querySelector('#df-2f3450d2-f6d0-4384-90be-f6794eaac2b2');\n",
              "          const dataTable =\n",
              "            await google.colab.kernel.invokeFunction('convertToInteractive',\n",
              "                                                     [key], {});\n",
              "          if (!dataTable) return;\n",
              "\n",
              "          const docLinkHtml = 'Like what you see? Visit the ' +\n",
              "            '<a target=\"_blank\" href=https://colab.research.google.com/notebooks/data_table.ipynb>data table notebook</a>'\n",
              "            + ' to learn more about interactive tables.';\n",
              "          element.innerHTML = '';\n",
              "          dataTable['output_type'] = 'display_data';\n",
              "          await google.colab.output.renderOutput(dataTable, element);\n",
              "          const docLink = document.createElement('div');\n",
              "          docLink.innerHTML = docLinkHtml;\n",
              "          element.appendChild(docLink);\n",
              "        }\n",
              "      </script>\n",
              "    </div>\n",
              "  </div>\n",
              "  "
            ]
          },
          "metadata": {},
          "execution_count": 38
        }
      ]
    },
    {
      "cell_type": "code",
      "source": [
        "#visualizing gthe result\n",
        "plt.scatter(X[labels == 0, 0], X[labels == 0, 1], s = 50, c = 'green', label = 'Cluster 1')\n",
        "plt.scatter(X[labels == 1, 0], X[labels == 1, 1], s = 50, c = 'blue', label = 'Cluster 2')\n",
        "plt.scatter(X[labels == 2, 0], X[labels == 2, 1], s = 50, c = 'red', label = 'Cluster 3')\n",
        "plt.scatter(kmeans.cluster_centers_[:, 0], kmeans.cluster_centers_[:, 1], s = 100, c = 'yellow', label = 'Centroids')\n",
        "plt.title('Clusters of Patients')\n",
        "plt.xlabel('PC1')\n",
        "plt.ylabel('PC2')\n",
        "plt.legend()\n",
        "plt.show()"
      ],
      "metadata": {
        "colab": {
          "base_uri": "https://localhost:8080/",
          "height": 472
        },
        "id": "LAJu-GV2hucy",
        "outputId": "b596bd5c-291f-4d98-db16-8da23fc787bb"
      },
      "id": "LAJu-GV2hucy",
      "execution_count": null,
      "outputs": [
        {
          "output_type": "display_data",
          "data": {
            "text/plain": [
              "<Figure size 640x480 with 1 Axes>"
            ],
            "image/png": "[encoded data removed]"
          },
          "metadata": {}
        }
      ]
    },
    {
      "cell_type": "code",
      "execution_count": null,
      "id": "a98a973a",
      "metadata": {
        "id": "a98a973a"
      },
      "outputs": [],
      "source": []
    },
    {
      "cell_type": "code",
      "execution_count": null,
      "id": "5f976be2",
      "metadata": {
        "id": "5f976be2"
      },
      "outputs": [],
      "source": [
        "from sklearn.preprocessing import StandardScaler"
      ]
    },
    {
      "cell_type": "code",
      "execution_count": null,
      "id": "13373b9b",
      "metadata": {
        "id": "13373b9b"
      },
      "outputs": [],
      "source": [
        "data_with_scale = reduced_means.copy()"
      ]
    },
    {
      "cell_type": "code",
      "execution_count": null,
      "id": "5ff437ad",
      "metadata": {
        "id": "5ff437ad",
        "colab": {
          "base_uri": "https://localhost:8080/",
          "height": 424
        },
        "outputId": "b1a3e45e-a93c-4f96-abe2-e5b184e811b7"
      },
      "outputs": [
        {
          "output_type": "execute_result",
          "data": {
            "text/plain": [
              "          AGE     HbA1c      Chol        TG      VLDL       BMI  CLASS\n",
              "0   -0.287441 -0.861187 -1.585460 -0.249637 -0.260721  0.689928      2\n",
              "1    0.281074 -1.019119 -0.048283 -0.463850 -0.315340  1.093162      2\n",
              "2    0.053668  1.191929  0.336011  3.820410  0.449319  1.698012      2\n",
              "3    0.735886 -0.782221  0.259153 -0.606658 -0.233412  1.899629      2\n",
              "4    1.190698 -0.387391 -1.047448 -0.678063 -0.342649  0.286695      2\n",
              "..        ...       ...       ...       ...       ...       ...    ...\n",
              "995  0.167371  0.915548 -0.663153  0.535811 -0.124175  1.093162      2\n",
              "996 -1.083362 -1.690330  1.027741 -0.035424 -0.233412 -1.326239      2\n",
              "997  0.281074  0.362786 -0.586295 -1.249297 -0.260721  0.085078      2\n",
              "998  1.076995  1.191929  3.794659 -0.321041 -0.288030  1.093162      2\n",
              "999  0.167371 -1.808779  0.950882 -0.535254 -0.315340 -0.721389      2\n",
              "\n",
              "[1000 rows x 7 columns]"
            ],
            "text/html": [
              "\n",
              "  <div id=\"df-5a0256f2-243f-4993-9d96-fa77ec9037c9\">\n",
              "    <div class=\"colab-df-container\">\n",
              "      <div>\n",
              "<style scoped>\n",
              "    .dataframe tbody tr th:only-of-type {\n",
              "        vertical-align: middle;\n",
              "    }\n",
              "\n",
              "    .dataframe tbody tr th {\n",
              "        vertical-align: top;\n",
              "    }\n",
              "\n",
              "    .dataframe thead th {\n",
              "        text-align: right;\n",
              "    }\n",
              "</style>\n",
              "<table border=\"1\" class=\"dataframe\">\n",
              "  <thead>\n",
              "    <tr style=\"text-align: right;\">\n",
              "      <th></th>\n",
              "      <th>AGE</th>\n",
              "      <th>HbA1c</th>\n",
              "      <th>Chol</th>\n",
              "      <th>TG</th>\n",
              "      <th>VLDL</th>\n",
              "      <th>BMI</th>\n",
              "      <th>CLASS</th>\n",
              "    </tr>\n",
              "  </thead>\n",
              "  <tbody>\n",
              "    <tr>\n",
              "      <th>0</th>\n",
              "      <td>-0.287441</td>\n",
              "      <td>-0.861187</td>\n",
              "      <td>-1.585460</td>\n",
              "      <td>-0.249637</td>\n",
              "      <td>-0.260721</td>\n",
              "      <td>0.689928</td>\n",
              "      <td>2</td>\n",
              "    </tr>\n",
              "    <tr>\n",
              "      <th>1</th>\n",
              "      <td>0.281074</td>\n",
              "      <td>-1.019119</td>\n",
              "      <td>-0.048283</td>\n",
              "      <td>-0.463850</td>\n",
              "      <td>-0.315340</td>\n",
              "      <td>1.093162</td>\n",
              "      <td>2</td>\n",
              "    </tr>\n",
              "    <tr>\n",
              "      <th>2</th>\n",
              "      <td>0.053668</td>\n",
              "      <td>1.191929</td>\n",
              "      <td>0.336011</td>\n",
              "      <td>3.820410</td>\n",
              "      <td>0.449319</td>\n",
              "      <td>1.698012</td>\n",
              "      <td>2</td>\n",
              "    </tr>\n",
              "    <tr>\n",
              "      <th>3</th>\n",
              "      <td>0.735886</td>\n",
              "      <td>-0.782221</td>\n",
              "      <td>0.259153</td>\n",
              "      <td>-0.606658</td>\n",
              "      <td>-0.233412</td>\n",
              "      <td>1.899629</td>\n",
              "      <td>2</td>\n",
              "    </tr>\n",
              "    <tr>\n",
              "      <th>4</th>\n",
              "      <td>1.190698</td>\n",
              "      <td>-0.387391</td>\n",
              "      <td>-1.047448</td>\n",
              "      <td>-0.678063</td>\n",
              "      <td>-0.342649</td>\n",
              "      <td>0.286695</td>\n",
              "      <td>2</td>\n",
              "    </tr>\n",
              "    <tr>\n",
              "      <th>...</th>\n",
              "      <td>...</td>\n",
              "      <td>...</td>\n",
              "      <td>...</td>\n",
              "      <td>...</td>\n",
              "      <td>...</td>\n",
              "      <td>...</td>\n",
              "      <td>...</td>\n",
              "    </tr>\n",
              "    <tr>\n",
              "      <th>995</th>\n",
              "      <td>0.167371</td>\n",
              "      <td>0.915548</td>\n",
              "      <td>-0.663153</td>\n",
              "      <td>0.535811</td>\n",
              "      <td>-0.124175</td>\n",
              "      <td>1.093162</td>\n",
              "      <td>2</td>\n",
              "    </tr>\n",
              "    <tr>\n",
              "      <th>996</th>\n",
              "      <td>-1.083362</td>\n",
              "      <td>-1.690330</td>\n",
              "      <td>1.027741</td>\n",
              "      <td>-0.035424</td>\n",
              "      <td>-0.233412</td>\n",
              "      <td>-1.326239</td>\n",
              "      <td>2</td>\n",
              "    </tr>\n",
              "    <tr>\n",
              "      <th>997</th>\n",
              "      <td>0.281074</td>\n",
              "      <td>0.362786</td>\n",
              "      <td>-0.586295</td>\n",
              "      <td>-1.249297</td>\n",
              "      <td>-0.260721</td>\n",
              "      <td>0.085078</td>\n",
              "      <td>2</td>\n",
              "    </tr>\n",
              "    <tr>\n",
              "      <th>998</th>\n",
              "      <td>1.076995</td>\n",
              "      <td>1.191929</td>\n",
              "      <td>3.794659</td>\n",
              "      <td>-0.321041</td>\n",
              "      <td>-0.288030</td>\n",
              "      <td>1.093162</td>\n",
              "      <td>2</td>\n",
              "    </tr>\n",
              "    <tr>\n",
              "      <th>999</th>\n",
              "      <td>0.167371</td>\n",
              "      <td>-1.808779</td>\n",
              "      <td>0.950882</td>\n",
              "      <td>-0.535254</td>\n",
              "      <td>-0.315340</td>\n",
              "      <td>-0.721389</td>\n",
              "      <td>2</td>\n",
              "    </tr>\n",
              "  </tbody>\n",
              "</table>\n",
              "<p>1000 rows × 7 columns</p>\n",
              "</div>\n",
              "      <button class=\"colab-df-convert\" onclick=\"convertToInteractive('df-5a0256f2-243f-4993-9d96-fa77ec9037c9')\"\n",
              "              title=\"Convert this dataframe to an interactive table.\"\n",
              "              style=\"display:none;\">\n",
              "        \n",
              "  <svg xmlns=\"http://www.w3.org/2000/svg\" height=\"24px\"viewBox=\"0 0 24 24\"\n",
              "       width=\"24px\">\n",
              "    <path d=\"M0 0h24v24H0V0z\" fill=\"none\"/>\n",
              "    <path d=\"M18.56 5.44l.94 2.06.94-2.06 2.06-.94-2.06-.94-.94-2.06-.94 2.06-2.06.94zm-11 1L8.5 8.5l.94-2.06 2.06-.94-2.06-.94L8.5 2.5l-.94 2.06-2.06.94zm10 10l.94 2.06.94-2.06 2.06-.94-2.06-.94-.94-2.06-.94 2.06-2.06.94z\"/><path d=\"M17.41 7.96l-1.37-1.37c-.4-.4-.92-.59-1.43-.59-.52 0-1.04.2-1.43.59L10.3 9.45l-7.72 7.72c-.78.78-.78 2.05 0 2.83L4 21.41c.39.39.9.59 1.41.59.51 0 1.02-.2 1.41-.59l7.78-7.78 2.81-2.81c.8-.78.8-2.07 0-2.86zM5.41 20L4 18.59l7.72-7.72 1.47 1.35L5.41 20z\"/>\n",
              "  </svg>\n",
              "      </button>\n",
              "      \n",
              "  <style>\n",
              "    .colab-df-container {\n",
              "      display:flex;\n",
              "      flex-wrap:wrap;\n",
              "      gap: 12px;\n",
              "    }\n",
              "\n",
              "    .colab-df-convert {\n",
              "      background-color: #E8F0FE;\n",
              "      border: none;\n",
              "      border-radius: 50%;\n",
              "      cursor: pointer;\n",
              "      display: none;\n",
              "      fill: #1967D2;\n",
              "      height: 32px;\n",
              "      padding: 0 0 0 0;\n",
              "      width: 32px;\n",
              "    }\n",
              "\n",
              "    .colab-df-convert:hover {\n",
              "      background-color: #E2EBFA;\n",
              "      box-shadow: 0px 1px 2px rgba(60, 64, 67, 0.3), 0px 1px 3px 1px rgba(60, 64, 67, 0.15);\n",
              "      fill: #174EA6;\n",
              "    }\n",
              "\n",
              "    [theme=dark] .colab-df-convert {\n",
              "      background-color: #3B4455;\n",
              "      fill: #D2E3FC;\n",
              "    }\n",
              "\n",
              "    [theme=dark] .colab-df-convert:hover {\n",
              "      background-color: #434B5C;\n",
              "      box-shadow: 0px 1px 3px 1px rgba(0, 0, 0, 0.15);\n",
              "      filter: drop-shadow(0px 1px 2px rgba(0, 0, 0, 0.3));\n",
              "      fill: #FFFFFF;\n",
              "    }\n",
              "  </style>\n",
              "\n",
              "      <script>\n",
              "        const buttonEl =\n",
              "          document.querySelector('#df-5a0256f2-243f-4993-9d96-fa77ec9037c9 button.colab-df-convert');\n",
              "        buttonEl.style.display =\n",
              "          google.colab.kernel.accessAllowed ? 'block' : 'none';\n",
              "\n",
              "        async function convertToInteractive(key) {\n",
              "          const element = document.querySelector('#df-5a0256f2-243f-4993-9d96-fa77ec9037c9');\n",
              "          const dataTable =\n",
              "            await google.colab.kernel.invokeFunction('convertToInteractive',\n",
              "                                                     [key], {});\n",
              "          if (!dataTable) return;\n",
              "\n",
              "          const docLinkHtml = 'Like what you see? Visit the ' +\n",
              "            '<a target=\"_blank\" href=https://colab.research.google.com/notebooks/data_table.ipynb>data table notebook</a>'\n",
              "            + ' to learn more about interactive tables.';\n",
              "          element.innerHTML = '';\n",
              "          dataTable['output_type'] = 'display_data';\n",
              "          await google.colab.output.renderOutput(dataTable, element);\n",
              "          const docLink = document.createElement('div');\n",
              "          docLink.innerHTML = docLinkHtml;\n",
              "          element.appendChild(docLink);\n",
              "        }\n",
              "      </script>\n",
              "    </div>\n",
              "  </div>\n",
              "  "
            ]
          },
          "metadata": {},
          "execution_count": 38
        }
      ],
      "source": [
        "data_with_scale"
      ]
    },
    {
      "cell_type": "code",
      "execution_count": null,
      "id": "8a0b2d10",
      "metadata": {
        "id": "8a0b2d10"
      },
      "outputs": [],
      "source": []
    },
    {
      "cell_type": "code",
      "execution_count": null,
      "id": "69ab4c43",
      "metadata": {
        "id": "69ab4c43"
      },
      "outputs": [],
      "source": [
        "data_with_scale = scaler.fit_transform(data_db)"
      ]
    },
    {
      "cell_type": "code",
      "execution_count": null,
      "id": "68c65515",
      "metadata": {
        "id": "68c65515"
      },
      "outputs": [],
      "source": []
    },
    {
      "cell_type": "code",
      "execution_count": null,
      "id": "05e5c8c2",
      "metadata": {
        "id": "05e5c8c2"
      },
      "outputs": [],
      "source": []
    },
    {
      "cell_type": "code",
      "execution_count": null,
      "id": "6102c2e2",
      "metadata": {
        "id": "6102c2e2"
      },
      "outputs": [],
      "source": [
        "unscaled_data = reduced_data"
      ]
    },
    {
      "cell_type": "code",
      "execution_count": null,
      "id": "5a8184e9",
      "metadata": {
        "id": "5a8184e9"
      },
      "outputs": [],
      "source": [
        "unscaled_acc = acc_score(unscaled_data, label_db)"
      ]
    },
    {
      "cell_type": "code",
      "source": [
        "unscaled_acc"
      ],
      "metadata": {
        "colab": {
          "base_uri": "https://localhost:8080/",
          "height": 167
        },
        "id": "R7LN1oCLhdTu",
        "outputId": "5c4f0834-61ea-4e28-cb0d-1d1370926f66"
      },
      "id": "R7LN1oCLhdTu",
      "execution_count": 36,
      "outputs": [
        {
          "output_type": "error",
          "ename": "NameError",
          "evalue": "ignored",
          "traceback": [
            "\u001b[0;31m---------------------------------------------------------------------------\u001b[0m",
            "\u001b[0;31mNameError\u001b[0m                                 Traceback (most recent call last)",
            "\u001b[0;32m<ipython-input-36-817a3845bbd9>\u001b[0m in \u001b[0;36m<cell line: 1>\u001b[0;34m()\u001b[0m\n\u001b[0;32m----> 1\u001b[0;31m \u001b[0munscaled_acc\u001b[0m\u001b[0;34m\u001b[0m\u001b[0;34m\u001b[0m\u001b[0m\n\u001b[0m",
            "\u001b[0;31mNameError\u001b[0m: name 'unscaled_acc' is not defined"
          ]
        }
      ]
    },
    {
      "cell_type": "code",
      "source": [
        "scaled_data = pd.DataFrame(X)"
      ],
      "metadata": {
        "id": "Ts-TC9vJNmJO"
      },
      "id": "Ts-TC9vJNmJO",
      "execution_count": null,
      "outputs": []
    },
    {
      "cell_type": "code",
      "source": [
        "scaled_data['CLASS'] = reduced_data.CLASS"
      ],
      "metadata": {
        "id": "wj36tu1KjuVP"
      },
      "id": "wj36tu1KjuVP",
      "execution_count": null,
      "outputs": []
    },
    {
      "cell_type": "code",
      "execution_count": null,
      "id": "10c03440",
      "metadata": {
        "id": "10c03440"
      },
      "outputs": [],
      "source": [
        "scaled_data.columns = reduced_data.columns"
      ]
    },
    {
      "cell_type": "code",
      "source": [
        "scaled_data"
      ],
      "metadata": {
        "colab": {
          "base_uri": "https://localhost:8080/",
          "height": 424
        },
        "id": "uaBV6DKMjet1",
        "outputId": "004bf4fa-d0ba-4594-cb15-3f65ccc714a3"
      },
      "id": "uaBV6DKMjet1",
      "execution_count": null,
      "outputs": [
        {
          "output_type": "execute_result",
          "data": {
            "text/plain": [
              "          AGE     HbA1c      Chol        TG      VLDL       BMI  CLASS\n",
              "0   -0.287441 -0.861187 -1.585460 -0.249637 -0.260721  0.689928      2\n",
              "1    0.281074 -1.019119 -0.048283 -0.463850 -0.315340  1.093162      2\n",
              "2    0.053668  1.191929  0.336011  3.820410  0.449319  1.698012      2\n",
              "3    0.735886 -0.782221  0.259153 -0.606658 -0.233412  1.899629      2\n",
              "4    1.190698 -0.387391 -1.047448 -0.678063 -0.342649  0.286695      2\n",
              "..        ...       ...       ...       ...       ...       ...    ...\n",
              "995  0.167371  0.915548 -0.663153  0.535811 -0.124175  1.093162      2\n",
              "996 -1.083362 -1.690330  1.027741 -0.035424 -0.233412 -1.326239      2\n",
              "997  0.281074  0.362786 -0.586295 -1.249297 -0.260721  0.085078      2\n",
              "998  1.076995  1.191929  3.794659 -0.321041 -0.288030  1.093162      2\n",
              "999  0.167371 -1.808779  0.950882 -0.535254 -0.315340 -0.721389      2\n",
              "\n",
              "[1000 rows x 7 columns]"
            ],
            "text/html": [
              "\n",
              "  <div id=\"df-ee1e6b40-c591-418e-91ee-5a54e3f24d11\">\n",
              "    <div class=\"colab-df-container\">\n",
              "      <div>\n",
              "<style scoped>\n",
              "    .dataframe tbody tr th:only-of-type {\n",
              "        vertical-align: middle;\n",
              "    }\n",
              "\n",
              "    .dataframe tbody tr th {\n",
              "        vertical-align: top;\n",
              "    }\n",
              "\n",
              "    .dataframe thead th {\n",
              "        text-align: right;\n",
              "    }\n",
              "</style>\n",
              "<table border=\"1\" class=\"dataframe\">\n",
              "  <thead>\n",
              "    <tr style=\"text-align: right;\">\n",
              "      <th></th>\n",
              "      <th>AGE</th>\n",
              "      <th>HbA1c</th>\n",
              "      <th>Chol</th>\n",
              "      <th>TG</th>\n",
              "      <th>VLDL</th>\n",
              "      <th>BMI</th>\n",
              "      <th>CLASS</th>\n",
              "    </tr>\n",
              "  </thead>\n",
              "  <tbody>\n",
              "    <tr>\n",
              "      <th>0</th>\n",
              "      <td>-0.287441</td>\n",
              "      <td>-0.861187</td>\n",
              "      <td>-1.585460</td>\n",
              "      <td>-0.249637</td>\n",
              "      <td>-0.260721</td>\n",
              "      <td>0.689928</td>\n",
              "      <td>2</td>\n",
              "    </tr>\n",
              "    <tr>\n",
              "      <th>1</th>\n",
              "      <td>0.281074</td>\n",
              "      <td>-1.019119</td>\n",
              "      <td>-0.048283</td>\n",
              "      <td>-0.463850</td>\n",
              "      <td>-0.315340</td>\n",
              "      <td>1.093162</td>\n",
              "      <td>2</td>\n",
              "    </tr>\n",
              "    <tr>\n",
              "      <th>2</th>\n",
              "      <td>0.053668</td>\n",
              "      <td>1.191929</td>\n",
              "      <td>0.336011</td>\n",
              "      <td>3.820410</td>\n",
              "      <td>0.449319</td>\n",
              "      <td>1.698012</td>\n",
              "      <td>2</td>\n",
              "    </tr>\n",
              "    <tr>\n",
              "      <th>3</th>\n",
              "      <td>0.735886</td>\n",
              "      <td>-0.782221</td>\n",
              "      <td>0.259153</td>\n",
              "      <td>-0.606658</td>\n",
              "      <td>-0.233412</td>\n",
              "      <td>1.899629</td>\n",
              "      <td>2</td>\n",
              "    </tr>\n",
              "    <tr>\n",
              "      <th>4</th>\n",
              "      <td>1.190698</td>\n",
              "      <td>-0.387391</td>\n",
              "      <td>-1.047448</td>\n",
              "      <td>-0.678063</td>\n",
              "      <td>-0.342649</td>\n",
              "      <td>0.286695</td>\n",
              "      <td>2</td>\n",
              "    </tr>\n",
              "    <tr>\n",
              "      <th>...</th>\n",
              "      <td>...</td>\n",
              "      <td>...</td>\n",
              "      <td>...</td>\n",
              "      <td>...</td>\n",
              "      <td>...</td>\n",
              "      <td>...</td>\n",
              "      <td>...</td>\n",
              "    </tr>\n",
              "    <tr>\n",
              "      <th>995</th>\n",
              "      <td>0.167371</td>\n",
              "      <td>0.915548</td>\n",
              "      <td>-0.663153</td>\n",
              "      <td>0.535811</td>\n",
              "      <td>-0.124175</td>\n",
              "      <td>1.093162</td>\n",
              "      <td>2</td>\n",
              "    </tr>\n",
              "    <tr>\n",
              "      <th>996</th>\n",
              "      <td>-1.083362</td>\n",
              "      <td>-1.690330</td>\n",
              "      <td>1.027741</td>\n",
              "      <td>-0.035424</td>\n",
              "      <td>-0.233412</td>\n",
              "      <td>-1.326239</td>\n",
              "      <td>2</td>\n",
              "    </tr>\n",
              "    <tr>\n",
              "      <th>997</th>\n",
              "      <td>0.281074</td>\n",
              "      <td>0.362786</td>\n",
              "      <td>-0.586295</td>\n",
              "      <td>-1.249297</td>\n",
              "      <td>-0.260721</td>\n",
              "      <td>0.085078</td>\n",
              "      <td>2</td>\n",
              "    </tr>\n",
              "    <tr>\n",
              "      <th>998</th>\n",
              "      <td>1.076995</td>\n",
              "      <td>1.191929</td>\n",
              "      <td>3.794659</td>\n",
              "      <td>-0.321041</td>\n",
              "      <td>-0.288030</td>\n",
              "      <td>1.093162</td>\n",
              "      <td>2</td>\n",
              "    </tr>\n",
              "    <tr>\n",
              "      <th>999</th>\n",
              "      <td>0.167371</td>\n",
              "      <td>-1.808779</td>\n",
              "      <td>0.950882</td>\n",
              "      <td>-0.535254</td>\n",
              "      <td>-0.315340</td>\n",
              "      <td>-0.721389</td>\n",
              "      <td>2</td>\n",
              "    </tr>\n",
              "  </tbody>\n",
              "</table>\n",
              "<p>1000 rows × 7 columns</p>\n",
              "</div>\n",
              "      <button class=\"colab-df-convert\" onclick=\"convertToInteractive('df-ee1e6b40-c591-418e-91ee-5a54e3f24d11')\"\n",
              "              title=\"Convert this dataframe to an interactive table.\"\n",
              "              style=\"display:none;\">\n",
              "        \n",
              "  <svg xmlns=\"http://www.w3.org/2000/svg\" height=\"24px\"viewBox=\"0 0 24 24\"\n",
              "       width=\"24px\">\n",
              "    <path d=\"M0 0h24v24H0V0z\" fill=\"none\"/>\n",
              "    <path d=\"M18.56 5.44l.94 2.06.94-2.06 2.06-.94-2.06-.94-.94-2.06-.94 2.06-2.06.94zm-11 1L8.5 8.5l.94-2.06 2.06-.94-2.06-.94L8.5 2.5l-.94 2.06-2.06.94zm10 10l.94 2.06.94-2.06 2.06-.94-2.06-.94-.94-2.06-.94 2.06-2.06.94z\"/><path d=\"M17.41 7.96l-1.37-1.37c-.4-.4-.92-.59-1.43-.59-.52 0-1.04.2-1.43.59L10.3 9.45l-7.72 7.72c-.78.78-.78 2.05 0 2.83L4 21.41c.39.39.9.59 1.41.59.51 0 1.02-.2 1.41-.59l7.78-7.78 2.81-2.81c.8-.78.8-2.07 0-2.86zM5.41 20L4 18.59l7.72-7.72 1.47 1.35L5.41 20z\"/>\n",
              "  </svg>\n",
              "      </button>\n",
              "      \n",
              "  <style>\n",
              "    .colab-df-container {\n",
              "      display:flex;\n",
              "      flex-wrap:wrap;\n",
              "      gap: 12px;\n",
              "    }\n",
              "\n",
              "    .colab-df-convert {\n",
              "      background-color: #E8F0FE;\n",
              "      border: none;\n",
              "      border-radius: 50%;\n",
              "      cursor: pointer;\n",
              "      display: none;\n",
              "      fill: #1967D2;\n",
              "      height: 32px;\n",
              "      padding: 0 0 0 0;\n",
              "      width: 32px;\n",
              "    }\n",
              "\n",
              "    .colab-df-convert:hover {\n",
              "      background-color: #E2EBFA;\n",
              "      box-shadow: 0px 1px 2px rgba(60, 64, 67, 0.3), 0px 1px 3px 1px rgba(60, 64, 67, 0.15);\n",
              "      fill: #174EA6;\n",
              "    }\n",
              "\n",
              "    [theme=dark] .colab-df-convert {\n",
              "      background-color: #3B4455;\n",
              "      fill: #D2E3FC;\n",
              "    }\n",
              "\n",
              "    [theme=dark] .colab-df-convert:hover {\n",
              "      background-color: #434B5C;\n",
              "      box-shadow: 0px 1px 3px 1px rgba(0, 0, 0, 0.15);\n",
              "      filter: drop-shadow(0px 1px 2px rgba(0, 0, 0, 0.3));\n",
              "      fill: #FFFFFF;\n",
              "    }\n",
              "  </style>\n",
              "\n",
              "      <script>\n",
              "        const buttonEl =\n",
              "          document.querySelector('#df-ee1e6b40-c591-418e-91ee-5a54e3f24d11 button.colab-df-convert');\n",
              "        buttonEl.style.display =\n",
              "          google.colab.kernel.accessAllowed ? 'block' : 'none';\n",
              "\n",
              "        async function convertToInteractive(key) {\n",
              "          const element = document.querySelector('#df-ee1e6b40-c591-418e-91ee-5a54e3f24d11');\n",
              "          const dataTable =\n",
              "            await google.colab.kernel.invokeFunction('convertToInteractive',\n",
              "                                                     [key], {});\n",
              "          if (!dataTable) return;\n",
              "\n",
              "          const docLinkHtml = 'Like what you see? Visit the ' +\n",
              "            '<a target=\"_blank\" href=https://colab.research.google.com/notebooks/data_table.ipynb>data table notebook</a>'\n",
              "            + ' to learn more about interactive tables.';\n",
              "          element.innerHTML = '';\n",
              "          dataTable['output_type'] = 'display_data';\n",
              "          await google.colab.output.renderOutput(dataTable, element);\n",
              "          const docLink = document.createElement('div');\n",
              "          docLink.innerHTML = docLinkHtml;\n",
              "          element.appendChild(docLink);\n",
              "        }\n",
              "      </script>\n",
              "    </div>\n",
              "  </div>\n",
              "  "
            ]
          },
          "metadata": {},
          "execution_count": 46
        }
      ]
    },
    {
      "cell_type": "code",
      "source": [],
      "metadata": {
        "id": "Ba9T8pFrO7X0"
      },
      "id": "Ba9T8pFrO7X0",
      "execution_count": null,
      "outputs": []
    },
    {
      "cell_type": "code",
      "execution_count": null,
      "id": "7a621658",
      "metadata": {
        "id": "7a621658"
      },
      "outputs": [],
      "source": [
        "scaled_acc = acc_score(scaled_data, label_db)"
      ]
    },
    {
      "cell_type": "code",
      "execution_count": null,
      "id": "a42f3755",
      "metadata": {
        "id": "a42f3755",
        "outputId": "bd75c8f5-5aed-406b-bae8-d177c55feac1",
        "colab": {
          "base_uri": "https://localhost:8080/",
          "height": 143
        }
      },
      "outputs": [
        {
          "output_type": "execute_result",
          "data": {
            "text/plain": [
              "               Classifier  Accuracy\n",
              "0  Support vector Machine     0.948\n",
              "1              KNeighbors     0.936\n",
              "2                Logistic     0.924"
            ],
            "text/html": [
              "\n",
              "  <div id=\"df-1df7fbb6-bb28-4d42-901d-acbdb94c1af8\">\n",
              "    <div class=\"colab-df-container\">\n",
              "      <div>\n",
              "<style scoped>\n",
              "    .dataframe tbody tr th:only-of-type {\n",
              "        vertical-align: middle;\n",
              "    }\n",
              "\n",
              "    .dataframe tbody tr th {\n",
              "        vertical-align: top;\n",
              "    }\n",
              "\n",
              "    .dataframe thead th {\n",
              "        text-align: right;\n",
              "    }\n",
              "</style>\n",
              "<table border=\"1\" class=\"dataframe\">\n",
              "  <thead>\n",
              "    <tr style=\"text-align: right;\">\n",
              "      <th></th>\n",
              "      <th>Classifier</th>\n",
              "      <th>Accuracy</th>\n",
              "    </tr>\n",
              "  </thead>\n",
              "  <tbody>\n",
              "    <tr>\n",
              "      <th>0</th>\n",
              "      <td>Support vector Machine</td>\n",
              "      <td>0.948</td>\n",
              "    </tr>\n",
              "    <tr>\n",
              "      <th>1</th>\n",
              "      <td>KNeighbors</td>\n",
              "      <td>0.936</td>\n",
              "    </tr>\n",
              "    <tr>\n",
              "      <th>2</th>\n",
              "      <td>Logistic</td>\n",
              "      <td>0.924</td>\n",
              "    </tr>\n",
              "  </tbody>\n",
              "</table>\n",
              "</div>\n",
              "      <button class=\"colab-df-convert\" onclick=\"convertToInteractive('df-1df7fbb6-bb28-4d42-901d-acbdb94c1af8')\"\n",
              "              title=\"Convert this dataframe to an interactive table.\"\n",
              "              style=\"display:none;\">\n",
              "        \n",
              "  <svg xmlns=\"http://www.w3.org/2000/svg\" height=\"24px\"viewBox=\"0 0 24 24\"\n",
              "       width=\"24px\">\n",
              "    <path d=\"M0 0h24v24H0V0z\" fill=\"none\"/>\n",
              "    <path d=\"M18.56 5.44l.94 2.06.94-2.06 2.06-.94-2.06-.94-.94-2.06-.94 2.06-2.06.94zm-11 1L8.5 8.5l.94-2.06 2.06-.94-2.06-.94L8.5 2.5l-.94 2.06-2.06.94zm10 10l.94 2.06.94-2.06 2.06-.94-2.06-.94-.94-2.06-.94 2.06-2.06.94z\"/><path d=\"M17.41 7.96l-1.37-1.37c-.4-.4-.92-.59-1.43-.59-.52 0-1.04.2-1.43.59L10.3 9.45l-7.72 7.72c-.78.78-.78 2.05 0 2.83L4 21.41c.39.39.9.59 1.41.59.51 0 1.02-.2 1.41-.59l7.78-7.78 2.81-2.81c.8-.78.8-2.07 0-2.86zM5.41 20L4 18.59l7.72-7.72 1.47 1.35L5.41 20z\"/>\n",
              "  </svg>\n",
              "      </button>\n",
              "      \n",
              "  <style>\n",
              "    .colab-df-container {\n",
              "      display:flex;\n",
              "      flex-wrap:wrap;\n",
              "      gap: 12px;\n",
              "    }\n",
              "\n",
              "    .colab-df-convert {\n",
              "      background-color: #E8F0FE;\n",
              "      border: none;\n",
              "      border-radius: 50%;\n",
              "      cursor: pointer;\n",
              "      display: none;\n",
              "      fill: #1967D2;\n",
              "      height: 32px;\n",
              "      padding: 0 0 0 0;\n",
              "      width: 32px;\n",
              "    }\n",
              "\n",
              "    .colab-df-convert:hover {\n",
              "      background-color: #E2EBFA;\n",
              "      box-shadow: 0px 1px 2px rgba(60, 64, 67, 0.3), 0px 1px 3px 1px rgba(60, 64, 67, 0.15);\n",
              "      fill: #174EA6;\n",
              "    }\n",
              "\n",
              "    [theme=dark] .colab-df-convert {\n",
              "      background-color: #3B4455;\n",
              "      fill: #D2E3FC;\n",
              "    }\n",
              "\n",
              "    [theme=dark] .colab-df-convert:hover {\n",
              "      background-color: #434B5C;\n",
              "      box-shadow: 0px 1px 3px 1px rgba(0, 0, 0, 0.15);\n",
              "      filter: drop-shadow(0px 1px 2px rgba(0, 0, 0, 0.3));\n",
              "      fill: #FFFFFF;\n",
              "    }\n",
              "  </style>\n",
              "\n",
              "      <script>\n",
              "        const buttonEl =\n",
              "          document.querySelector('#df-1df7fbb6-bb28-4d42-901d-acbdb94c1af8 button.colab-df-convert');\n",
              "        buttonEl.style.display =\n",
              "          google.colab.kernel.accessAllowed ? 'block' : 'none';\n",
              "\n",
              "        async function convertToInteractive(key) {\n",
              "          const element = document.querySelector('#df-1df7fbb6-bb28-4d42-901d-acbdb94c1af8');\n",
              "          const dataTable =\n",
              "            await google.colab.kernel.invokeFunction('convertToInteractive',\n",
              "                                                     [key], {});\n",
              "          if (!dataTable) return;\n",
              "\n",
              "          const docLinkHtml = 'Like what you see? Visit the ' +\n",
              "            '<a target=\"_blank\" href=https://colab.research.google.com/notebooks/data_table.ipynb>data table notebook</a>'\n",
              "            + ' to learn more about interactive tables.';\n",
              "          element.innerHTML = '';\n",
              "          dataTable['output_type'] = 'display_data';\n",
              "          await google.colab.output.renderOutput(dataTable, element);\n",
              "          const docLink = document.createElement('div');\n",
              "          docLink.innerHTML = docLinkHtml;\n",
              "          element.appendChild(docLink);\n",
              "        }\n",
              "      </script>\n",
              "    </div>\n",
              "  </div>\n",
              "  "
            ]
          },
          "metadata": {},
          "execution_count": 48
        }
      ],
      "source": [
        "scaled_acc"
      ]
    },
    {
      "cell_type": "code",
      "execution_count": null,
      "id": "6de13ee7",
      "metadata": {
        "id": "6de13ee7"
      },
      "outputs": [],
      "source": [
        "X_train, X_test, Y_train, Y_test = split(scaled_data, label_db)"
      ]
    },
    {
      "cell_type": "code",
      "execution_count": null,
      "id": "517134bf",
      "metadata": {
        "id": "517134bf",
        "outputId": "06ce793f-b256-4b33-ba9f-65c78abf2580",
        "colab": {
          "base_uri": "https://localhost:8080/",
          "height": 424
        }
      },
      "outputs": [
        {
          "output_type": "execute_result",
          "data": {
            "text/plain": [
              "          AGE     HbA1c      Chol        TG      VLDL       BMI\n",
              "82   0.053668  1.389343  1.412035 -0.249637 -0.260721  0.689928\n",
              "991  0.849589  0.797099  1.873188  0.678620 -0.096866  0.488312\n",
              "789 -0.628550 -1.690330 -1.508601 -1.106489 -0.397267 -1.124622\n",
              "894  0.167371  0.757616 -0.048283 -0.963680 -0.397267  1.415749\n",
              "398  0.281074  2.652799  2.180624  1.678280  0.039680 -0.318155\n",
              "..        ...       ...       ...       ...       ...       ...\n",
              "106  0.508480 -1.098085 -3.276354  0.107385 -0.342649  1.698012\n",
              "270  0.053668  1.073480  1.104600  3.177771  0.340082 -0.116538\n",
              "860  1.190698 -0.150493  0.336011  0.535811 -0.124175  0.689928\n",
              "435  0.622183  0.876065  0.028576 -0.178232 -0.260721 -0.318155\n",
              "102  0.167371  0.007439  0.643447  0.178789 -0.206103  1.698012\n",
              "\n",
              "[750 rows x 6 columns]"
            ],
            "text/html": [
              "\n",
              "  <div id=\"df-55889fac-4814-4ca4-af80-4518cf684440\">\n",
              "    <div class=\"colab-df-container\">\n",
              "      <div>\n",
              "<style scoped>\n",
              "    .dataframe tbody tr th:only-of-type {\n",
              "        vertical-align: middle;\n",
              "    }\n",
              "\n",
              "    .dataframe tbody tr th {\n",
              "        vertical-align: top;\n",
              "    }\n",
              "\n",
              "    .dataframe thead th {\n",
              "        text-align: right;\n",
              "    }\n",
              "</style>\n",
              "<table border=\"1\" class=\"dataframe\">\n",
              "  <thead>\n",
              "    <tr style=\"text-align: right;\">\n",
              "      <th></th>\n",
              "      <th>AGE</th>\n",
              "      <th>HbA1c</th>\n",
              "      <th>Chol</th>\n",
              "      <th>TG</th>\n",
              "      <th>VLDL</th>\n",
              "      <th>BMI</th>\n",
              "    </tr>\n",
              "  </thead>\n",
              "  <tbody>\n",
              "    <tr>\n",
              "      <th>82</th>\n",
              "      <td>0.053668</td>\n",
              "      <td>1.389343</td>\n",
              "      <td>1.412035</td>\n",
              "      <td>-0.249637</td>\n",
              "      <td>-0.260721</td>\n",
              "      <td>0.689928</td>\n",
              "    </tr>\n",
              "    <tr>\n",
              "      <th>991</th>\n",
              "      <td>0.849589</td>\n",
              "      <td>0.797099</td>\n",
              "      <td>1.873188</td>\n",
              "      <td>0.678620</td>\n",
              "      <td>-0.096866</td>\n",
              "      <td>0.488312</td>\n",
              "    </tr>\n",
              "    <tr>\n",
              "      <th>789</th>\n",
              "      <td>-0.628550</td>\n",
              "      <td>-1.690330</td>\n",
              "      <td>-1.508601</td>\n",
              "      <td>-1.106489</td>\n",
              "      <td>-0.397267</td>\n",
              "      <td>-1.124622</td>\n",
              "    </tr>\n",
              "    <tr>\n",
              "      <th>894</th>\n",
              "      <td>0.167371</td>\n",
              "      <td>0.757616</td>\n",
              "      <td>-0.048283</td>\n",
              "      <td>-0.963680</td>\n",
              "      <td>-0.397267</td>\n",
              "      <td>1.415749</td>\n",
              "    </tr>\n",
              "    <tr>\n",
              "      <th>398</th>\n",
              "      <td>0.281074</td>\n",
              "      <td>2.652799</td>\n",
              "      <td>2.180624</td>\n",
              "      <td>1.678280</td>\n",
              "      <td>0.039680</td>\n",
              "      <td>-0.318155</td>\n",
              "    </tr>\n",
              "    <tr>\n",
              "      <th>...</th>\n",
              "      <td>...</td>\n",
              "      <td>...</td>\n",
              "      <td>...</td>\n",
              "      <td>...</td>\n",
              "      <td>...</td>\n",
              "      <td>...</td>\n",
              "    </tr>\n",
              "    <tr>\n",
              "      <th>106</th>\n",
              "      <td>0.508480</td>\n",
              "      <td>-1.098085</td>\n",
              "      <td>-3.276354</td>\n",
              "      <td>0.107385</td>\n",
              "      <td>-0.342649</td>\n",
              "      <td>1.698012</td>\n",
              "    </tr>\n",
              "    <tr>\n",
              "      <th>270</th>\n",
              "      <td>0.053668</td>\n",
              "      <td>1.073480</td>\n",
              "      <td>1.104600</td>\n",
              "      <td>3.177771</td>\n",
              "      <td>0.340082</td>\n",
              "      <td>-0.116538</td>\n",
              "    </tr>\n",
              "    <tr>\n",
              "      <th>860</th>\n",
              "      <td>1.190698</td>\n",
              "      <td>-0.150493</td>\n",
              "      <td>0.336011</td>\n",
              "      <td>0.535811</td>\n",
              "      <td>-0.124175</td>\n",
              "      <td>0.689928</td>\n",
              "    </tr>\n",
              "    <tr>\n",
              "      <th>435</th>\n",
              "      <td>0.622183</td>\n",
              "      <td>0.876065</td>\n",
              "      <td>0.028576</td>\n",
              "      <td>-0.178232</td>\n",
              "      <td>-0.260721</td>\n",
              "      <td>-0.318155</td>\n",
              "    </tr>\n",
              "    <tr>\n",
              "      <th>102</th>\n",
              "      <td>0.167371</td>\n",
              "      <td>0.007439</td>\n",
              "      <td>0.643447</td>\n",
              "      <td>0.178789</td>\n",
              "      <td>-0.206103</td>\n",
              "      <td>1.698012</td>\n",
              "    </tr>\n",
              "  </tbody>\n",
              "</table>\n",
              "<p>750 rows × 6 columns</p>\n",
              "</div>\n",
              "      <button class=\"colab-df-convert\" onclick=\"convertToInteractive('df-55889fac-4814-4ca4-af80-4518cf684440')\"\n",
              "              title=\"Convert this dataframe to an interactive table.\"\n",
              "              style=\"display:none;\">\n",
              "        \n",
              "  <svg xmlns=\"http://www.w3.org/2000/svg\" height=\"24px\"viewBox=\"0 0 24 24\"\n",
              "       width=\"24px\">\n",
              "    <path d=\"M0 0h24v24H0V0z\" fill=\"none\"/>\n",
              "    <path d=\"M18.56 5.44l.94 2.06.94-2.06 2.06-.94-2.06-.94-.94-2.06-.94 2.06-2.06.94zm-11 1L8.5 8.5l.94-2.06 2.06-.94-2.06-.94L8.5 2.5l-.94 2.06-2.06.94zm10 10l.94 2.06.94-2.06 2.06-.94-2.06-.94-.94-2.06-.94 2.06-2.06.94z\"/><path d=\"M17.41 7.96l-1.37-1.37c-.4-.4-.92-.59-1.43-.59-.52 0-1.04.2-1.43.59L10.3 9.45l-7.72 7.72c-.78.78-.78 2.05 0 2.83L4 21.41c.39.39.9.59 1.41.59.51 0 1.02-.2 1.41-.59l7.78-7.78 2.81-2.81c.8-.78.8-2.07 0-2.86zM5.41 20L4 18.59l7.72-7.72 1.47 1.35L5.41 20z\"/>\n",
              "  </svg>\n",
              "      </button>\n",
              "      \n",
              "  <style>\n",
              "    .colab-df-container {\n",
              "      display:flex;\n",
              "      flex-wrap:wrap;\n",
              "      gap: 12px;\n",
              "    }\n",
              "\n",
              "    .colab-df-convert {\n",
              "      background-color: #E8F0FE;\n",
              "      border: none;\n",
              "      border-radius: 50%;\n",
              "      cursor: pointer;\n",
              "      display: none;\n",
              "      fill: #1967D2;\n",
              "      height: 32px;\n",
              "      padding: 0 0 0 0;\n",
              "      width: 32px;\n",
              "    }\n",
              "\n",
              "    .colab-df-convert:hover {\n",
              "      background-color: #E2EBFA;\n",
              "      box-shadow: 0px 1px 2px rgba(60, 64, 67, 0.3), 0px 1px 3px 1px rgba(60, 64, 67, 0.15);\n",
              "      fill: #174EA6;\n",
              "    }\n",
              "\n",
              "    [theme=dark] .colab-df-convert {\n",
              "      background-color: #3B4455;\n",
              "      fill: #D2E3FC;\n",
              "    }\n",
              "\n",
              "    [theme=dark] .colab-df-convert:hover {\n",
              "      background-color: #434B5C;\n",
              "      box-shadow: 0px 1px 3px 1px rgba(0, 0, 0, 0.15);\n",
              "      filter: drop-shadow(0px 1px 2px rgba(0, 0, 0, 0.3));\n",
              "      fill: #FFFFFF;\n",
              "    }\n",
              "  </style>\n",
              "\n",
              "      <script>\n",
              "        const buttonEl =\n",
              "          document.querySelector('#df-55889fac-4814-4ca4-af80-4518cf684440 button.colab-df-convert');\n",
              "        buttonEl.style.display =\n",
              "          google.colab.kernel.accessAllowed ? 'block' : 'none';\n",
              "\n",
              "        async function convertToInteractive(key) {\n",
              "          const element = document.querySelector('#df-55889fac-4814-4ca4-af80-4518cf684440');\n",
              "          const dataTable =\n",
              "            await google.colab.kernel.invokeFunction('convertToInteractive',\n",
              "                                                     [key], {});\n",
              "          if (!dataTable) return;\n",
              "\n",
              "          const docLinkHtml = 'Like what you see? Visit the ' +\n",
              "            '<a target=\"_blank\" href=https://colab.research.google.com/notebooks/data_table.ipynb>data table notebook</a>'\n",
              "            + ' to learn more about interactive tables.';\n",
              "          element.innerHTML = '';\n",
              "          dataTable['output_type'] = 'display_data';\n",
              "          await google.colab.output.renderOutput(dataTable, element);\n",
              "          const docLink = document.createElement('div');\n",
              "          docLink.innerHTML = docLinkHtml;\n",
              "          element.appendChild(docLink);\n",
              "        }\n",
              "      </script>\n",
              "    </div>\n",
              "  </div>\n",
              "  "
            ]
          },
          "metadata": {},
          "execution_count": 50
        }
      ],
      "source": [
        "X_train"
      ]
    },
    {
      "cell_type": "code",
      "execution_count": null,
      "id": "12136419",
      "metadata": {
        "id": "12136419"
      },
      "outputs": [],
      "source": [
        "testmodel = LogisticRegression(max_iter = 1000)\n",
        "testmodel.fit(X_train, Y_train)\n",
        "y_pred = testmodel.predict(X_test)"
      ]
    },
    {
      "cell_type": "code",
      "execution_count": null,
      "id": "4d1d8d21",
      "metadata": {
        "id": "4d1d8d21"
      },
      "outputs": [],
      "source": [
        "from sklearn.metrics import confusion_matrix\n",
        "import matplotlib.pyplot as plt\n",
        "import seaborn as sns"
      ]
    },
    {
      "cell_type": "code",
      "execution_count": null,
      "id": "99b1db02",
      "metadata": {
        "id": "99b1db02"
      },
      "outputs": [],
      "source": [
        "cm = confusion_matrix(Y_test, y_pred, labels = ['Y', 'N', 'P'])"
      ]
    },
    {
      "cell_type": "code",
      "execution_count": null,
      "id": "732d1612",
      "metadata": {
        "id": "732d1612",
        "outputId": "123d0bf7-8b9f-4f8c-8fa8-53bd25bd35a5",
        "colab": {
          "base_uri": "https://localhost:8080/",
          "height": 449
        }
      },
      "outputs": [
        {
          "output_type": "display_data",
          "data": {
            "text/plain": [
              "<Figure size 640x480 with 2 Axes>"
            ],
            "image/png": "[encoded data removed]"
          },
          "metadata": {}
        }
      ],
      "source": [
        "# Create a heatmap to visualize the confusion matrix\n",
        "sns.heatmap(cm, annot=True, cmap='Reds', fmt='g')\n",
        "plt.xlabel('Predicted labels')\n",
        "plt.ylabel('True labels')\n",
        "plt.show()"
      ]
    },
    {
      "cell_type": "code",
      "execution_count": null,
      "id": "a1e18416",
      "metadata": {
        "id": "a1e18416",
        "outputId": "13604589-b738-47bb-aaf0-659b619e48ee",
        "colab": {
          "base_uri": "https://localhost:8080/"
        }
      },
      "outputs": [
        {
          "output_type": "stream",
          "name": "stdout",
          "text": [
            "[[209   3   2]\n",
            " [  3  19   0]\n",
            " [  9   0   3]]\n"
          ]
        }
      ],
      "source": [
        "print(cm)"
      ]
    },
    {
      "cell_type": "code",
      "execution_count": null,
      "id": "c34481ab",
      "metadata": {
        "id": "c34481ab"
      },
      "outputs": [],
      "source": [
        "logmodel = LogisticRegression(max_iter = 1000)"
      ]
    },
    {
      "cell_type": "code",
      "execution_count": null,
      "id": "973079a9",
      "metadata": {
        "id": "973079a9"
      },
      "outputs": [],
      "source": [
        "X_train, X_test, Y_train, Y_test = split(scaled_data, label_db)"
      ]
    },
    {
      "cell_type": "code",
      "execution_count": null,
      "id": "a85f8a80",
      "metadata": {
        "id": "a85f8a80",
        "outputId": "5778d667-08d0-44f3-ab9e-2de5019f5314",
        "colab": {
          "base_uri": "https://localhost:8080/"
        }
      },
      "outputs": [
        {
          "output_type": "stream",
          "name": "stdout",
          "text": [
            "Best score in generation 1 : [0.928]\n",
            "Best score in generation 2 : [0.928]\n",
            "Best score in generation 3 : [0.928]\n",
            "Best score in generation 4 : [0.928]\n",
            "Best score in generation 5 : [0.928]\n"
          ]
        }
      ],
      "source": [
        "chromo_df_bc,score_bc=generations(scaled_data,label_db,size=80,n_feat= X_train.shape[1], n_parents=64,mutation_rate=0.20,n_gen=5, X_train = X_train,X_test = X_test,Y_train = Y_train,Y_test = Y_test)"
      ]
    },
    {
      "cell_type": "code",
      "source": [
        "X_train.columns"
      ],
      "metadata": {
        "colab": {
          "base_uri": "https://localhost:8080/"
        },
        "id": "qkeB2zTNmG5_",
        "outputId": "96d9c2d8-6c00-4c86-c2de-9b2a380f7630"
      },
      "id": "qkeB2zTNmG5_",
      "execution_count": null,
      "outputs": [
        {
          "output_type": "execute_result",
          "data": {
            "text/plain": [
              "Index(['AGE', 'HbA1c', 'Chol', 'TG', 'VLDL', 'BMI'], dtype='object')"
            ]
          },
          "metadata": {},
          "execution_count": 100
        }
      ]
    },
    {
      "cell_type": "code",
      "source": [],
      "metadata": {
        "id": "d8E-_9Tztf9f"
      },
      "id": "d8E-_9Tztf9f",
      "execution_count": null,
      "outputs": []
    },
    {
      "cell_type": "code",
      "source": [],
      "metadata": {
        "id": "v4AvqBwotgEK"
      },
      "id": "v4AvqBwotgEK",
      "execution_count": null,
      "outputs": []
    },
    {
      "cell_type": "code",
      "source": [],
      "metadata": {
        "id": "iZ1G-goPtgHm"
      },
      "id": "iZ1G-goPtgHm",
      "execution_count": null,
      "outputs": []
    },
    {
      "cell_type": "code",
      "source": [
        "# generate some example data\n",
        "X_data, y_data = X, data_db.CLASS\n",
        "\n",
        "# split data into training and testing sets\n",
        "X_train, X_test, y_train, y_test = train_test_split(X_data, y_data, test_size=0.3, random_state=42)\n",
        "\n",
        "# create and train KNN model\n",
        "knn = KNeighborsClassifier(n_neighbors=5)\n",
        "knn.fit(X_train, y_train)\n",
        "\n",
        "# create and train SVM model\n",
        "svm = SVC(kernel='linear', probability=True)\n",
        "svm.fit(X_train, y_train)\n",
        "\n",
        "# create and train logistic regression model\n",
        "logreg = LogisticRegression()\n",
        "logreg.fit(X_train, y_train)\n",
        "\n",
        "# make predictions on test set\n",
        "y_pred_knn = knn.predict(X_test)\n",
        "y_pred_svm = svm.predict(X_test)\n",
        "y_pred_logreg = logreg.predict(X_test)\n",
        "\n",
        "# calculate accuracy for all models\n",
        "acc_knn = accuracy_score(y_test, y_pred_knn)\n",
        "acc_svm = accuracy_score(y_test, y_pred_svm)\n",
        "acc_logreg = accuracy_score(y_test, y_pred_logreg)\n",
        "\n",
        "# create a bar chart to compare the accuracy of all models\n",
        "models = ['KNN', 'SVM', 'Logistic Regression']\n",
        "accuracy = [acc_knn, acc_svm, acc_logreg]\n",
        "\n",
        "plt.bar(models, accuracy, color=['r', 'g', 'b'])\n",
        "plt.title('Accuracy Comparison')\n",
        "plt.xlabel('Models')\n",
        "plt.ylabel('Accuracy')\n",
        "plt.show()\n"
      ],
      "metadata": {
        "colab": {
          "base_uri": "https://localhost:8080/",
          "height": 472
        },
        "id": "IL8PxzjAthjP",
        "outputId": "2e66db2d-efd4-40f6-e5c9-591a49b4eec1"
      },
      "id": "IL8PxzjAthjP",
      "execution_count": 39,
      "outputs": [
        {
          "output_type": "display_data",
          "data": {
            "text/plain": [
              "<Figure size 640x480 with 1 Axes>"
            ],
            "image/png": "[encoded data removed]"
          },
          "metadata": {}
        }
      ]
    },
    {
      "cell_type": "code",
      "source": [
        "label_db"
      ],
      "metadata": {
        "colab": {
          "base_uri": "https://localhost:8080/"
        },
        "id": "ZPUW9vJcthnd",
        "outputId": "9f9ee2ce-b091-451e-a116-c02f1d15312b"
      },
      "id": "ZPUW9vJcthnd",
      "execution_count": 24,
      "outputs": [
        {
          "output_type": "execute_result",
          "data": {
            "text/plain": [
              "0      Y\n",
              "1      N\n",
              "2      Y\n",
              "3      Y\n",
              "4      Y\n",
              "      ..\n",
              "995    Y\n",
              "996    Y\n",
              "997    Y\n",
              "998    Y\n",
              "999    P\n",
              "Name: CLASS, Length: 1000, dtype: object"
            ]
          },
          "metadata": {},
          "execution_count": 24
        }
      ]
    },
    {
      "cell_type": "code",
      "source": [],
      "metadata": {
        "id": "7cDMSuuXtgc5"
      },
      "id": "7cDMSuuXtgc5",
      "execution_count": null,
      "outputs": []
    },
    {
      "cell_type": "code",
      "source": [],
      "metadata": {
        "id": "I0kGJKF_tgjL"
      },
      "id": "I0kGJKF_tgjL",
      "execution_count": null,
      "outputs": []
    },
    {
      "cell_type": "code",
      "execution_count": null,
      "id": "eab53420",
      "metadata": {
        "id": "eab53420"
      },
      "outputs": [],
      "source": [
        "def demo():\n",
        "  arr = []\n",
        "  age = float(input('Enter your age here: (Max: 80, Min 20) '))\n",
        "  HbA1c = float(input('Input your average blood sugar level for the past 2 - 3 months: (Max: 16, Min 0.9) '))\n",
        "  Chol = float(input('Input your level of cholesterol here: (Max: 10.3, Min: 0) '))\n",
        "  TG = float(input(\"Enter your triglycerides here: (Min : 0.3, Max 13.8) \"))\n",
        "  VLDL = float(input('Enter the value of low density lipoprotein : (Max:35, Min 0.1) '))\n",
        "  BMI = float(input(\"Enter the value of the body mass index: (Max : 47.75, Min : 19) \"))\n",
        "  arr.append([age, HbA1c, Chol, TG, VLDL, BMI])\n",
        "  model = LogisticRegression(max_iter = 1000)\n",
        "  model.fit(X_train, Y_train)\n",
        "  result = model.predict(arr)\n",
        "  print(\" \")\n",
        "  print(\"Below are the details of your diabetes test result \")\n",
        "  print(\"\")\n",
        "  print(\"\")\n",
        "  print(\"Age : \", age)\n",
        "  print(\"HbA1c : \", HbA1c)\n",
        "  print(\"Cholesterol : \", Chol)\n",
        "  print(\"TG : \", TG)\n",
        "  print(\"VLDL : \", VLDL)\n",
        "  print(\"BMI : \", BMI)\n",
        "  print(\"\")\n",
        "  print(\"\")\n",
        "  print(\"Diabetes Status : \", [\"Positive\" if result == 'P' else \"Negative\" if result == 'N' else \"Pre-diabetes\" for result in result])"
      ]
    },
    {
      "cell_type": "code",
      "source": [
        "demo()"
      ],
      "metadata": {
        "colab": {
          "base_uri": "https://localhost:8080/"
        },
        "id": "9DM_x2obmewI",
        "outputId": "cea0aaf5-6ea9-4e7a-d881-50b97c9b7817"
      },
      "id": "9DM_x2obmewI",
      "execution_count": null,
      "outputs": [
        {
          "output_type": "stream",
          "name": "stdout",
          "text": [
            "Enter your age here: (Max: 80, Min 20) 21\n",
            "Input your average blood sugar level for the past 2 - 3 months: (Max: 16, Min 0.9) 0.4\n",
            "Input your level of cholesterol here: (Max: 10.3, Min: 0) 0.3\n",
            "Enter your triglycerides here: (Min : 0.3, Max 13.8) 0.6\n",
            "Enter the value of low density lipoprotein : (Max:35, Min 0.1) 1\n",
            "Enter the value of the body mass index: (Max : 47.75, Min : 19) 21\n",
            " \n",
            "Below are the details of your diabetes test result \n",
            "\n",
            "\n",
            "Age :  21.0\n",
            "HbA1c :  0.4\n",
            "Cholesterol :  0.3\n",
            "TG :  0.6\n",
            "VLDL :  1.0\n",
            "BMI :  21.0\n",
            "\n",
            "\n",
            "Diabetes Status :  ['Pre-diabetes']\n"
          ]
        }
      ]
    }
  ],
  "metadata": {
    "kernelspec": {
      "display_name": "Python 3 (ipykernel)",
      "language": "python",
      "name": "python3"
    },
    "language_info": {
      "codemirror_mode": {
        "name": "ipython",
        "version": 3
      },
      "file_extension": ".py",
      "mimetype": "text/x-python",
      "name": "python",
      "nbconvert_exporter": "python",
      "pygments_lexer": "ipython3",
      "version": "3.10.9"
    },
    "colab": {
      "provenance": [],
      "include_colab_link": true
    }
  },
  "nbformat": 4,
  "nbformat_minor": 5
}