{
  "cells": [
    {
      "cell_type": "markdown",
      "metadata": {
        "id": "view-in-github",
        "colab_type": "text"
      },
      "source": [
        "<a href=\"https://colab.research.google.com/github/ekomation/research/blob/main/script.ipynb\" target=\"_parent\"><img src=\"https://colab.research.google.com/assets/colab-badge.svg\" alt=\"Open In Colab\"/></a>"
      ]
    },
    {
      "cell_type": "code",
      "execution_count": null,
      "id": "f87d1b00",
      "metadata": {
        "id": "f87d1b00"
      },
      "outputs": [],
      "source": [
        "import numpy as np\n",
        "import pandas as pd"
      ]
    },
    {
      "cell_type": "code",
      "execution_count": null,
      "id": "e053d54e",
      "metadata": {
        "colab": {
          "base_uri": "https://localhost:8080/"
        },
        "id": "e053d54e",
        "outputId": "ace332d0-823b-4967-f0ba-c3576eb16acf"
      },
      "outputs": [
        {
          "output_type": "stream",
          "name": "stdout",
          "text": [
            "sepal length (cm): 0.000\n",
            "sepal width (cm): 0.018\n",
            "petal length (cm): 0.900\n",
            "petal width (cm): 0.082\n"
          ]
        }
      ],
      "source": [
        "from sklearn.tree import DecisionTreeClassifier\n",
        "from sklearn.datasets import load_iris\n",
        "from sklearn.model_selection import train_test_split\n",
        "\n",
        "# Load the iris dataset\n",
        "iris = load_iris()\n",
        "X, y = iris.data, iris.target\n",
        "\n",
        "# Split the data into training and test sets\n",
        "X_train, X_test, y_train, y_test = train_test_split(X, y, random_state=42)\n",
        "\n",
        "# Create a decision tree classifier\n",
        "dt = DecisionTreeClassifier(random_state=42)\n",
        "\n",
        "# Fit the decision tree classifier to the training data\n",
        "dt.fit(X_train, y_train)\n",
        "\n",
        "# Get the feature importances from the decision tree\n",
        "importances = dt.feature_importances_\n",
        "\n",
        "# Print the feature importances\n",
        "for feature, importance in zip(iris.feature_names, importances):\n",
        "    print(f\"{feature}: {importance:.3f}\")\n"
      ]
    },
    {
      "cell_type": "code",
      "execution_count": null,
      "id": "0b6ec169",
      "metadata": {
        "id": "0b6ec169"
      },
      "outputs": [],
      "source": [
        "\n"
      ]
    },
    {
      "cell_type": "code",
      "execution_count": null,
      "id": "8352f033",
      "metadata": {
        "id": "8352f033"
      },
      "outputs": [],
      "source": []
    },
    {
      "cell_type": "code",
      "execution_count": null,
      "id": "482dec39",
      "metadata": {
        "id": "482dec39"
      },
      "outputs": [],
      "source": []
    },
    {
      "cell_type": "code",
      "execution_count": null,
      "id": "20cff3a5",
      "metadata": {
        "id": "20cff3a5"
      },
      "outputs": [],
      "source": [
        "\n"
      ]
    },
    {
      "cell_type": "code",
      "execution_count": null,
      "id": "a0e99d76",
      "metadata": {
        "id": "a0e99d76"
      },
      "outputs": [],
      "source": []
    },
    {
      "cell_type": "code",
      "execution_count": null,
      "id": "a9dccd45",
      "metadata": {
        "id": "a9dccd45"
      },
      "outputs": [],
      "source": []
    },
    {
      "cell_type": "code",
      "execution_count": null,
      "id": "dae25bfc",
      "metadata": {
        "id": "dae25bfc"
      },
      "outputs": [],
      "source": []
    },
    {
      "cell_type": "code",
      "execution_count": null,
      "id": "63e9d371",
      "metadata": {
        "id": "63e9d371"
      },
      "outputs": [],
      "source": []
    },
    {
      "cell_type": "code",
      "execution_count": null,
      "id": "511f7fda",
      "metadata": {
        "id": "511f7fda"
      },
      "outputs": [],
      "source": []
    },
    {
      "cell_type": "code",
      "execution_count": null,
      "id": "56997a6e",
      "metadata": {
        "id": "56997a6e"
      },
      "outputs": [],
      "source": []
    },
    {
      "cell_type": "code",
      "execution_count": null,
      "id": "b902a31c",
      "metadata": {
        "id": "b902a31c"
      },
      "outputs": [],
      "source": []
    },
    {
      "cell_type": "code",
      "execution_count": null,
      "id": "c629ddbc",
      "metadata": {
        "id": "c629ddbc"
      },
      "outputs": [],
      "source": [
        "import seaborn as sns\n",
        "import matplotlib.pyplot as plt\n",
        "from random import randint\n",
        "%matplotlib inline \n",
        "import warnings\n",
        "warnings.filterwarnings(\"ignore\")\n",
        "\n",
        "from sklearn.model_selection import train_test_split\n",
        "def split(df,label):\n",
        "    X_tr, X_te, Y_tr, Y_te = train_test_split(df.iloc[:, :-1], label, test_size=0.25, random_state=42)\n",
        "    return X_tr, X_te, Y_tr, Y_te\n",
        "\n",
        "from sklearn.feature_selection import RFE\n",
        "from sklearn.linear_model import LogisticRegression\n",
        "from sklearn.neighbors import KNeighborsClassifier\n",
        "from sklearn import svm\n",
        "from sklearn import metrics\n",
        "from sklearn.metrics import accuracy_score\n",
        "from sklearn.model_selection import KFold, cross_val_score\n",
        "\n",
        "\n",
        "classifiers = ['Logistic', 'Support vector Machine', 'KNeighbors']\n",
        "\n"
      ]
    },
    {
      "cell_type": "code",
      "execution_count": null,
      "id": "cfada0a2",
      "metadata": {
        "id": "cfada0a2"
      },
      "outputs": [],
      "source": [
        "models = [LogisticRegression(max_iter = 1000),\n",
        "          svm.SVC(kernel='rbf'),\n",
        "          KNeighborsClassifier()]"
      ]
    },
    {
      "cell_type": "code",
      "execution_count": null,
      "id": "358bf0ea",
      "metadata": {
        "id": "358bf0ea"
      },
      "outputs": [],
      "source": []
    },
    {
      "cell_type": "code",
      "execution_count": null,
      "id": "9a3b58a6",
      "metadata": {
        "id": "9a3b58a6"
      },
      "outputs": [],
      "source": [
        "def acc_score(df,label):\n",
        "    Score = pd.DataFrame({\"Classifier\":classifiers})\n",
        "    j = 0\n",
        "    acc = []\n",
        "   # X = df.iloc[:, : -1]\n",
        "    X_train,X_test,Y_train,Y_test = split(df,label)\n",
        "    for i in models:\n",
        "        model = i\n",
        "        model.fit(X_train,Y_train)\n",
        "        predictions = model.predict(X_test)\n",
        "        acc.append(accuracy_score(Y_test,predictions))\n",
        "        j = j+1     \n",
        "    Score[\"Accuracy\"] = acc\n",
        "    Score.sort_values(by=\"Accuracy\", ascending=False,inplace = True)\n",
        "    Score.reset_index(drop=True, inplace=True)\n",
        "    #joblib.dump(model, 'diabetes_prediction_model.joblib')\n",
        "    return Score\n"
      ]
    },
    {
      "cell_type": "code",
      "execution_count": null,
      "id": "e30b48e7",
      "metadata": {
        "id": "e30b48e7"
      },
      "outputs": [],
      "source": []
    },
    {
      "cell_type": "code",
      "execution_count": null,
      "id": "3f393424",
      "metadata": {
        "id": "3f393424"
      },
      "outputs": [],
      "source": [
        "def plot(score,x,y,c = \"b\"):\n",
        "    gen = [1,2,3,4,5]\n",
        "    plt.figure(figsize=(6,4))\n",
        "    ax = sns.pointplot(x=gen, y=score,color = c )\n",
        "    ax.set(xlabel=\"Generation\", ylabel=\"Accuracy\")\n",
        "    ax.set(ylim=(x,y))"
      ]
    },
    {
      "cell_type": "code",
      "execution_count": null,
      "id": "acb4101f",
      "metadata": {
        "id": "acb4101f"
      },
      "outputs": [],
      "source": []
    },
    {
      "cell_type": "code",
      "execution_count": null,
      "id": "a43a1b2b",
      "metadata": {
        "id": "a43a1b2b"
      },
      "outputs": [],
      "source": [
        "def initilization_of_population(size,n_feat):\n",
        "    population = []\n",
        "    for i in range(size):\n",
        "        chromosome = np.ones(n_feat,dtype=np.bool)     \n",
        "        chromosome[:int(0.3*n_feat)]=False             \n",
        "        np.random.shuffle(chromosome)\n",
        "        population.append(chromosome)\n",
        "    return population\n",
        "\n"
      ]
    },
    {
      "cell_type": "code",
      "execution_count": null,
      "id": "c0095f68",
      "metadata": {
        "id": "c0095f68"
      },
      "outputs": [],
      "source": [
        "def fitness_score(population):\n",
        "    scores = []\n",
        "    for chromosome in population:\n",
        "        logmodel.fit(X_train.iloc[:,chromosome],Y_train)         \n",
        "        predictions = logmodel.predict(X_test.iloc[:,chromosome])\n",
        "        scores.append(accuracy_score(Y_test,predictions))\n",
        "    scores, population = np.array(scores), np.array(population) \n",
        "    inds = np.argsort(scores)                                    \n",
        "    return list(scores[inds][::-1]), list(population[inds,:][::-1]) \n",
        "\n"
      ]
    },
    {
      "cell_type": "code",
      "execution_count": null,
      "id": "12848e5a",
      "metadata": {
        "id": "12848e5a"
      },
      "outputs": [],
      "source": [
        "\n",
        "def selection(pop_after_fit,n_parents):\n",
        "    population_nextgen = []\n",
        "    for i in range(n_parents):\n",
        "        population_nextgen.append(pop_after_fit[i])\n",
        "    return population_nextgen\n"
      ]
    },
    {
      "cell_type": "code",
      "execution_count": null,
      "id": "df4c2e41",
      "metadata": {
        "id": "df4c2e41"
      },
      "outputs": [],
      "source": [
        "\n",
        "def crossover(pop_after_sel):\n",
        "    pop_nextgen = pop_after_sel\n",
        "    for i in range(0,len(pop_after_sel),2):\n",
        "        new_par = []\n",
        "        child_1 , child_2 = pop_nextgen[i] , pop_nextgen[i+1]\n",
        "        new_par = np.concatenate((child_1[:len(child_1)//2],child_2[len(child_1)//2:]))\n",
        "        pop_nextgen.append(new_par)\n",
        "    return pop_nextgen\n"
      ]
    },
    {
      "cell_type": "code",
      "execution_count": null,
      "id": "c65c5e93",
      "metadata": {
        "id": "c65c5e93"
      },
      "outputs": [],
      "source": [
        "\n",
        "def mutation(pop_after_cross,mutation_rate,n_feat):   \n",
        "    mutation_range = int(mutation_rate*n_feat)\n",
        "    pop_next_gen = []\n",
        "    for n in range(0,len(pop_after_cross)):\n",
        "        chromo = pop_after_cross[n]\n",
        "        rand_posi = [] \n",
        "        for i in range(0,mutation_range):\n",
        "            pos = randint(0,n_feat-1)\n",
        "            rand_posi.append(pos)\n",
        "        for j in rand_posi:\n",
        "            chromo[j] = not chromo[j]  \n",
        "        pop_next_gen.append(chromo)\n",
        "    return pop_next_gen"
      ]
    },
    {
      "cell_type": "code",
      "execution_count": null,
      "id": "eea1b9fc",
      "metadata": {
        "id": "eea1b9fc"
      },
      "outputs": [],
      "source": [
        "def generations(df,label,size,n_feat,n_parents,mutation_rate,n_gen,X_train,\n",
        "                                   X_test, Y_train, Y_test):\n",
        "    best_chromo= []\n",
        "    best_score= []\n",
        "    population_nextgen=initilization_of_population(size,n_feat)\n",
        "    for i in range(n_gen):\n",
        "        scores, pop_after_fit = fitness_score(population_nextgen)\n",
        "        print('Best score in generation',i+1,':',scores[:1])  #2\n",
        "        pop_after_sel = selection(pop_after_fit,n_parents)\n",
        "        pop_after_cross = crossover(pop_after_sel)\n",
        "        population_nextgen = mutation(pop_after_cross,mutation_rate,n_feat)\n",
        "        best_chromo.append(pop_after_fit[0])\n",
        "        best_score.append(scores[0])\n",
        "    return best_chromo,best_score"
      ]
    },
    {
      "cell_type": "code",
      "execution_count": null,
      "id": "c55f8522",
      "metadata": {
        "colab": {
          "base_uri": "https://localhost:8080/",
          "height": 75
        },
        "id": "c55f8522",
        "outputId": "bf4862e0-9d70-4f0b-cd38-d1bcf17eabbc"
      },
      "outputs": [
        {
          "output_type": "display_data",
          "data": {
            "text/plain": [
              "<IPython.core.display.HTML object>"
            ],
            "text/html": [
              "\n",
              "     <input type=\"file\" id=\"files-de7072ca-4d63-4b57-8567-1bbf2b084cec\" name=\"files[]\" multiple disabled\n",
              "        style=\"border:none\" />\n",
              "     <output id=\"result-de7072ca-4d63-4b57-8567-1bbf2b084cec\">\n",
              "      Upload widget is only available when the cell has been executed in the\n",
              "      current browser session. Please rerun this cell to enable.\n",
              "      </output>\n",
              "      <script>// Copyright 2017 Google LLC\n",
              "//\n",
              "// Licensed under the Apache License, Version 2.0 (the \"License\");\n",
              "// you may not use this file except in compliance with the License.\n",
              "// You may obtain a copy of the License at\n",
              "//\n",
              "//      http://www.apache.org/licenses/LICENSE-2.0\n",
              "//\n",
              "// Unless required by applicable law or agreed to in writing, software\n",
              "// distributed under the License is distributed on an \"AS IS\" BASIS,\n",
              "// WITHOUT WARRANTIES OR CONDITIONS OF ANY KIND, either express or implied.\n",
              "// See the License for the specific language governing permissions and\n",
              "// limitations under the License.\n",
              "\n",
              "/**\n",
              " * @fileoverview Helpers for google.colab Python module.\n",
              " */\n",
              "(function(scope) {\n",
              "function span(text, styleAttributes = {}) {\n",
              "  const element = document.createElement('span');\n",
              "  element.textContent = text;\n",
              "  for (const key of Object.keys(styleAttributes)) {\n",
              "    element.style[key] = styleAttributes[key];\n",
              "  }\n",
              "  return element;\n",
              "}\n",
              "\n",
              "// Max number of bytes which will be uploaded at a time.\n",
              "const MAX_PAYLOAD_SIZE = 100 * 1024;\n",
              "\n",
              "function _uploadFiles(inputId, outputId) {\n",
              "  const steps = uploadFilesStep(inputId, outputId);\n",
              "  const outputElement = document.getElementById(outputId);\n",
              "  // Cache steps on the outputElement to make it available for the next call\n",
              "  // to uploadFilesContinue from Python.\n",
              "  outputElement.steps = steps;\n",
              "\n",
              "  return _uploadFilesContinue(outputId);\n",
              "}\n",
              "\n",
              "// This is roughly an async generator (not supported in the browser yet),\n",
              "// where there are multiple asynchronous steps and the Python side is going\n",
              "// to poll for completion of each step.\n",
              "// This uses a Promise to block the python side on completion of each step,\n",
              "// then passes the result of the previous step as the input to the next step.\n",
              "function _uploadFilesContinue(outputId) {\n",
              "  const outputElement = document.getElementById(outputId);\n",
              "  const steps = outputElement.steps;\n",
              "\n",
              "  const next = steps.next(outputElement.lastPromiseValue);\n",
              "  return Promise.resolve(next.value.promise).then((value) => {\n",
              "    // Cache the last promise value to make it available to the next\n",
              "    // step of the generator.\n",
              "    outputElement.lastPromiseValue = value;\n",
              "    return next.value.response;\n",
              "  });\n",
              "}\n",
              "\n",
              "/**\n",
              " * Generator function which is called between each async step of the upload\n",
              " * process.\n",
              " * @param {string} inputId Element ID of the input file picker element.\n",
              " * @param {string} outputId Element ID of the output display.\n",
              " * @return {!Iterable<!Object>} Iterable of next steps.\n",
              " */\n",
              "function* uploadFilesStep(inputId, outputId) {\n",
              "  const inputElement = document.getElementById(inputId);\n",
              "  inputElement.disabled = false;\n",
              "\n",
              "  const outputElement = document.getElementById(outputId);\n",
              "  outputElement.innerHTML = '';\n",
              "\n",
              "  const pickedPromise = new Promise((resolve) => {\n",
              "    inputElement.addEventListener('change', (e) => {\n",
              "      resolve(e.target.files);\n",
              "    });\n",
              "  });\n",
              "\n",
              "  const cancel = document.createElement('button');\n",
              "  inputElement.parentElement.appendChild(cancel);\n",
              "  cancel.textContent = 'Cancel upload';\n",
              "  const cancelPromise = new Promise((resolve) => {\n",
              "    cancel.onclick = () => {\n",
              "      resolve(null);\n",
              "    };\n",
              "  });\n",
              "\n",
              "  // Wait for the user to pick the files.\n",
              "  const files = yield {\n",
              "    promise: Promise.race([pickedPromise, cancelPromise]),\n",
              "    response: {\n",
              "      action: 'starting',\n",
              "    }\n",
              "  };\n",
              "\n",
              "  cancel.remove();\n",
              "\n",
              "  // Disable the input element since further picks are not allowed.\n",
              "  inputElement.disabled = true;\n",
              "\n",
              "  if (!files) {\n",
              "    return {\n",
              "      response: {\n",
              "        action: 'complete',\n",
              "      }\n",
              "    };\n",
              "  }\n",
              "\n",
              "  for (const file of files) {\n",
              "    const li = document.createElement('li');\n",
              "    li.append(span(file.name, {fontWeight: 'bold'}));\n",
              "    li.append(span(\n",
              "        `(${file.type || 'n/a'}) - ${file.size} bytes, ` +\n",
              "        `last modified: ${\n",
              "            file.lastModifiedDate ? file.lastModifiedDate.toLocaleDateString() :\n",
              "                                    'n/a'} - `));\n",
              "    const percent = span('0% done');\n",
              "    li.appendChild(percent);\n",
              "\n",
              "    outputElement.appendChild(li);\n",
              "\n",
              "    const fileDataPromise = new Promise((resolve) => {\n",
              "      const reader = new FileReader();\n",
              "      reader.onload = (e) => {\n",
              "        resolve(e.target.result);\n",
              "      };\n",
              "      reader.readAsArrayBuffer(file);\n",
              "    });\n",
              "    // Wait for the data to be ready.\n",
              "    let fileData = yield {\n",
              "      promise: fileDataPromise,\n",
              "      response: {\n",
              "        action: 'continue',\n",
              "      }\n",
              "    };\n",
              "\n",
              "    // Use a chunked sending to avoid message size limits. See b/62115660.\n",
              "    let position = 0;\n",
              "    do {\n",
              "      const length = Math.min(fileData.byteLength - position, MAX_PAYLOAD_SIZE);\n",
              "      const chunk = new Uint8Array(fileData, position, length);\n",
              "      position += length;\n",
              "\n",
              "      const base64 = btoa(String.fromCharCode.apply(null, chunk));\n",
              "      yield {\n",
              "        response: {\n",
              "          action: 'append',\n",
              "          file: file.name,\n",
              "          data: base64,\n",
              "        },\n",
              "      };\n",
              "\n",
              "      let percentDone = fileData.byteLength === 0 ?\n",
              "          100 :\n",
              "          Math.round((position / fileData.byteLength) * 100);\n",
              "      percent.textContent = `${percentDone}% done`;\n",
              "\n",
              "    } while (position < fileData.byteLength);\n",
              "  }\n",
              "\n",
              "  // All done.\n",
              "  yield {\n",
              "    response: {\n",
              "      action: 'complete',\n",
              "    }\n",
              "  };\n",
              "}\n",
              "\n",
              "scope.google = scope.google || {};\n",
              "scope.google.colab = scope.google.colab || {};\n",
              "scope.google.colab._files = {\n",
              "  _uploadFiles,\n",
              "  _uploadFilesContinue,\n",
              "};\n",
              "})(self);\n",
              "</script> "
            ]
          },
          "metadata": {}
        },
        {
          "output_type": "stream",
          "name": "stdout",
          "text": [
            "Saving diabetes_data.csv to diabetes_data.csv\n"
          ]
        }
      ],
      "source": [
        "from google.colab import files\n",
        "uploaded = files.upload()"
      ]
    },
    {
      "cell_type": "code",
      "execution_count": null,
      "id": "effd76dd",
      "metadata": {
        "colab": {
          "base_uri": "https://localhost:8080/"
        },
        "id": "effd76dd",
        "outputId": "ee5fe092-405d-4be5-e32c-f7e5512acb6a"
      },
      "outputs": [
        {
          "output_type": "stream",
          "name": "stdout",
          "text": [
            "Diabetes disease dataset:\n",
            " 1000 Records\n",
            " 14 Features\n"
          ]
        }
      ],
      "source": [
        "data_db = pd.read_csv(\"diabetes_data.csv\").sample(frac = 1).reset_index(drop = True).drop([])\n",
        "label_db = data_db[\"CLASS\"]\n",
        "\n",
        "\n",
        "print(\"Diabetes disease dataset:\\n\",data_db.shape[0],\"Records\\n\",data_db.shape[1],\"Features\")\n"
      ]
    },
    {
      "cell_type": "code",
      "execution_count": null,
      "id": "aa2548f1",
      "metadata": {
        "id": "aa2548f1"
      },
      "outputs": [],
      "source": []
    },
    {
      "cell_type": "code",
      "execution_count": null,
      "id": "d09629f6",
      "metadata": {
        "id": "d09629f6"
      },
      "outputs": [],
      "source": [
        "#data cleaning\n",
        "data_db['CLASS'] = [2 if CLASS.strip() == 'Y' else 0 if CLASS.strip() == 'N' else 1 for CLASS in data_db['CLASS']]\n",
        "data_db['Gender'] = [0 if Gender.strip() in ['f', 'F'] else 1 if Gender.strip() == 'M' else None for Gender in data_db['Gender']]"
      ]
    },
    {
      "cell_type": "code",
      "execution_count": null,
      "id": "c9960141",
      "metadata": {
        "colab": {
          "base_uri": "https://localhost:8080/",
          "height": 300
        },
        "id": "c9960141",
        "outputId": "1ed2be9a-97ea-45a6-8da2-be48c7e476ad"
      },
      "outputs": [
        {
          "output_type": "execute_result",
          "data": {
            "text/plain": [
              "    ID  No_Pation  Gender  AGE  Urea   Cr  HbA1c  Chol    TG  HDL  LDL  VLDL  \\\n",
              "0  196     454316       1   55   3.1   39    8.5   5.0   2.5  1.9  2.9   0.7   \n",
              "1  109      46638       1   42   4.6   91    4.5   5.6   2.1  0.9  3.8   0.9   \n",
              "2  227      24047       0   63   8.7   93    9.0   5.9   2.2  1.2  3.7   1.0   \n",
              "3   62      34545       1   59   4.6   53   13.3   5.4   3.0  1.2  3.0   1.3   \n",
              "4  465      34484       0   56   2.3   22   10.2   5.8   2.0  1.1  1.8   0.9   \n",
              "5  591      34481       0   61   2.5   45   11.6   9.7  13.8  1.0  3.1   6.3   \n",
              "6  180     454316       0   54   6.3  106    5.6   4.3   2.0  1.3  2.2   0.9   \n",
              "7  184      45431       0   55  11.7  136    9.6   5.2   1.5  1.1  3.5   0.7   \n",
              "\n",
              "    BMI  CLASS  \n",
              "0  27.0      2  \n",
              "1  22.0      2  \n",
              "2  29.0      2  \n",
              "3  29.0      2  \n",
              "4  27.0      2  \n",
              "5  33.0      2  \n",
              "6  20.0      0  \n",
              "7  29.0      2  "
            ],
            "text/html": [
              "\n",
              "  <div id=\"df-b533b267-4b72-4798-b591-e623b0febc4f\">\n",
              "    <div class=\"colab-df-container\">\n",
              "      <div>\n",
              "<style scoped>\n",
              "    .dataframe tbody tr th:only-of-type {\n",
              "        vertical-align: middle;\n",
              "    }\n",
              "\n",
              "    .dataframe tbody tr th {\n",
              "        vertical-align: top;\n",
              "    }\n",
              "\n",
              "    .dataframe thead th {\n",
              "        text-align: right;\n",
              "    }\n",
              "</style>\n",
              "<table border=\"1\" class=\"dataframe\">\n",
              "  <thead>\n",
              "    <tr style=\"text-align: right;\">\n",
              "      <th></th>\n",
              "      <th>ID</th>\n",
              "      <th>No_Pation</th>\n",
              "      <th>Gender</th>\n",
              "      <th>AGE</th>\n",
              "      <th>Urea</th>\n",
              "      <th>Cr</th>\n",
              "      <th>HbA1c</th>\n",
              "      <th>Chol</th>\n",
              "      <th>TG</th>\n",
              "      <th>HDL</th>\n",
              "      <th>LDL</th>\n",
              "      <th>VLDL</th>\n",
              "      <th>BMI</th>\n",
              "      <th>CLASS</th>\n",
              "    </tr>\n",
              "  </thead>\n",
              "  <tbody>\n",
              "    <tr>\n",
              "      <th>0</th>\n",
              "      <td>196</td>\n",
              "      <td>454316</td>\n",
              "      <td>1</td>\n",
              "      <td>55</td>\n",
              "      <td>3.1</td>\n",
              "      <td>39</td>\n",
              "      <td>8.5</td>\n",
              "      <td>5.0</td>\n",
              "      <td>2.5</td>\n",
              "      <td>1.9</td>\n",
              "      <td>2.9</td>\n",
              "      <td>0.7</td>\n",
              "      <td>27.0</td>\n",
              "      <td>2</td>\n",
              "    </tr>\n",
              "    <tr>\n",
              "      <th>1</th>\n",
              "      <td>109</td>\n",
              "      <td>46638</td>\n",
              "      <td>1</td>\n",
              "      <td>42</td>\n",
              "      <td>4.6</td>\n",
              "      <td>91</td>\n",
              "      <td>4.5</td>\n",
              "      <td>5.6</td>\n",
              "      <td>2.1</td>\n",
              "      <td>0.9</td>\n",
              "      <td>3.8</td>\n",
              "      <td>0.9</td>\n",
              "      <td>22.0</td>\n",
              "      <td>2</td>\n",
              "    </tr>\n",
              "    <tr>\n",
              "      <th>2</th>\n",
              "      <td>227</td>\n",
              "      <td>24047</td>\n",
              "      <td>0</td>\n",
              "      <td>63</td>\n",
              "      <td>8.7</td>\n",
              "      <td>93</td>\n",
              "      <td>9.0</td>\n",
              "      <td>5.9</td>\n",
              "      <td>2.2</td>\n",
              "      <td>1.2</td>\n",
              "      <td>3.7</td>\n",
              "      <td>1.0</td>\n",
              "      <td>29.0</td>\n",
              "      <td>2</td>\n",
              "    </tr>\n",
              "    <tr>\n",
              "      <th>3</th>\n",
              "      <td>62</td>\n",
              "      <td>34545</td>\n",
              "      <td>1</td>\n",
              "      <td>59</td>\n",
              "      <td>4.6</td>\n",
              "      <td>53</td>\n",
              "      <td>13.3</td>\n",
              "      <td>5.4</td>\n",
              "      <td>3.0</td>\n",
              "      <td>1.2</td>\n",
              "      <td>3.0</td>\n",
              "      <td>1.3</td>\n",
              "      <td>29.0</td>\n",
              "      <td>2</td>\n",
              "    </tr>\n",
              "    <tr>\n",
              "      <th>4</th>\n",
              "      <td>465</td>\n",
              "      <td>34484</td>\n",
              "      <td>0</td>\n",
              "      <td>56</td>\n",
              "      <td>2.3</td>\n",
              "      <td>22</td>\n",
              "      <td>10.2</td>\n",
              "      <td>5.8</td>\n",
              "      <td>2.0</td>\n",
              "      <td>1.1</td>\n",
              "      <td>1.8</td>\n",
              "      <td>0.9</td>\n",
              "      <td>27.0</td>\n",
              "      <td>2</td>\n",
              "    </tr>\n",
              "    <tr>\n",
              "      <th>5</th>\n",
              "      <td>591</td>\n",
              "      <td>34481</td>\n",
              "      <td>0</td>\n",
              "      <td>61</td>\n",
              "      <td>2.5</td>\n",
              "      <td>45</td>\n",
              "      <td>11.6</td>\n",
              "      <td>9.7</td>\n",
              "      <td>13.8</td>\n",
              "      <td>1.0</td>\n",
              "      <td>3.1</td>\n",
              "      <td>6.3</td>\n",
              "      <td>33.0</td>\n",
              "      <td>2</td>\n",
              "    </tr>\n",
              "    <tr>\n",
              "      <th>6</th>\n",
              "      <td>180</td>\n",
              "      <td>454316</td>\n",
              "      <td>0</td>\n",
              "      <td>54</td>\n",
              "      <td>6.3</td>\n",
              "      <td>106</td>\n",
              "      <td>5.6</td>\n",
              "      <td>4.3</td>\n",
              "      <td>2.0</td>\n",
              "      <td>1.3</td>\n",
              "      <td>2.2</td>\n",
              "      <td>0.9</td>\n",
              "      <td>20.0</td>\n",
              "      <td>0</td>\n",
              "    </tr>\n",
              "    <tr>\n",
              "      <th>7</th>\n",
              "      <td>184</td>\n",
              "      <td>45431</td>\n",
              "      <td>0</td>\n",
              "      <td>55</td>\n",
              "      <td>11.7</td>\n",
              "      <td>136</td>\n",
              "      <td>9.6</td>\n",
              "      <td>5.2</td>\n",
              "      <td>1.5</td>\n",
              "      <td>1.1</td>\n",
              "      <td>3.5</td>\n",
              "      <td>0.7</td>\n",
              "      <td>29.0</td>\n",
              "      <td>2</td>\n",
              "    </tr>\n",
              "  </tbody>\n",
              "</table>\n",
              "</div>\n",
              "      <button class=\"colab-df-convert\" onclick=\"convertToInteractive('df-b533b267-4b72-4798-b591-e623b0febc4f')\"\n",
              "              title=\"Convert this dataframe to an interactive table.\"\n",
              "              style=\"display:none;\">\n",
              "        \n",
              "  <svg xmlns=\"http://www.w3.org/2000/svg\" height=\"24px\"viewBox=\"0 0 24 24\"\n",
              "       width=\"24px\">\n",
              "    <path d=\"M0 0h24v24H0V0z\" fill=\"none\"/>\n",
              "    <path d=\"M18.56 5.44l.94 2.06.94-2.06 2.06-.94-2.06-.94-.94-2.06-.94 2.06-2.06.94zm-11 1L8.5 8.5l.94-2.06 2.06-.94-2.06-.94L8.5 2.5l-.94 2.06-2.06.94zm10 10l.94 2.06.94-2.06 2.06-.94-2.06-.94-.94-2.06-.94 2.06-2.06.94z\"/><path d=\"M17.41 7.96l-1.37-1.37c-.4-.4-.92-.59-1.43-.59-.52 0-1.04.2-1.43.59L10.3 9.45l-7.72 7.72c-.78.78-.78 2.05 0 2.83L4 21.41c.39.39.9.59 1.41.59.51 0 1.02-.2 1.41-.59l7.78-7.78 2.81-2.81c.8-.78.8-2.07 0-2.86zM5.41 20L4 18.59l7.72-7.72 1.47 1.35L5.41 20z\"/>\n",
              "  </svg>\n",
              "      </button>\n",
              "      \n",
              "  <style>\n",
              "    .colab-df-container {\n",
              "      display:flex;\n",
              "      flex-wrap:wrap;\n",
              "      gap: 12px;\n",
              "    }\n",
              "\n",
              "    .colab-df-convert {\n",
              "      background-color: #E8F0FE;\n",
              "      border: none;\n",
              "      border-radius: 50%;\n",
              "      cursor: pointer;\n",
              "      display: none;\n",
              "      fill: #1967D2;\n",
              "      height: 32px;\n",
              "      padding: 0 0 0 0;\n",
              "      width: 32px;\n",
              "    }\n",
              "\n",
              "    .colab-df-convert:hover {\n",
              "      background-color: #E2EBFA;\n",
              "      box-shadow: 0px 1px 2px rgba(60, 64, 67, 0.3), 0px 1px 3px 1px rgba(60, 64, 67, 0.15);\n",
              "      fill: #174EA6;\n",
              "    }\n",
              "\n",
              "    [theme=dark] .colab-df-convert {\n",
              "      background-color: #3B4455;\n",
              "      fill: #D2E3FC;\n",
              "    }\n",
              "\n",
              "    [theme=dark] .colab-df-convert:hover {\n",
              "      background-color: #434B5C;\n",
              "      box-shadow: 0px 1px 3px 1px rgba(0, 0, 0, 0.15);\n",
              "      filter: drop-shadow(0px 1px 2px rgba(0, 0, 0, 0.3));\n",
              "      fill: #FFFFFF;\n",
              "    }\n",
              "  </style>\n",
              "\n",
              "      <script>\n",
              "        const buttonEl =\n",
              "          document.querySelector('#df-b533b267-4b72-4798-b591-e623b0febc4f button.colab-df-convert');\n",
              "        buttonEl.style.display =\n",
              "          google.colab.kernel.accessAllowed ? 'block' : 'none';\n",
              "\n",
              "        async function convertToInteractive(key) {\n",
              "          const element = document.querySelector('#df-b533b267-4b72-4798-b591-e623b0febc4f');\n",
              "          const dataTable =\n",
              "            await google.colab.kernel.invokeFunction('convertToInteractive',\n",
              "                                                     [key], {});\n",
              "          if (!dataTable) return;\n",
              "\n",
              "          const docLinkHtml = 'Like what you see? Visit the ' +\n",
              "            '<a target=\"_blank\" href=https://colab.research.google.com/notebooks/data_table.ipynb>data table notebook</a>'\n",
              "            + ' to learn more about interactive tables.';\n",
              "          element.innerHTML = '';\n",
              "          dataTable['output_type'] = 'display_data';\n",
              "          await google.colab.output.renderOutput(dataTable, element);\n",
              "          const docLink = document.createElement('div');\n",
              "          docLink.innerHTML = docLinkHtml;\n",
              "          element.appendChild(docLink);\n",
              "        }\n",
              "      </script>\n",
              "    </div>\n",
              "  </div>\n",
              "  "
            ]
          },
          "metadata": {},
          "execution_count": 25
        }
      ],
      "source": [
        "data_db.head(8)"
      ]
    },
    {
      "cell_type": "code",
      "source": [
        "# Split dataset into input and output variables\n",
        "X = data_db.iloc[:, 0:13]\n",
        "Y = data_db.iloc[:, 13]\n",
        "\n"
      ],
      "metadata": {
        "id": "oiLovFZQcGeL"
      },
      "id": "oiLovFZQcGeL",
      "execution_count": null,
      "outputs": []
    },
    {
      "cell_type": "code",
      "source": [
        "#performing feature selection to pick the mose prevalent variables\n",
        "from sklearn.tree import DecisionTreeClassifier\n",
        "from sklearn.model_selection import train_test_split\n",
        "\n",
        "\n",
        "\n",
        "# Split the data into training and testing sets\n",
        "X_train, X_test, y_train, y_test = train_test_split(X, Y, random_state=1)\n",
        "\n",
        "# Train a decision tree classifier on the training set\n",
        "dtc = DecisionTreeClassifier(random_state=0)\n",
        "dtc.fit(X_train, y_train)\n",
        "\n",
        "# Print the feature importances\n",
        "print(\"Feature importances:\\n{}\".format(dtc.feature_importances_))\n",
        "\n",
        "# Select the most important features\n",
        "important_features = [i for i in dtc.feature_importances_.tolist() if i > 0.0]\n",
        "#X_train_reduced = X_train[:, important_features]\n",
        "#X_test_reduced = X_test[:, important_features]"
      ],
      "metadata": {
        "colab": {
          "base_uri": "https://localhost:8080/"
        },
        "id": "9AiDWizycRpg",
        "outputId": "742aca09-5061-4f22-e3d6-8946d6c3a8d2"
      },
      "id": "9AiDWizycRpg",
      "execution_count": null,
      "outputs": [
        {
          "output_type": "stream",
          "name": "stdout",
          "text": [
            "Feature importances:\n",
            "[0.         0.0092848  0.         0.13023442 0.         0.00904364\n",
            " 0.61292511 0.07176393 0.0322422  0.00777322 0.0173794  0.\n",
            " 0.10935327]\n"
          ]
        }
      ]
    },
    {
      "cell_type": "code",
      "source": [
        "reduced_data = data_db[['AGE', 'HbA1c', 'Chol', 'TG', 'VLDL', 'BMI', 'CLASS']]"
      ],
      "metadata": {
        "id": "NrheAoLicR6k"
      },
      "id": "NrheAoLicR6k",
      "execution_count": null,
      "outputs": []
    },
    {
      "cell_type": "code",
      "source": [
        "#predicting the result using K-means classifier\n",
        "import pandas as pd\n",
        "import numpy as np\n",
        "from sklearn.cluster import KMeans\n",
        "from sklearn.preprocessing import StandardScaler\n",
        "import matplotlib.pyplot as plt\n",
        "%matplotlib inline"
      ],
      "metadata": {
        "id": "aYRH2zh5cSBE"
      },
      "id": "aYRH2zh5cSBE",
      "execution_count": null,
      "outputs": []
    },
    {
      "cell_type": "code",
      "source": [
        "#Preparing the dataset\n",
        "X = reduced_data.drop(\"CLASS\", axis = 1)"
      ],
      "metadata": {
        "id": "csbXP1XGcSMB"
      },
      "id": "csbXP1XGcSMB",
      "execution_count": null,
      "outputs": []
    },
    {
      "cell_type": "code",
      "source": [
        "scaler = StandardScaler()\n",
        "X = scaler.fit_transform(X)"
      ],
      "metadata": {
        "id": "uGw1UCAqfsg9"
      },
      "id": "uGw1UCAqfsg9",
      "execution_count": null,
      "outputs": []
    },
    {
      "cell_type": "code",
      "source": [
        "X"
      ],
      "metadata": {
        "colab": {
          "base_uri": "https://localhost:8080/"
        },
        "id": "HIdMiGODfyNX",
        "outputId": "e15c77d2-6a0a-42b3-a0f2-73c6001f6b67"
      },
      "id": "HIdMiGODfyNX",
      "execution_count": null,
      "outputs": [
        {
          "output_type": "execute_result",
          "data": {
            "text/plain": [
              "array([[ 0.16737086,  0.08640459,  0.10543496,  0.10738497, -0.31533956,\n",
              "        -0.51977192],\n",
              "       [-1.31076854, -1.49291529,  0.56658801, -0.17823235, -0.26072112,\n",
              "        -1.52785548],\n",
              "       [ 1.07699511,  0.28381958,  0.79716453, -0.10682802, -0.2334119 ,\n",
              "        -0.11653849],\n",
              "       ...,\n",
              "       [-1.5381746 , -0.30842538, -0.35571809, -0.67806268,  2.22441785,\n",
              "        -0.25767019],\n",
              "       [ 0.05366783,  2.13952043,  1.4888941 , -0.46384968, -0.28803034,\n",
              "         0.08507822],\n",
              "       [-0.40114429, -1.49291529, -1.1243065 , -1.177893  , -0.42457644,\n",
              "        -1.52785548]])"
            ]
          },
          "metadata": {},
          "execution_count": 35
        }
      ]
    },
    {
      "cell_type": "code",
      "source": [
        "wcss = []\n",
        "for i in range(1, 11):\n",
        "    kmeans = KMeans(n_clusters=i, init='k-means++', random_state=42)\n",
        "    kmeans.fit(X)\n",
        "    wcss.append(kmeans.inertia_)\n",
        "plt.plot(range(1, 11), wcss)\n",
        "plt.title('Elbow Method')\n",
        "plt.xlabel('Number of clusters')\n",
        "plt.ylabel('WCSS')\n",
        "plt.show()"
      ],
      "metadata": {
        "colab": {
          "base_uri": "https://localhost:8080/",
          "height": 472
        },
        "id": "mJZm2R9Ug3f2",
        "outputId": "84a49649-5a5c-485b-a587-3fdc3e69d6fb"
      },
      "id": "mJZm2R9Ug3f2",
      "execution_count": null,
      "outputs": [
        {
          "output_type": "display_data",
          "data": {
            "text/plain": [
              "<Figure size 640x480 with 1 Axes>"
            ],
            "image/png": "[encoded data removed]"
          },
          "metadata": {}
        }
      ]
    },
    {
      "cell_type": "code",
      "source": [
        "kmeans = KMeans(n_clusters=3, init='k-means++', random_state=42)\n",
        "kmeans.fit(X)"
      ],
      "metadata": {
        "colab": {
          "base_uri": "https://localhost:8080/",
          "height": 75
        },
        "id": "8P8lEYQNg3vw",
        "outputId": "5e27d184-1b8d-4740-f5f3-3b7897fd1cf8"
      },
      "id": "8P8lEYQNg3vw",
      "execution_count": null,
      "outputs": [
        {
          "output_type": "execute_result",
          "data": {
            "text/plain": [
              "KMeans(n_clusters=3, random_state=42)"
            ],
            "text/html": [
              "<style>#sk-container-id-1 {color: black;background-color: white;}#sk-container-id-1 pre{padding: 0;}#sk-container-id-1 div.sk-toggleable {background-color: white;}#sk-container-id-1 label.sk-toggleable__label {cursor: pointer;display: block;width: 100%;margin-bottom: 0;padding: 0.3em;box-sizing: border-box;text-align: center;}#sk-container-id-1 label.sk-toggleable__label-arrow:before {content: \"▸\";float: left;margin-right: 0.25em;color: #696969;}#sk-container-id-1 label.sk-toggleable__label-arrow:hover:before {color: black;}#sk-container-id-1 div.sk-estimator:hover label.sk-toggleable__label-arrow:before {color: black;}#sk-container-id-1 div.sk-toggleable__content {max-height: 0;max-width: 0;overflow: hidden;text-align: left;background-color: #f0f8ff;}#sk-container-id-1 div.sk-toggleable__content pre {margin: 0.2em;color: black;border-radius: 0.25em;background-color: #f0f8ff;}#sk-container-id-1 input.sk-toggleable__control:checked~div.sk-toggleable__content {max-height: 200px;max-width: 100%;overflow: auto;}#sk-container-id-1 input.sk-toggleable__control:checked~label.sk-toggleable__label-arrow:before {content: \"▾\";}#sk-container-id-1 div.sk-estimator input.sk-toggleable__control:checked~label.sk-toggleable__label {background-color: #d4ebff;}#sk-container-id-1 div.sk-label input.sk-toggleable__control:checked~label.sk-toggleable__label {background-color: #d4ebff;}#sk-container-id-1 input.sk-hidden--visually {border: 0;clip: rect(1px 1px 1px 1px);clip: rect(1px, 1px, 1px, 1px);height: 1px;margin: -1px;overflow: hidden;padding: 0;position: absolute;width: 1px;}#sk-container-id-1 div.sk-estimator {font-family: monospace;background-color: #f0f8ff;border: 1px dotted black;border-radius: 0.25em;box-sizing: border-box;margin-bottom: 0.5em;}#sk-container-id-1 div.sk-estimator:hover {background-color: #d4ebff;}#sk-container-id-1 div.sk-parallel-item::after {content: \"\";width: 100%;border-bottom: 1px solid gray;flex-grow: 1;}#sk-container-id-1 div.sk-label:hover label.sk-toggleable__label {background-color: #d4ebff;}#sk-container-id-1 div.sk-serial::before {content: \"\";position: absolute;border-left: 1px solid gray;box-sizing: border-box;top: 0;bottom: 0;left: 50%;z-index: 0;}#sk-container-id-1 div.sk-serial {display: flex;flex-direction: column;align-items: center;background-color: white;padding-right: 0.2em;padding-left: 0.2em;position: relative;}#sk-container-id-1 div.sk-item {position: relative;z-index: 1;}#sk-container-id-1 div.sk-parallel {display: flex;align-items: stretch;justify-content: center;background-color: white;position: relative;}#sk-container-id-1 div.sk-item::before, #sk-container-id-1 div.sk-parallel-item::before {content: \"\";position: absolute;border-left: 1px solid gray;box-sizing: border-box;top: 0;bottom: 0;left: 50%;z-index: -1;}#sk-container-id-1 div.sk-parallel-item {display: flex;flex-direction: column;z-index: 1;position: relative;background-color: white;}#sk-container-id-1 div.sk-parallel-item:first-child::after {align-self: flex-end;width: 50%;}#sk-container-id-1 div.sk-parallel-item:last-child::after {align-self: flex-start;width: 50%;}#sk-container-id-1 div.sk-parallel-item:only-child::after {width: 0;}#sk-container-id-1 div.sk-dashed-wrapped {border: 1px dashed gray;margin: 0 0.4em 0.5em 0.4em;box-sizing: border-box;padding-bottom: 0.4em;background-color: white;}#sk-container-id-1 div.sk-label label {font-family: monospace;font-weight: bold;display: inline-block;line-height: 1.2em;}#sk-container-id-1 div.sk-label-container {text-align: center;}#sk-container-id-1 div.sk-container {/* jupyter's `normalize.less` sets `[hidden] { display: none; }` but bootstrap.min.css set `[hidden] { display: none !important; }` so we also need the `!important` here to be able to override the default hidden behavior on the sphinx rendered scikit-learn.org. See: https://github.com/scikit-learn/scikit-learn/issues/21755 */display: inline-block !important;position: relative;}#sk-container-id-1 div.sk-text-repr-fallback {display: none;}</style><div id=\"sk-container-id-1\" class=\"sk-top-container\"><div class=\"sk-text-repr-fallback\"><pre>KMeans(n_clusters=3, random_state=42)</pre><b>In a Jupyter environment, please rerun this cell to show the HTML representation or trust the notebook. <br />On GitHub, the HTML representation is unable to render, please try loading this page with nbviewer.org.</b></div><div class=\"sk-container\" hidden><div class=\"sk-item\"><div class=\"sk-estimator sk-toggleable\"><input class=\"sk-toggleable__control sk-hidden--visually\" id=\"sk-estimator-id-1\" type=\"checkbox\" checked><label for=\"sk-estimator-id-1\" class=\"sk-toggleable__label sk-toggleable__label-arrow\">KMeans</label><div class=\"sk-toggleable__content\"><pre>KMeans(n_clusters=3, random_state=42)</pre></div></div></div></div></div>"
            ]
          },
          "metadata": {},
          "execution_count": 38
        }
      ]
    },
    {
      "cell_type": "code",
      "source": [
        "labels = kmeans.predict(X)\n",
        "reduced_means = reduced_data.copy()"
      ],
      "metadata": {
        "id": "Hdu2u1vlhZPk"
      },
      "id": "Hdu2u1vlhZPk",
      "execution_count": null,
      "outputs": []
    },
    {
      "cell_type": "code",
      "source": [
        "reduced_means['Cluster'] = labels"
      ],
      "metadata": {
        "id": "3vjp0AxfhZYS"
      },
      "id": "3vjp0AxfhZYS",
      "execution_count": null,
      "outputs": []
    },
    {
      "cell_type": "code",
      "source": [
        "reduced_means"
      ],
      "metadata": {
        "colab": {
          "base_uri": "https://localhost:8080/",
          "height": 424
        },
        "id": "nIlPtwwxhuY1",
        "outputId": "92a83960-ce7c-4292-c3aa-f3914c6c5104"
      },
      "id": "nIlPtwwxhuY1",
      "execution_count": null,
      "outputs": [
        {
          "output_type": "execute_result",
          "data": {
            "text/plain": [
              "     AGE  HbA1c  Chol   TG  VLDL   BMI  CLASS  Cluster\n",
              "0     55    8.5   5.0  2.5   0.7  27.0      2        0\n",
              "1     42    4.5   5.6  2.1   0.9  22.0      2        1\n",
              "2     63    9.0   5.9  2.2   1.0  29.0      2        0\n",
              "3     59   13.3   5.4  3.0   1.3  29.0      2        0\n",
              "4     56   10.2   5.8  2.0   0.9  27.0      2        0\n",
              "..   ...    ...   ...  ...   ...   ...    ...      ...\n",
              "995   52   13.2   3.9  1.3   0.6  35.0      2        0\n",
              "996   69    7.7   4.9  1.9   0.7  37.0      2        0\n",
              "997   40    7.5   4.4  1.4  10.0  28.3      2        2\n",
              "998   54   13.7   6.8  1.7   0.8  30.0      2        0\n",
              "999   50    4.5   3.4  0.7   0.3  22.0      0        1\n",
              "\n",
              "[1000 rows x 8 columns]"
            ],
            "text/html": [
              "\n",
              "  <div id=\"df-425a95a4-e5ed-43b6-968f-4f6cce7c5620\">\n",
              "    <div class=\"colab-df-container\">\n",
              "      <div>\n",
              "<style scoped>\n",
              "    .dataframe tbody tr th:only-of-type {\n",
              "        vertical-align: middle;\n",
              "    }\n",
              "\n",
              "    .dataframe tbody tr th {\n",
              "        vertical-align: top;\n",
              "    }\n",
              "\n",
              "    .dataframe thead th {\n",
              "        text-align: right;\n",
              "    }\n",
              "</style>\n",
              "<table border=\"1\" class=\"dataframe\">\n",
              "  <thead>\n",
              "    <tr style=\"text-align: right;\">\n",
              "      <th></th>\n",
              "      <th>AGE</th>\n",
              "      <th>HbA1c</th>\n",
              "      <th>Chol</th>\n",
              "      <th>TG</th>\n",
              "      <th>VLDL</th>\n",
              "      <th>BMI</th>\n",
              "      <th>CLASS</th>\n",
              "      <th>Cluster</th>\n",
              "    </tr>\n",
              "  </thead>\n",
              "  <tbody>\n",
              "    <tr>\n",
              "      <th>0</th>\n",
              "      <td>55</td>\n",
              "      <td>8.5</td>\n",
              "      <td>5.0</td>\n",
              "      <td>2.5</td>\n",
              "      <td>0.7</td>\n",
              "      <td>27.0</td>\n",
              "      <td>2</td>\n",
              "      <td>0</td>\n",
              "    </tr>\n",
              "    <tr>\n",
              "      <th>1</th>\n",
              "      <td>42</td>\n",
              "      <td>4.5</td>\n",
              "      <td>5.6</td>\n",
              "      <td>2.1</td>\n",
              "      <td>0.9</td>\n",
              "      <td>22.0</td>\n",
              "      <td>2</td>\n",
              "      <td>1</td>\n",
              "    </tr>\n",
              "    <tr>\n",
              "      <th>2</th>\n",
              "      <td>63</td>\n",
              "      <td>9.0</td>\n",
              "      <td>5.9</td>\n",
              "      <td>2.2</td>\n",
              "      <td>1.0</td>\n",
              "      <td>29.0</td>\n",
              "      <td>2</td>\n",
              "      <td>0</td>\n",
              "    </tr>\n",
              "    <tr>\n",
              "      <th>3</th>\n",
              "      <td>59</td>\n",
              "      <td>13.3</td>\n",
              "      <td>5.4</td>\n",
              "      <td>3.0</td>\n",
              "      <td>1.3</td>\n",
              "      <td>29.0</td>\n",
              "      <td>2</td>\n",
              "      <td>0</td>\n",
              "    </tr>\n",
              "    <tr>\n",
              "      <th>4</th>\n",
              "      <td>56</td>\n",
              "      <td>10.2</td>\n",
              "      <td>5.8</td>\n",
              "      <td>2.0</td>\n",
              "      <td>0.9</td>\n",
              "      <td>27.0</td>\n",
              "      <td>2</td>\n",
              "      <td>0</td>\n",
              "    </tr>\n",
              "    <tr>\n",
              "      <th>...</th>\n",
              "      <td>...</td>\n",
              "      <td>...</td>\n",
              "      <td>...</td>\n",
              "      <td>...</td>\n",
              "      <td>...</td>\n",
              "      <td>...</td>\n",
              "      <td>...</td>\n",
              "      <td>...</td>\n",
              "    </tr>\n",
              "    <tr>\n",
              "      <th>995</th>\n",
              "      <td>52</td>\n",
              "      <td>13.2</td>\n",
              "      <td>3.9</td>\n",
              "      <td>1.3</td>\n",
              "      <td>0.6</td>\n",
              "      <td>35.0</td>\n",
              "      <td>2</td>\n",
              "      <td>0</td>\n",
              "    </tr>\n",
              "    <tr>\n",
              "      <th>996</th>\n",
              "      <td>69</td>\n",
              "      <td>7.7</td>\n",
              "      <td>4.9</td>\n",
              "      <td>1.9</td>\n",
              "      <td>0.7</td>\n",
              "      <td>37.0</td>\n",
              "      <td>2</td>\n",
              "      <td>0</td>\n",
              "    </tr>\n",
              "    <tr>\n",
              "      <th>997</th>\n",
              "      <td>40</td>\n",
              "      <td>7.5</td>\n",
              "      <td>4.4</td>\n",
              "      <td>1.4</td>\n",
              "      <td>10.0</td>\n",
              "      <td>28.3</td>\n",
              "      <td>2</td>\n",
              "      <td>2</td>\n",
              "    </tr>\n",
              "    <tr>\n",
              "      <th>998</th>\n",
              "      <td>54</td>\n",
              "      <td>13.7</td>\n",
              "      <td>6.8</td>\n",
              "      <td>1.7</td>\n",
              "      <td>0.8</td>\n",
              "      <td>30.0</td>\n",
              "      <td>2</td>\n",
              "      <td>0</td>\n",
              "    </tr>\n",
              "    <tr>\n",
              "      <th>999</th>\n",
              "      <td>50</td>\n",
              "      <td>4.5</td>\n",
              "      <td>3.4</td>\n",
              "      <td>0.7</td>\n",
              "      <td>0.3</td>\n",
              "      <td>22.0</td>\n",
              "      <td>0</td>\n",
              "      <td>1</td>\n",
              "    </tr>\n",
              "  </tbody>\n",
              "</table>\n",
              "<p>1000 rows × 8 columns</p>\n",
              "</div>\n",
              "      <button class=\"colab-df-convert\" onclick=\"convertToInteractive('df-425a95a4-e5ed-43b6-968f-4f6cce7c5620')\"\n",
              "              title=\"Convert this dataframe to an interactive table.\"\n",
              "              style=\"display:none;\">\n",
              "        \n",
              "  <svg xmlns=\"http://www.w3.org/2000/svg\" height=\"24px\"viewBox=\"0 0 24 24\"\n",
              "       width=\"24px\">\n",
              "    <path d=\"M0 0h24v24H0V0z\" fill=\"none\"/>\n",
              "    <path d=\"M18.56 5.44l.94 2.06.94-2.06 2.06-.94-2.06-.94-.94-2.06-.94 2.06-2.06.94zm-11 1L8.5 8.5l.94-2.06 2.06-.94-2.06-.94L8.5 2.5l-.94 2.06-2.06.94zm10 10l.94 2.06.94-2.06 2.06-.94-2.06-.94-.94-2.06-.94 2.06-2.06.94z\"/><path d=\"M17.41 7.96l-1.37-1.37c-.4-.4-.92-.59-1.43-.59-.52 0-1.04.2-1.43.59L10.3 9.45l-7.72 7.72c-.78.78-.78 2.05 0 2.83L4 21.41c.39.39.9.59 1.41.59.51 0 1.02-.2 1.41-.59l7.78-7.78 2.81-2.81c.8-.78.8-2.07 0-2.86zM5.41 20L4 18.59l7.72-7.72 1.47 1.35L5.41 20z\"/>\n",
              "  </svg>\n",
              "      </button>\n",
              "      \n",
              "  <style>\n",
              "    .colab-df-container {\n",
              "      display:flex;\n",
              "      flex-wrap:wrap;\n",
              "      gap: 12px;\n",
              "    }\n",
              "\n",
              "    .colab-df-convert {\n",
              "      background-color: #E8F0FE;\n",
              "      border: none;\n",
              "      border-radius: 50%;\n",
              "      cursor: pointer;\n",
              "      display: none;\n",
              "      fill: #1967D2;\n",
              "      height: 32px;\n",
              "      padding: 0 0 0 0;\n",
              "      width: 32px;\n",
              "    }\n",
              "\n",
              "    .colab-df-convert:hover {\n",
              "      background-color: #E2EBFA;\n",
              "      box-shadow: 0px 1px 2px rgba(60, 64, 67, 0.3), 0px 1px 3px 1px rgba(60, 64, 67, 0.15);\n",
              "      fill: #174EA6;\n",
              "    }\n",
              "\n",
              "    [theme=dark] .colab-df-convert {\n",
              "      background-color: #3B4455;\n",
              "      fill: #D2E3FC;\n",
              "    }\n",
              "\n",
              "    [theme=dark] .colab-df-convert:hover {\n",
              "      background-color: #434B5C;\n",
              "      box-shadow: 0px 1px 3px 1px rgba(0, 0, 0, 0.15);\n",
              "      filter: drop-shadow(0px 1px 2px rgba(0, 0, 0, 0.3));\n",
              "      fill: #FFFFFF;\n",
              "    }\n",
              "  </style>\n",
              "\n",
              "      <script>\n",
              "        const buttonEl =\n",
              "          document.querySelector('#df-425a95a4-e5ed-43b6-968f-4f6cce7c5620 button.colab-df-convert');\n",
              "        buttonEl.style.display =\n",
              "          google.colab.kernel.accessAllowed ? 'block' : 'none';\n",
              "\n",
              "        async function convertToInteractive(key) {\n",
              "          const element = document.querySelector('#df-425a95a4-e5ed-43b6-968f-4f6cce7c5620');\n",
              "          const dataTable =\n",
              "            await google.colab.kernel.invokeFunction('convertToInteractive',\n",
              "                                                     [key], {});\n",
              "          if (!dataTable) return;\n",
              "\n",
              "          const docLinkHtml = 'Like what you see? Visit the ' +\n",
              "            '<a target=\"_blank\" href=https://colab.research.google.com/notebooks/data_table.ipynb>data table notebook</a>'\n",
              "            + ' to learn more about interactive tables.';\n",
              "          element.innerHTML = '';\n",
              "          dataTable['output_type'] = 'display_data';\n",
              "          await google.colab.output.renderOutput(dataTable, element);\n",
              "          const docLink = document.createElement('div');\n",
              "          docLink.innerHTML = docLinkHtml;\n",
              "          element.appendChild(docLink);\n",
              "        }\n",
              "      </script>\n",
              "    </div>\n",
              "  </div>\n",
              "  "
            ]
          },
          "metadata": {},
          "execution_count": 41
        }
      ]
    },
    {
      "cell_type": "code",
      "source": [
        "#visualizing gthe result\n",
        "plt.scatter(X[labels == 0, 0], X[labels == 0, 1], s = 50, c = 'red', label = 'Cluster 1')\n",
        "plt.scatter(X[labels == 1, 0], X[labels == 1, 1], s = 50, c = 'blue', label = 'Cluster 2')\n",
        "plt.scatter(X[labels == 2, 0], X[labels == 2, 1], s = 50, c = 'green', label = 'Cluster 3')\n",
        "plt.scatter(kmeans.cluster_centers_[:, 0], kmeans.cluster_centers_[:, 1], s = 100, c = 'yellow', label = 'Centroids')\n",
        "plt.title('Clusters of Patients')\n",
        "plt.xlabel('PC1')\n",
        "plt.ylabel('PC2')\n",
        "plt.legend()\n",
        "plt.show()"
      ],
      "metadata": {
        "colab": {
          "base_uri": "https://localhost:8080/",
          "height": 472
        },
        "id": "LAJu-GV2hucy",
        "outputId": "4b3e71c8-8147-4ffc-c293-7b5a0a611d42"
      },
      "id": "LAJu-GV2hucy",
      "execution_count": null,
      "outputs": [
        {
          "output_type": "display_data",
          "data": {
            "text/plain": [
              "<Figure size 640x480 with 1 Axes>"
            ],
            "image/png": "[encoded data removed]"
          },
          "metadata": {}
        }
      ]
    },
    {
      "cell_type": "code",
      "source": [],
      "metadata": {
        "id": "PAPYQdw6hugt"
      },
      "id": "PAPYQdw6hugt",
      "execution_count": null,
      "outputs": []
    },
    {
      "cell_type": "code",
      "source": [],
      "metadata": {
        "id": "F8ivn-mAhums"
      },
      "id": "F8ivn-mAhums",
      "execution_count": null,
      "outputs": []
    },
    {
      "cell_type": "code",
      "execution_count": null,
      "id": "7d68a7c1",
      "metadata": {
        "id": "7d68a7c1"
      },
      "outputs": [],
      "source": []
    },
    {
      "cell_type": "code",
      "execution_count": null,
      "id": "01d7d097",
      "metadata": {
        "id": "01d7d097",
        "outputId": "c16d60ca-8a71-4ff2-a056-78ccebea4714"
      },
      "outputs": [
        {
          "name": "stdout",
          "output_type": "stream",
          "text": [
            "[ 1  3  6  7  8 11 12]\n"
          ]
        }
      ],
      "source": [
        "#Feature selection : using Feature Importance Method\n",
        "#Here logistc regression is employed.\n",
        "from sklearn.ensemble import RandomForestClassifier\n",
        "from sklearn.feature_selection import SelectFromModel\n",
        "\n",
        "fx = data_db.drop('CLASS', axis = 1)\n",
        "fy = data_db['CLASS']\n",
        "\n",
        "\n",
        "# Fit a random forest classifier model\n",
        "clf = RandomForestClassifier(n_estimators=100, random_state=42)\n",
        "clf.fit(fx, fy)\n",
        "\n",
        "\n",
        "# Select features based on feature importances\n",
        "selector = SelectFromModel(clf, threshold='median')\n",
        "selector.fit(fx, fy)\n",
        "\n",
        "\n",
        "# Print the selected feature indices\n",
        "selected_features = selector.get_support(indices=True)\n",
        "print(selected_features)\n"
      ]
    },
    {
      "cell_type": "code",
      "execution_count": null,
      "id": "04dfe541",
      "metadata": {
        "id": "04dfe541"
      },
      "outputs": [],
      "source": []
    },
    {
      "cell_type": "code",
      "execution_count": null,
      "id": "740f23a9",
      "metadata": {
        "id": "740f23a9"
      },
      "outputs": [],
      "source": [
        "unscaled_acc = acc_score(data_db,label_db)"
      ]
    },
    {
      "cell_type": "code",
      "execution_count": null,
      "id": "f41bda2c",
      "metadata": {
        "id": "f41bda2c",
        "outputId": "b670c85b-c827-48ad-dc56-8e35dc6cfe04"
      },
      "outputs": [
        {
          "data": {
            "text/html": [
              "<div>\n",
              "<style scoped>\n",
              "    .dataframe tbody tr th:only-of-type {\n",
              "        vertical-align: middle;\n",
              "    }\n",
              "\n",
              "    .dataframe tbody tr th {\n",
              "        vertical-align: top;\n",
              "    }\n",
              "\n",
              "    .dataframe thead th {\n",
              "        text-align: right;\n",
              "    }\n",
              "</style>\n",
              "<table border=\"1\" class=\"dataframe\">\n",
              "  <thead>\n",
              "    <tr style=\"text-align: right;\">\n",
              "      <th></th>\n",
              "      <th>Classifier</th>\n",
              "      <th>Accuracy</th>\n",
              "    </tr>\n",
              "  </thead>\n",
              "  <tbody>\n",
              "    <tr>\n",
              "      <th>0</th>\n",
              "      <td>KNeighbors</td>\n",
              "      <td>0.852</td>\n",
              "    </tr>\n",
              "    <tr>\n",
              "      <th>1</th>\n",
              "      <td>Logistic</td>\n",
              "      <td>0.848</td>\n",
              "    </tr>\n",
              "    <tr>\n",
              "      <th>2</th>\n",
              "      <td>Support vector Machine</td>\n",
              "      <td>0.848</td>\n",
              "    </tr>\n",
              "  </tbody>\n",
              "</table>\n",
              "</div>"
            ],
            "text/plain": [
              "               Classifier  Accuracy\n",
              "0              KNeighbors     0.852\n",
              "1                Logistic     0.848\n",
              "2  Support vector Machine     0.848"
            ]
          },
          "execution_count": 16,
          "metadata": {},
          "output_type": "execute_result"
        }
      ],
      "source": [
        "unscaled_acc"
      ]
    },
    {
      "cell_type": "code",
      "execution_count": null,
      "id": "55f48859",
      "metadata": {
        "id": "55f48859"
      },
      "outputs": [],
      "source": [
        "#scaled_acc = acc_score9dat"
      ]
    },
    {
      "cell_type": "code",
      "execution_count": null,
      "id": "f9dcd72f",
      "metadata": {
        "id": "f9dcd72f"
      },
      "outputs": [],
      "source": []
    },
    {
      "cell_type": "code",
      "execution_count": null,
      "id": "ced9e1d8",
      "metadata": {
        "id": "ced9e1d8"
      },
      "outputs": [],
      "source": [
        "from sklearn.cluster import KMeans\n",
        "\n",
        "# create a KMeans object with the desired number of clusters\n",
        "kmeans = KMeans(n_clusters=2, random_state = 1)\n",
        "\n",
        "# fit the data to the model\n",
        "kmeans = kmeans.fit(data_db)\n",
        "\n",
        "# predict the cluster labels for each data point\n",
        "labels = kmeans.predict(data_db)\n",
        "\n",
        "# get the centroids of each cluster\n",
        "centroids = kmeans.cluster_centers_\n",
        "\n",
        "# get the sum of squared distances for each point to its nearest centroid\n",
        "wcss = kmeans.inertia_"
      ]
    },
    {
      "cell_type": "code",
      "execution_count": null,
      "id": "a98a973a",
      "metadata": {
        "id": "a98a973a"
      },
      "outputs": [],
      "source": [
        "data_with_clusters = pd.concat([data_db, pd.Series(kmeans.labels_, name=\"Cluster\")], axis=1)"
      ]
    },
    {
      "cell_type": "code",
      "execution_count": null,
      "id": "5f976be2",
      "metadata": {
        "id": "5f976be2"
      },
      "outputs": [],
      "source": [
        "from sklearn.preprocessing import StandardScaler"
      ]
    },
    {
      "cell_type": "code",
      "execution_count": null,
      "id": "094be951",
      "metadata": {
        "id": "094be951"
      },
      "outputs": [],
      "source": [
        "scaler = StandardScaler()"
      ]
    },
    {
      "cell_type": "code",
      "execution_count": null,
      "id": "37eeafec",
      "metadata": {
        "id": "37eeafec",
        "outputId": "d705c41c-5e57-41d2-c16e-93cf0b02a792"
      },
      "outputs": [
        {
          "data": {
            "text/plain": [
              "Index(['ID', 'No_Pation', 'Gender', 'AGE', 'Urea', 'Cr', 'HbA1c', 'Chol', 'TG',\n",
              "       'HDL', 'LDL', 'VLDL', 'BMI', 'CLASS'],\n",
              "      dtype='object')"
            ]
          },
          "execution_count": 22,
          "metadata": {},
          "output_type": "execute_result"
        }
      ],
      "source": [
        "data_db.columns"
      ]
    },
    {
      "cell_type": "code",
      "execution_count": null,
      "id": "13373b9b",
      "metadata": {
        "id": "13373b9b"
      },
      "outputs": [],
      "source": [
        "data_with_scale = data_db.copy()"
      ]
    },
    {
      "cell_type": "code",
      "execution_count": null,
      "id": "5ff437ad",
      "metadata": {
        "id": "5ff437ad"
      },
      "outputs": [],
      "source": [
        "columns_to_scale = ['ID', 'No_Pation', 'Gender', 'AGE', 'Urea', 'Cr', 'HbA1c', 'Chol', 'TG',\n",
        "       'HDL', 'LDL', 'VLDL', 'BMI']"
      ]
    },
    {
      "cell_type": "code",
      "execution_count": null,
      "id": "8a0b2d10",
      "metadata": {
        "id": "8a0b2d10"
      },
      "outputs": [],
      "source": []
    },
    {
      "cell_type": "code",
      "execution_count": null,
      "id": "69ab4c43",
      "metadata": {
        "id": "69ab4c43"
      },
      "outputs": [],
      "source": [
        "data_with_scale[columns_to_scale] = scaler.fit_transform(data_db[columns_to_scale])"
      ]
    },
    {
      "cell_type": "code",
      "execution_count": null,
      "id": "68c65515",
      "metadata": {
        "id": "68c65515"
      },
      "outputs": [],
      "source": []
    },
    {
      "cell_type": "code",
      "execution_count": null,
      "id": "05e5c8c2",
      "metadata": {
        "id": "05e5c8c2",
        "outputId": "9d9ec121-c147-4efe-e4bb-632b5322d745"
      },
      "outputs": [
        {
          "data": {
            "text/html": [
              "<div>\n",
              "<style scoped>\n",
              "    .dataframe tbody tr th:only-of-type {\n",
              "        vertical-align: middle;\n",
              "    }\n",
              "\n",
              "    .dataframe tbody tr th {\n",
              "        vertical-align: top;\n",
              "    }\n",
              "\n",
              "    .dataframe thead th {\n",
              "        text-align: right;\n",
              "    }\n",
              "</style>\n",
              "<table border=\"1\" class=\"dataframe\">\n",
              "  <thead>\n",
              "    <tr style=\"text-align: right;\">\n",
              "      <th></th>\n",
              "      <th>ID</th>\n",
              "      <th>No_Pation</th>\n",
              "      <th>Gender</th>\n",
              "      <th>AGE</th>\n",
              "      <th>Urea</th>\n",
              "      <th>Cr</th>\n",
              "      <th>HbA1c</th>\n",
              "      <th>Chol</th>\n",
              "      <th>TG</th>\n",
              "      <th>HDL</th>\n",
              "      <th>LDL</th>\n",
              "      <th>VLDL</th>\n",
              "      <th>BMI</th>\n",
              "      <th>CLASS</th>\n",
              "    </tr>\n",
              "  </thead>\n",
              "  <tbody>\n",
              "    <tr>\n",
              "      <th>995</th>\n",
              "      <td>1.475378</td>\n",
              "      <td>-0.069871</td>\n",
              "      <td>-1.139671</td>\n",
              "      <td>0.735886</td>\n",
              "      <td>-0.451561</td>\n",
              "      <td>-0.582823</td>\n",
              "      <td>0.007439</td>\n",
              "      <td>-0.432577</td>\n",
              "      <td>0.464407</td>\n",
              "      <td>0.295796</td>\n",
              "      <td>-0.098507</td>\n",
              "      <td>0.039680</td>\n",
              "      <td>0.488312</td>\n",
              "      <td>2</td>\n",
              "    </tr>\n",
              "    <tr>\n",
              "      <th>996</th>\n",
              "      <td>1.708442</td>\n",
              "      <td>-0.069861</td>\n",
              "      <td>-1.139671</td>\n",
              "      <td>0.053668</td>\n",
              "      <td>1.218686</td>\n",
              "      <td>0.851592</td>\n",
              "      <td>-0.071527</td>\n",
              "      <td>-0.663153</td>\n",
              "      <td>-0.392445</td>\n",
              "      <td>0.750284</td>\n",
              "      <td>-0.726566</td>\n",
              "      <td>-0.096866</td>\n",
              "      <td>0.286695</td>\n",
              "      <td>2</td>\n",
              "    </tr>\n",
              "    <tr>\n",
              "      <th>997</th>\n",
              "      <td>0.921851</td>\n",
              "      <td>-0.079897</td>\n",
              "      <td>0.877446</td>\n",
              "      <td>0.622183</td>\n",
              "      <td>0.025653</td>\n",
              "      <td>-0.215879</td>\n",
              "      <td>1.033997</td>\n",
              "      <td>0.028576</td>\n",
              "      <td>-0.178232</td>\n",
              "      <td>-0.158692</td>\n",
              "      <td>-0.098507</td>\n",
              "      <td>-0.260721</td>\n",
              "      <td>-0.318155</td>\n",
              "      <td>2</td>\n",
              "    </tr>\n",
              "    <tr>\n",
              "      <th>998</th>\n",
              "      <td>-1.292256</td>\n",
              "      <td>-0.078130</td>\n",
              "      <td>0.877446</td>\n",
              "      <td>0.167371</td>\n",
              "      <td>0.332433</td>\n",
              "      <td>0.184422</td>\n",
              "      <td>0.086405</td>\n",
              "      <td>0.566588</td>\n",
              "      <td>-0.178232</td>\n",
              "      <td>-0.461684</td>\n",
              "      <td>1.067890</td>\n",
              "      <td>-0.397267</td>\n",
              "      <td>-0.721389</td>\n",
              "      <td>2</td>\n",
              "    </tr>\n",
              "    <tr>\n",
              "      <th>999</th>\n",
              "      <td>0.871909</td>\n",
              "      <td>-0.080030</td>\n",
              "      <td>-1.139671</td>\n",
              "      <td>-0.287441</td>\n",
              "      <td>-0.315214</td>\n",
              "      <td>0.050988</td>\n",
              "      <td>1.152446</td>\n",
              "      <td>-0.355718</td>\n",
              "      <td>-0.178232</td>\n",
              "      <td>-0.158692</td>\n",
              "      <td>-0.098507</td>\n",
              "      <td>-0.260721</td>\n",
              "      <td>-0.721389</td>\n",
              "      <td>2</td>\n",
              "    </tr>\n",
              "  </tbody>\n",
              "</table>\n",
              "</div>"
            ],
            "text/plain": [
              "           ID  No_Pation    Gender       AGE      Urea        Cr     HbA1c  \\\n",
              "995  1.475378  -0.069871 -1.139671  0.735886 -0.451561 -0.582823  0.007439   \n",
              "996  1.708442  -0.069861 -1.139671  0.053668  1.218686  0.851592 -0.071527   \n",
              "997  0.921851  -0.079897  0.877446  0.622183  0.025653 -0.215879  1.033997   \n",
              "998 -1.292256  -0.078130  0.877446  0.167371  0.332433  0.184422  0.086405   \n",
              "999  0.871909  -0.080030 -1.139671 -0.287441 -0.315214  0.050988  1.152446   \n",
              "\n",
              "         Chol        TG       HDL       LDL      VLDL       BMI  CLASS  \n",
              "995 -0.432577  0.464407  0.295796 -0.098507  0.039680  0.488312      2  \n",
              "996 -0.663153 -0.392445  0.750284 -0.726566 -0.096866  0.286695      2  \n",
              "997  0.028576 -0.178232 -0.158692 -0.098507 -0.260721 -0.318155      2  \n",
              "998  0.566588 -0.178232 -0.461684  1.067890 -0.397267 -0.721389      2  \n",
              "999 -0.355718 -0.178232 -0.158692 -0.098507 -0.260721 -0.721389      2  "
            ]
          },
          "execution_count": 26,
          "metadata": {},
          "output_type": "execute_result"
        }
      ],
      "source": [
        "data_with_scale.tail(5)"
      ]
    },
    {
      "cell_type": "code",
      "execution_count": null,
      "id": "6102c2e2",
      "metadata": {
        "id": "6102c2e2"
      },
      "outputs": [],
      "source": []
    },
    {
      "cell_type": "code",
      "execution_count": null,
      "id": "5a8184e9",
      "metadata": {
        "id": "5a8184e9"
      },
      "outputs": [],
      "source": [
        "unscaled_acc = acc_score(data_db, label_db)"
      ]
    },
    {
      "cell_type": "code",
      "execution_count": null,
      "id": "10c03440",
      "metadata": {
        "id": "10c03440",
        "outputId": "44d4148d-78b6-45a9-9ce0-4b9b6faafb9c"
      },
      "outputs": [
        {
          "data": {
            "text/html": [
              "<div>\n",
              "<style scoped>\n",
              "    .dataframe tbody tr th:only-of-type {\n",
              "        vertical-align: middle;\n",
              "    }\n",
              "\n",
              "    .dataframe tbody tr th {\n",
              "        vertical-align: top;\n",
              "    }\n",
              "\n",
              "    .dataframe thead th {\n",
              "        text-align: right;\n",
              "    }\n",
              "</style>\n",
              "<table border=\"1\" class=\"dataframe\">\n",
              "  <thead>\n",
              "    <tr style=\"text-align: right;\">\n",
              "      <th></th>\n",
              "      <th>Classifier</th>\n",
              "      <th>Accuracy</th>\n",
              "    </tr>\n",
              "  </thead>\n",
              "  <tbody>\n",
              "    <tr>\n",
              "      <th>0</th>\n",
              "      <td>KNeighbors</td>\n",
              "      <td>0.852</td>\n",
              "    </tr>\n",
              "    <tr>\n",
              "      <th>1</th>\n",
              "      <td>Logistic</td>\n",
              "      <td>0.848</td>\n",
              "    </tr>\n",
              "    <tr>\n",
              "      <th>2</th>\n",
              "      <td>Support vector Machine</td>\n",
              "      <td>0.848</td>\n",
              "    </tr>\n",
              "  </tbody>\n",
              "</table>\n",
              "</div>"
            ],
            "text/plain": [
              "               Classifier  Accuracy\n",
              "0              KNeighbors     0.852\n",
              "1                Logistic     0.848\n",
              "2  Support vector Machine     0.848"
            ]
          },
          "execution_count": 28,
          "metadata": {},
          "output_type": "execute_result"
        }
      ],
      "source": [
        "unscaled_acc"
      ]
    },
    {
      "cell_type": "code",
      "execution_count": null,
      "id": "7a621658",
      "metadata": {
        "id": "7a621658"
      },
      "outputs": [],
      "source": [
        "scaled_acc = acc_score(data_with_scale, label_db)"
      ]
    },
    {
      "cell_type": "code",
      "execution_count": null,
      "id": "a42f3755",
      "metadata": {
        "id": "a42f3755",
        "outputId": "17c7f307-9362-43c6-9d93-cb1409ae0bc8"
      },
      "outputs": [
        {
          "data": {
            "text/html": [
              "<div>\n",
              "<style scoped>\n",
              "    .dataframe tbody tr th:only-of-type {\n",
              "        vertical-align: middle;\n",
              "    }\n",
              "\n",
              "    .dataframe tbody tr th {\n",
              "        vertical-align: top;\n",
              "    }\n",
              "\n",
              "    .dataframe thead th {\n",
              "        text-align: right;\n",
              "    }\n",
              "</style>\n",
              "<table border=\"1\" class=\"dataframe\">\n",
              "  <thead>\n",
              "    <tr style=\"text-align: right;\">\n",
              "      <th></th>\n",
              "      <th>Classifier</th>\n",
              "      <th>Accuracy</th>\n",
              "    </tr>\n",
              "  </thead>\n",
              "  <tbody>\n",
              "    <tr>\n",
              "      <th>0</th>\n",
              "      <td>Support vector Machine</td>\n",
              "      <td>0.928</td>\n",
              "    </tr>\n",
              "    <tr>\n",
              "      <th>1</th>\n",
              "      <td>Logistic</td>\n",
              "      <td>0.924</td>\n",
              "    </tr>\n",
              "    <tr>\n",
              "      <th>2</th>\n",
              "      <td>KNeighbors</td>\n",
              "      <td>0.896</td>\n",
              "    </tr>\n",
              "  </tbody>\n",
              "</table>\n",
              "</div>"
            ],
            "text/plain": [
              "               Classifier  Accuracy\n",
              "0  Support vector Machine     0.928\n",
              "1                Logistic     0.924\n",
              "2              KNeighbors     0.896"
            ]
          },
          "execution_count": 30,
          "metadata": {},
          "output_type": "execute_result"
        }
      ],
      "source": [
        "scaled_acc"
      ]
    },
    {
      "cell_type": "code",
      "execution_count": null,
      "id": "6de13ee7",
      "metadata": {
        "id": "6de13ee7"
      },
      "outputs": [],
      "source": [
        "X_train, X_test, Y_train, Y_test = split(data_with_scale, label_db)"
      ]
    },
    {
      "cell_type": "code",
      "execution_count": null,
      "id": "517134bf",
      "metadata": {
        "id": "517134bf",
        "outputId": "3c9c8dff-fbaa-4faf-c1bc-46a06d5c9957"
      },
      "outputs": [
        {
          "data": {
            "text/html": [
              "<div>\n",
              "<style scoped>\n",
              "    .dataframe tbody tr th:only-of-type {\n",
              "        vertical-align: middle;\n",
              "    }\n",
              "\n",
              "    .dataframe tbody tr th {\n",
              "        vertical-align: top;\n",
              "    }\n",
              "\n",
              "    .dataframe thead th {\n",
              "        text-align: right;\n",
              "    }\n",
              "</style>\n",
              "<table border=\"1\" class=\"dataframe\">\n",
              "  <thead>\n",
              "    <tr style=\"text-align: right;\">\n",
              "      <th></th>\n",
              "      <th>ID</th>\n",
              "      <th>No_Pation</th>\n",
              "      <th>Gender</th>\n",
              "      <th>AGE</th>\n",
              "      <th>Urea</th>\n",
              "      <th>Cr</th>\n",
              "      <th>HbA1c</th>\n",
              "      <th>Chol</th>\n",
              "      <th>TG</th>\n",
              "      <th>HDL</th>\n",
              "      <th>LDL</th>\n",
              "      <th>VLDL</th>\n",
              "      <th>BMI</th>\n",
              "    </tr>\n",
              "  </thead>\n",
              "  <tbody>\n",
              "    <tr>\n",
              "      <th>82</th>\n",
              "      <td>-0.717920</td>\n",
              "      <td>-0.066640</td>\n",
              "      <td>0.877446</td>\n",
              "      <td>-2.675205</td>\n",
              "      <td>-0.042521</td>\n",
              "      <td>-0.265917</td>\n",
              "      <td>-0.229459</td>\n",
              "      <td>0.489729</td>\n",
              "      <td>-0.178232</td>\n",
              "      <td>-0.310188</td>\n",
              "      <td>0.888444</td>\n",
              "      <td>-0.260721</td>\n",
              "      <td>-1.124622</td>\n",
              "    </tr>\n",
              "    <tr>\n",
              "      <th>991</th>\n",
              "      <td>-0.826128</td>\n",
              "      <td>-0.066639</td>\n",
              "      <td>-1.139671</td>\n",
              "      <td>-2.106690</td>\n",
              "      <td>1.355033</td>\n",
              "      <td>0.751517</td>\n",
              "      <td>-0.426874</td>\n",
              "      <td>0.566588</td>\n",
              "      <td>-0.678063</td>\n",
              "      <td>0.295796</td>\n",
              "      <td>0.888444</td>\n",
              "      <td>-0.342649</td>\n",
              "      <td>-1.931089</td>\n",
              "    </tr>\n",
              "    <tr>\n",
              "      <th>789</th>\n",
              "      <td>-0.389133</td>\n",
              "      <td>-0.069838</td>\n",
              "      <td>0.877446</td>\n",
              "      <td>0.735886</td>\n",
              "      <td>-0.383388</td>\n",
              "      <td>0.151064</td>\n",
              "      <td>2.297452</td>\n",
              "      <td>-0.586295</td>\n",
              "      <td>-0.749467</td>\n",
              "      <td>0.901780</td>\n",
              "      <td>0.888444</td>\n",
              "      <td>0.039680</td>\n",
              "      <td>0.689928</td>\n",
              "    </tr>\n",
              "    <tr>\n",
              "      <th>894</th>\n",
              "      <td>-1.225666</td>\n",
              "      <td>-0.077118</td>\n",
              "      <td>0.877446</td>\n",
              "      <td>-0.287441</td>\n",
              "      <td>11.512863</td>\n",
              "      <td>-0.182521</td>\n",
              "      <td>-0.584806</td>\n",
              "      <td>0.797165</td>\n",
              "      <td>0.178789</td>\n",
              "      <td>0.295796</td>\n",
              "      <td>0.708998</td>\n",
              "      <td>-0.178793</td>\n",
              "      <td>0.689928</td>\n",
              "    </tr>\n",
              "    <tr>\n",
              "      <th>398</th>\n",
              "      <td>-0.638845</td>\n",
              "      <td>0.054383</td>\n",
              "      <td>-1.139671</td>\n",
              "      <td>0.735886</td>\n",
              "      <td>-0.042521</td>\n",
              "      <td>0.017630</td>\n",
              "      <td>-0.071527</td>\n",
              "      <td>0.259153</td>\n",
              "      <td>0.678620</td>\n",
              "      <td>0.295796</td>\n",
              "      <td>-1.803240</td>\n",
              "      <td>0.312772</td>\n",
              "      <td>-0.519772</td>\n",
              "    </tr>\n",
              "    <tr>\n",
              "      <th>...</th>\n",
              "      <td>...</td>\n",
              "      <td>...</td>\n",
              "      <td>...</td>\n",
              "      <td>...</td>\n",
              "      <td>...</td>\n",
              "      <td>...</td>\n",
              "      <td>...</td>\n",
              "      <td>...</td>\n",
              "      <td>...</td>\n",
              "      <td>...</td>\n",
              "      <td>...</td>\n",
              "      <td>...</td>\n",
              "      <td>...</td>\n",
              "    </tr>\n",
              "    <tr>\n",
              "      <th>106</th>\n",
              "      <td>-1.034221</td>\n",
              "      <td>-0.069897</td>\n",
              "      <td>0.877446</td>\n",
              "      <td>0.053668</td>\n",
              "      <td>-0.587908</td>\n",
              "      <td>-0.516106</td>\n",
              "      <td>0.402269</td>\n",
              "      <td>0.336011</td>\n",
              "      <td>0.678620</td>\n",
              "      <td>-0.310188</td>\n",
              "      <td>-1.085457</td>\n",
              "      <td>-0.151484</td>\n",
              "      <td>-0.318155</td>\n",
              "    </tr>\n",
              "    <tr>\n",
              "      <th>270</th>\n",
              "      <td>1.641852</td>\n",
              "      <td>-0.069940</td>\n",
              "      <td>0.877446</td>\n",
              "      <td>-3.130017</td>\n",
              "      <td>-0.212954</td>\n",
              "      <td>-0.115804</td>\n",
              "      <td>-1.334983</td>\n",
              "      <td>-0.893730</td>\n",
              "      <td>-0.678063</td>\n",
              "      <td>-0.158692</td>\n",
              "      <td>-0.457398</td>\n",
              "      <td>-0.342649</td>\n",
              "      <td>-1.326239</td>\n",
              "    </tr>\n",
              "    <tr>\n",
              "      <th>860</th>\n",
              "      <td>-0.859423</td>\n",
              "      <td>-0.066641</td>\n",
              "      <td>-1.139671</td>\n",
              "      <td>-2.675205</td>\n",
              "      <td>-0.519734</td>\n",
              "      <td>-0.132483</td>\n",
              "      <td>-1.137568</td>\n",
              "      <td>1.258318</td>\n",
              "      <td>-0.392445</td>\n",
              "      <td>0.447292</td>\n",
              "      <td>1.426781</td>\n",
              "      <td>-0.288030</td>\n",
              "      <td>-1.124622</td>\n",
              "    </tr>\n",
              "    <tr>\n",
              "      <th>435</th>\n",
              "      <td>0.047861</td>\n",
              "      <td>-0.069500</td>\n",
              "      <td>-1.139671</td>\n",
              "      <td>0.167371</td>\n",
              "      <td>-0.758341</td>\n",
              "      <td>-0.466068</td>\n",
              "      <td>0.481235</td>\n",
              "      <td>0.797165</td>\n",
              "      <td>-0.463850</td>\n",
              "      <td>-0.007196</td>\n",
              "      <td>0.888444</td>\n",
              "      <td>-0.288030</td>\n",
              "      <td>-0.721389</td>\n",
              "    </tr>\n",
              "    <tr>\n",
              "      <th>102</th>\n",
              "      <td>0.730406</td>\n",
              "      <td>-0.077730</td>\n",
              "      <td>0.877446</td>\n",
              "      <td>0.167371</td>\n",
              "      <td>-0.485648</td>\n",
              "      <td>0.401253</td>\n",
              "      <td>-0.426874</td>\n",
              "      <td>-1.278024</td>\n",
              "      <td>-0.321041</td>\n",
              "      <td>-0.916172</td>\n",
              "      <td>-0.726566</td>\n",
              "      <td>-0.288030</td>\n",
              "      <td>0.286695</td>\n",
              "    </tr>\n",
              "  </tbody>\n",
              "</table>\n",
              "<p>750 rows × 13 columns</p>\n",
              "</div>"
            ],
            "text/plain": [
              "           ID  No_Pation    Gender       AGE       Urea        Cr     HbA1c  \\\n",
              "82  -0.717920  -0.066640  0.877446 -2.675205  -0.042521 -0.265917 -0.229459   \n",
              "991 -0.826128  -0.066639 -1.139671 -2.106690   1.355033  0.751517 -0.426874   \n",
              "789 -0.389133  -0.069838  0.877446  0.735886  -0.383388  0.151064  2.297452   \n",
              "894 -1.225666  -0.077118  0.877446 -0.287441  11.512863 -0.182521 -0.584806   \n",
              "398 -0.638845   0.054383 -1.139671  0.735886  -0.042521  0.017630 -0.071527   \n",
              "..        ...        ...       ...       ...        ...       ...       ...   \n",
              "106 -1.034221  -0.069897  0.877446  0.053668  -0.587908 -0.516106  0.402269   \n",
              "270  1.641852  -0.069940  0.877446 -3.130017  -0.212954 -0.115804 -1.334983   \n",
              "860 -0.859423  -0.066641 -1.139671 -2.675205  -0.519734 -0.132483 -1.137568   \n",
              "435  0.047861  -0.069500 -1.139671  0.167371  -0.758341 -0.466068  0.481235   \n",
              "102  0.730406  -0.077730  0.877446  0.167371  -0.485648  0.401253 -0.426874   \n",
              "\n",
              "         Chol        TG       HDL       LDL      VLDL       BMI  \n",
              "82   0.489729 -0.178232 -0.310188  0.888444 -0.260721 -1.124622  \n",
              "991  0.566588 -0.678063  0.295796  0.888444 -0.342649 -1.931089  \n",
              "789 -0.586295 -0.749467  0.901780  0.888444  0.039680  0.689928  \n",
              "894  0.797165  0.178789  0.295796  0.708998 -0.178793  0.689928  \n",
              "398  0.259153  0.678620  0.295796 -1.803240  0.312772 -0.519772  \n",
              "..        ...       ...       ...       ...       ...       ...  \n",
              "106  0.336011  0.678620 -0.310188 -1.085457 -0.151484 -0.318155  \n",
              "270 -0.893730 -0.678063 -0.158692 -0.457398 -0.342649 -1.326239  \n",
              "860  1.258318 -0.392445  0.447292  1.426781 -0.288030 -1.124622  \n",
              "435  0.797165 -0.463850 -0.007196  0.888444 -0.288030 -0.721389  \n",
              "102 -1.278024 -0.321041 -0.916172 -0.726566 -0.288030  0.286695  \n",
              "\n",
              "[750 rows x 13 columns]"
            ]
          },
          "execution_count": 32,
          "metadata": {},
          "output_type": "execute_result"
        }
      ],
      "source": [
        "X_train"
      ]
    },
    {
      "cell_type": "code",
      "execution_count": null,
      "id": "12136419",
      "metadata": {
        "id": "12136419"
      },
      "outputs": [],
      "source": [
        "testmodel = LogisticRegression(max_iter = 1000)\n",
        "testmodel.fit(X_train, Y_train)\n",
        "y_pred = testmodel.predict(X_test)"
      ]
    },
    {
      "cell_type": "code",
      "execution_count": null,
      "id": "4d1d8d21",
      "metadata": {
        "id": "4d1d8d21"
      },
      "outputs": [],
      "source": [
        "from sklearn.metrics import confusion_matrix\n",
        "import matplotlib.pyplot as plt\n",
        "import seaborn as sns"
      ]
    },
    {
      "cell_type": "code",
      "execution_count": null,
      "id": "99b1db02",
      "metadata": {
        "id": "99b1db02"
      },
      "outputs": [],
      "source": [
        "cm = confusion_matrix(Y_test, y_pred, labels = ['Y', 'N', 'P'])"
      ]
    },
    {
      "cell_type": "code",
      "execution_count": null,
      "id": "732d1612",
      "metadata": {
        "id": "732d1612",
        "outputId": "8cd4499d-73a9-432c-a505-50ae01e8f565"
      },
      "outputs": [
        {
          "data": {
            "image/png": "[encoded data removed]",
            "text/plain": [
              "<Figure size 640x480 with 2 Axes>"
            ]
          },
          "metadata": {},
          "output_type": "display_data"
        }
      ],
      "source": [
        "# Create a heatmap to visualize the confusion matrix\n",
        "sns.heatmap(cm, annot=True, cmap='Reds', fmt='g')\n",
        "plt.xlabel('Predicted labels')\n",
        "plt.ylabel('True labels')\n",
        "plt.show()"
      ]
    },
    {
      "cell_type": "code",
      "execution_count": null,
      "id": "a1e18416",
      "metadata": {
        "id": "a1e18416",
        "outputId": "643168b7-c622-448f-b60b-9d80485790c6"
      },
      "outputs": [
        {
          "name": "stdout",
          "output_type": "stream",
          "text": [
            "[[205   6   1]\n",
            " [  2  21   0]\n",
            " [  4   4   5]]\n"
          ]
        }
      ],
      "source": [
        "print(cm)"
      ]
    },
    {
      "cell_type": "code",
      "execution_count": null,
      "id": "c34481ab",
      "metadata": {
        "id": "c34481ab"
      },
      "outputs": [],
      "source": [
        "logmodel = LogisticRegression(max_iter = 1000)"
      ]
    },
    {
      "cell_type": "code",
      "execution_count": null,
      "id": "973079a9",
      "metadata": {
        "id": "973079a9"
      },
      "outputs": [],
      "source": [
        "X_train, X_test, Y_train, Y_test = split(data_with_scale, label_db)"
      ]
    },
    {
      "cell_type": "code",
      "execution_count": null,
      "id": "a85f8a80",
      "metadata": {
        "id": "a85f8a80",
        "outputId": "c71797b3-11e8-4a4d-9b2d-a24f33a7d56e"
      },
      "outputs": [
        {
          "name": "stdout",
          "output_type": "stream",
          "text": [
            "Best score in generation 1 : [0.928]\n",
            "Best score in generation 2 : [0.928]\n",
            "Best score in generation 3 : [0.928]\n",
            "Best score in generation 4 : [0.924]\n",
            "Best score in generation 5 : [0.924]\n"
          ]
        }
      ],
      "source": [
        "chromo_df_bc,score_bc=generations(data_with_scale,label_db,size=80,n_feat= X_train.shape[1], n_parents=64,mutation_rate=0.20,n_gen=5, X_train = X_train,X_test = X_test,Y_train = Y_train,Y_test = Y_test)"
      ]
    },
    {
      "cell_type": "code",
      "execution_count": null,
      "id": "eab53420",
      "metadata": {
        "id": "eab53420"
      },
      "outputs": [],
      "source": []
    }
  ],
  "metadata": {
    "kernelspec": {
      "display_name": "Python 3 (ipykernel)",
      "language": "python",
      "name": "python3"
    },
    "language_info": {
      "codemirror_mode": {
        "name": "ipython",
        "version": 3
      },
      "file_extension": ".py",
      "mimetype": "text/x-python",
      "name": "python",
      "nbconvert_exporter": "python",
      "pygments_lexer": "ipython3",
      "version": "3.10.9"
    },
    "colab": {
      "provenance": [],
      "include_colab_link": true
    }
  },
  "nbformat": 4,
  "nbformat_minor": 5
}