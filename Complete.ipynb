{
  "cells": [
    {
      "cell_type": "markdown",
      "metadata": {
        "id": "view-in-github",
        "colab_type": "text"
      },
      "source": [
        "<a href=\"https://colab.research.google.com/github/ekomation/research/blob/main/Complete.ipynb\" target=\"_parent\"><img src=\"https://colab.research.google.com/assets/colab-badge.svg\" alt=\"Open In Colab\"/></a>"
      ]
    },
    {
      "cell_type": "code",
      "execution_count": 2,
      "id": "f87d1b00",
      "metadata": {
        "id": "f87d1b00"
      },
      "outputs": [],
      "source": [
        "import numpy as np\n",
        "import pandas as pd"
      ]
    },
    {
      "cell_type": "code",
      "execution_count": 4,
      "id": "e053d54e",
      "metadata": {
        "colab": {
          "base_uri": "https://localhost:8080/"
        },
        "id": "e053d54e",
        "outputId": "8110aa9c-57c0-47c2-cffa-f59e736da8de"
      },
      "outputs": [
        {
          "output_type": "stream",
          "name": "stdout",
          "text": [
            "sepal length (cm): 0.000\n",
            "sepal width (cm): 0.018\n",
            "petal length (cm): 0.900\n",
            "petal width (cm): 0.082\n"
          ]
        }
      ],
      "source": [
        "from sklearn.tree import DecisionTreeClassifier\n",
        "from sklearn.datasets import load_iris\n",
        "from sklearn.model_selection import train_test_split\n",
        "\n",
        "# Load the iris dataset\n",
        "iris = load_iris()\n",
        "X, y = iris.data, iris.target\n",
        "\n",
        "# Split the data into training and test sets\n",
        "X_train, X_test, y_train, y_test = train_test_split(X, y, random_state=42)\n",
        "\n",
        "# Create a decision tree classifier\n",
        "dt = DecisionTreeClassifier(random_state=42)\n",
        "\n",
        "# Fit the decision tree classifier to the training data\n",
        "dt.fit(X_train, y_train)\n",
        "\n",
        "# Get the feature importances from the decision tree\n",
        "importances = dt.feature_importances_\n",
        "\n",
        "# Print the feature importances\n",
        "for feature, importance in zip(iris.feature_names, importances):\n",
        "    print(f\"{feature}: {importance:.3f}\")\n"
      ]
    },
    {
      "cell_type": "code",
      "execution_count": null,
      "id": "0b6ec169",
      "metadata": {
        "id": "0b6ec169"
      },
      "outputs": [],
      "source": [
        "\n"
      ]
    },
    {
      "cell_type": "code",
      "execution_count": null,
      "id": "8352f033",
      "metadata": {
        "id": "8352f033"
      },
      "outputs": [],
      "source": []
    },
    {
      "cell_type": "code",
      "execution_count": null,
      "id": "482dec39",
      "metadata": {
        "id": "482dec39"
      },
      "outputs": [],
      "source": []
    },
    {
      "cell_type": "code",
      "execution_count": null,
      "id": "20cff3a5",
      "metadata": {
        "id": "20cff3a5"
      },
      "outputs": [],
      "source": [
        "\n"
      ]
    },
    {
      "cell_type": "code",
      "execution_count": null,
      "id": "a0e99d76",
      "metadata": {
        "id": "a0e99d76"
      },
      "outputs": [],
      "source": []
    },
    {
      "cell_type": "code",
      "execution_count": null,
      "id": "a9dccd45",
      "metadata": {
        "id": "a9dccd45"
      },
      "outputs": [],
      "source": []
    },
    {
      "cell_type": "code",
      "execution_count": null,
      "id": "dae25bfc",
      "metadata": {
        "id": "dae25bfc"
      },
      "outputs": [],
      "source": []
    },
    {
      "cell_type": "code",
      "execution_count": null,
      "id": "63e9d371",
      "metadata": {
        "id": "63e9d371"
      },
      "outputs": [],
      "source": []
    },
    {
      "cell_type": "code",
      "execution_count": null,
      "id": "511f7fda",
      "metadata": {
        "id": "511f7fda"
      },
      "outputs": [],
      "source": []
    },
    {
      "cell_type": "code",
      "execution_count": null,
      "id": "56997a6e",
      "metadata": {
        "id": "56997a6e"
      },
      "outputs": [],
      "source": []
    },
    {
      "cell_type": "code",
      "execution_count": null,
      "id": "b902a31c",
      "metadata": {
        "id": "b902a31c"
      },
      "outputs": [],
      "source": []
    },
    {
      "cell_type": "code",
      "execution_count": 6,
      "id": "c629ddbc",
      "metadata": {
        "id": "c629ddbc"
      },
      "outputs": [],
      "source": [
        "import seaborn as sns\n",
        "import matplotlib.pyplot as plt\n",
        "from random import randint\n",
        "%matplotlib inline \n",
        "import warnings\n",
        "warnings.filterwarnings(\"ignore\")\n",
        "\n",
        "from sklearn.model_selection import train_test_split\n",
        "def split(df,label):\n",
        "    X_tr, X_te, Y_tr, Y_te = train_test_split(df.iloc[:, :-1], label, test_size=0.25, random_state=42)\n",
        "    return X_tr, X_te, Y_tr, Y_te\n",
        "\n",
        "from sklearn.feature_selection import RFE\n",
        "from sklearn.linear_model import LogisticRegression\n",
        "from sklearn.neighbors import KNeighborsClassifier\n",
        "from sklearn import svm\n",
        "from sklearn import metrics\n",
        "from sklearn.metrics import accuracy_score\n",
        "from sklearn.model_selection import KFold, cross_val_score\n",
        "\n",
        "\n",
        "classifiers = ['Logistic', 'Support vector Machine', 'KNeighbors']\n",
        "\n"
      ]
    },
    {
      "cell_type": "code",
      "execution_count": 7,
      "id": "cfada0a2",
      "metadata": {
        "id": "cfada0a2"
      },
      "outputs": [],
      "source": [
        "models = [LogisticRegression(max_iter = 1000),\n",
        "          svm.SVC(kernel='rbf'),\n",
        "          KNeighborsClassifier()]"
      ]
    },
    {
      "cell_type": "code",
      "execution_count": null,
      "id": "358bf0ea",
      "metadata": {
        "id": "358bf0ea"
      },
      "outputs": [],
      "source": []
    },
    {
      "cell_type": "code",
      "execution_count": 8,
      "id": "9a3b58a6",
      "metadata": {
        "id": "9a3b58a6"
      },
      "outputs": [],
      "source": [
        "def acc_score(df,label):\n",
        "    Score = pd.DataFrame({\"Classifier\":classifiers})\n",
        "    j = 0\n",
        "    acc = []\n",
        "   # X = df.iloc[:, : -1]\n",
        "    X_train,X_test,Y_train,Y_test = split(df,label)\n",
        "    for i in models:\n",
        "        model = i\n",
        "        model.fit(X_train,Y_train)\n",
        "        predictions = model.predict(X_test)\n",
        "        acc.append(accuracy_score(Y_test,predictions))\n",
        "        j = j+1     \n",
        "    Score[\"Accuracy\"] = acc\n",
        "    Score.sort_values(by=\"Accuracy\", ascending=False,inplace = True)\n",
        "    Score.reset_index(drop=True, inplace=True)\n",
        "    #joblib.dump(model, 'diabetes_prediction_model.joblib')\n",
        "    return Score\n"
      ]
    },
    {
      "cell_type": "code",
      "execution_count": null,
      "id": "e30b48e7",
      "metadata": {
        "id": "e30b48e7"
      },
      "outputs": [],
      "source": []
    },
    {
      "cell_type": "code",
      "execution_count": 9,
      "id": "3f393424",
      "metadata": {
        "id": "3f393424"
      },
      "outputs": [],
      "source": [
        "def plot(score,x,y,c = \"b\"):\n",
        "    gen = [1,2,3,4,5]\n",
        "    plt.figure(figsize=(6,4))\n",
        "    ax = sns.pointplot(x=gen, y=score,color = c )\n",
        "    ax.set(xlabel=\"Generation\", ylabel=\"Accuracy\")\n",
        "    ax.set(ylim=(x,y))"
      ]
    },
    {
      "cell_type": "code",
      "execution_count": null,
      "id": "acb4101f",
      "metadata": {
        "id": "acb4101f"
      },
      "outputs": [],
      "source": []
    },
    {
      "cell_type": "code",
      "execution_count": 10,
      "id": "a43a1b2b",
      "metadata": {
        "id": "a43a1b2b"
      },
      "outputs": [],
      "source": [
        "def initilization_of_population(size,n_feat):\n",
        "    population = []\n",
        "    for i in range(size):\n",
        "        chromosome = np.ones(n_feat,dtype=np.bool)     \n",
        "        chromosome[:int(0.3*n_feat)]=False             \n",
        "        np.random.shuffle(chromosome)\n",
        "        population.append(chromosome)\n",
        "    return population\n",
        "\n"
      ]
    },
    {
      "cell_type": "code",
      "execution_count": 11,
      "id": "c0095f68",
      "metadata": {
        "id": "c0095f68"
      },
      "outputs": [],
      "source": [
        "def fitness_score(population):\n",
        "    scores = []\n",
        "    for chromosome in population:\n",
        "        logmodel.fit(X_train.iloc[:,chromosome],Y_train)         \n",
        "        predictions = logmodel.predict(X_test.iloc[:,chromosome])\n",
        "        scores.append(accuracy_score(Y_test,predictions))\n",
        "    scores, population = np.array(scores), np.array(population) \n",
        "    inds = np.argsort(scores)                                    \n",
        "    return list(scores[inds][::-1]), list(population[inds,:][::-1]) \n",
        "\n"
      ]
    },
    {
      "cell_type": "code",
      "execution_count": 12,
      "id": "12848e5a",
      "metadata": {
        "id": "12848e5a"
      },
      "outputs": [],
      "source": [
        "\n",
        "def selection(pop_after_fit,n_parents):\n",
        "    population_nextgen = []\n",
        "    for i in range(n_parents):\n",
        "        population_nextgen.append(pop_after_fit[i])\n",
        "    return population_nextgen\n"
      ]
    },
    {
      "cell_type": "code",
      "execution_count": 13,
      "id": "df4c2e41",
      "metadata": {
        "id": "df4c2e41"
      },
      "outputs": [],
      "source": [
        "\n",
        "def crossover(pop_after_sel):\n",
        "    pop_nextgen = pop_after_sel\n",
        "    for i in range(0,len(pop_after_sel),2):\n",
        "        new_par = []\n",
        "        child_1 , child_2 = pop_nextgen[i] , pop_nextgen[i+1]\n",
        "        new_par = np.concatenate((child_1[:len(child_1)//2],child_2[len(child_1)//2:]))\n",
        "        pop_nextgen.append(new_par)\n",
        "    return pop_nextgen\n"
      ]
    },
    {
      "cell_type": "code",
      "execution_count": 14,
      "id": "c65c5e93",
      "metadata": {
        "id": "c65c5e93"
      },
      "outputs": [],
      "source": [
        "\n",
        "def mutation(pop_after_cross,mutation_rate,n_feat):   \n",
        "    mutation_range = int(mutation_rate*n_feat)\n",
        "    pop_next_gen = []\n",
        "    for n in range(0,len(pop_after_cross)):\n",
        "        chromo = pop_after_cross[n]\n",
        "        rand_posi = [] \n",
        "        for i in range(0,mutation_range):\n",
        "            pos = randint(0,n_feat-1)\n",
        "            rand_posi.append(pos)\n",
        "        for j in rand_posi:\n",
        "            chromo[j] = not chromo[j]  \n",
        "        pop_next_gen.append(chromo)\n",
        "    return pop_next_gen"
      ]
    },
    {
      "cell_type": "code",
      "execution_count": 15,
      "id": "eea1b9fc",
      "metadata": {
        "id": "eea1b9fc"
      },
      "outputs": [],
      "source": [
        "def generations(df,label,size,n_feat,n_parents,mutation_rate,n_gen,X_train,\n",
        "                                   X_test, Y_train, Y_test):\n",
        "    best_chromo= []\n",
        "    best_score= []\n",
        "    population_nextgen=initilization_of_population(size,n_feat)\n",
        "    for i in range(n_gen):\n",
        "        scores, pop_after_fit = fitness_score(population_nextgen)\n",
        "        print('Best score in generation',i+1,':',scores[:1])  #2\n",
        "        pop_after_sel = selection(pop_after_fit,n_parents)\n",
        "        pop_after_cross = crossover(pop_after_sel)\n",
        "        population_nextgen = mutation(pop_after_cross,mutation_rate,n_feat)\n",
        "        best_chromo.append(pop_after_fit[0])\n",
        "        best_score.append(scores[0])\n",
        "    return best_chromo,best_score"
      ]
    },
    {
      "cell_type": "code",
      "execution_count": 16,
      "id": "c55f8522",
      "metadata": {
        "colab": {
          "base_uri": "https://localhost:8080/",
          "height": 75
        },
        "id": "c55f8522",
        "outputId": "f81def5b-c4fa-4804-be5b-b7d74b3e1317"
      },
      "outputs": [
        {
          "output_type": "display_data",
          "data": {
            "text/plain": [
              "<IPython.core.display.HTML object>"
            ],
            "text/html": [
              "\n",
              "     <input type=\"file\" id=\"files-54774dc0-7a60-4d6d-8f57-75feed8cdbc7\" name=\"files[]\" multiple disabled\n",
              "        style=\"border:none\" />\n",
              "     <output id=\"result-54774dc0-7a60-4d6d-8f57-75feed8cdbc7\">\n",
              "      Upload widget is only available when the cell has been executed in the\n",
              "      current browser session. Please rerun this cell to enable.\n",
              "      </output>\n",
              "      <script>// Copyright 2017 Google LLC\n",
              "//\n",
              "// Licensed under the Apache License, Version 2.0 (the \"License\");\n",
              "// you may not use this file except in compliance with the License.\n",
              "// You may obtain a copy of the License at\n",
              "//\n",
              "//      http://www.apache.org/licenses/LICENSE-2.0\n",
              "//\n",
              "// Unless required by applicable law or agreed to in writing, software\n",
              "// distributed under the License is distributed on an \"AS IS\" BASIS,\n",
              "// WITHOUT WARRANTIES OR CONDITIONS OF ANY KIND, either express or implied.\n",
              "// See the License for the specific language governing permissions and\n",
              "// limitations under the License.\n",
              "\n",
              "/**\n",
              " * @fileoverview Helpers for google.colab Python module.\n",
              " */\n",
              "(function(scope) {\n",
              "function span(text, styleAttributes = {}) {\n",
              "  const element = document.createElement('span');\n",
              "  element.textContent = text;\n",
              "  for (const key of Object.keys(styleAttributes)) {\n",
              "    element.style[key] = styleAttributes[key];\n",
              "  }\n",
              "  return element;\n",
              "}\n",
              "\n",
              "// Max number of bytes which will be uploaded at a time.\n",
              "const MAX_PAYLOAD_SIZE = 100 * 1024;\n",
              "\n",
              "function _uploadFiles(inputId, outputId) {\n",
              "  const steps = uploadFilesStep(inputId, outputId);\n",
              "  const outputElement = document.getElementById(outputId);\n",
              "  // Cache steps on the outputElement to make it available for the next call\n",
              "  // to uploadFilesContinue from Python.\n",
              "  outputElement.steps = steps;\n",
              "\n",
              "  return _uploadFilesContinue(outputId);\n",
              "}\n",
              "\n",
              "// This is roughly an async generator (not supported in the browser yet),\n",
              "// where there are multiple asynchronous steps and the Python side is going\n",
              "// to poll for completion of each step.\n",
              "// This uses a Promise to block the python side on completion of each step,\n",
              "// then passes the result of the previous step as the input to the next step.\n",
              "function _uploadFilesContinue(outputId) {\n",
              "  const outputElement = document.getElementById(outputId);\n",
              "  const steps = outputElement.steps;\n",
              "\n",
              "  const next = steps.next(outputElement.lastPromiseValue);\n",
              "  return Promise.resolve(next.value.promise).then((value) => {\n",
              "    // Cache the last promise value to make it available to the next\n",
              "    // step of the generator.\n",
              "    outputElement.lastPromiseValue = value;\n",
              "    return next.value.response;\n",
              "  });\n",
              "}\n",
              "\n",
              "/**\n",
              " * Generator function which is called between each async step of the upload\n",
              " * process.\n",
              " * @param {string} inputId Element ID of the input file picker element.\n",
              " * @param {string} outputId Element ID of the output display.\n",
              " * @return {!Iterable<!Object>} Iterable of next steps.\n",
              " */\n",
              "function* uploadFilesStep(inputId, outputId) {\n",
              "  const inputElement = document.getElementById(inputId);\n",
              "  inputElement.disabled = false;\n",
              "\n",
              "  const outputElement = document.getElementById(outputId);\n",
              "  outputElement.innerHTML = '';\n",
              "\n",
              "  const pickedPromise = new Promise((resolve) => {\n",
              "    inputElement.addEventListener('change', (e) => {\n",
              "      resolve(e.target.files);\n",
              "    });\n",
              "  });\n",
              "\n",
              "  const cancel = document.createElement('button');\n",
              "  inputElement.parentElement.appendChild(cancel);\n",
              "  cancel.textContent = 'Cancel upload';\n",
              "  const cancelPromise = new Promise((resolve) => {\n",
              "    cancel.onclick = () => {\n",
              "      resolve(null);\n",
              "    };\n",
              "  });\n",
              "\n",
              "  // Wait for the user to pick the files.\n",
              "  const files = yield {\n",
              "    promise: Promise.race([pickedPromise, cancelPromise]),\n",
              "    response: {\n",
              "      action: 'starting',\n",
              "    }\n",
              "  };\n",
              "\n",
              "  cancel.remove();\n",
              "\n",
              "  // Disable the input element since further picks are not allowed.\n",
              "  inputElement.disabled = true;\n",
              "\n",
              "  if (!files) {\n",
              "    return {\n",
              "      response: {\n",
              "        action: 'complete',\n",
              "      }\n",
              "    };\n",
              "  }\n",
              "\n",
              "  for (const file of files) {\n",
              "    const li = document.createElement('li');\n",
              "    li.append(span(file.name, {fontWeight: 'bold'}));\n",
              "    li.append(span(\n",
              "        `(${file.type || 'n/a'}) - ${file.size} bytes, ` +\n",
              "        `last modified: ${\n",
              "            file.lastModifiedDate ? file.lastModifiedDate.toLocaleDateString() :\n",
              "                                    'n/a'} - `));\n",
              "    const percent = span('0% done');\n",
              "    li.appendChild(percent);\n",
              "\n",
              "    outputElement.appendChild(li);\n",
              "\n",
              "    const fileDataPromise = new Promise((resolve) => {\n",
              "      const reader = new FileReader();\n",
              "      reader.onload = (e) => {\n",
              "        resolve(e.target.result);\n",
              "      };\n",
              "      reader.readAsArrayBuffer(file);\n",
              "    });\n",
              "    // Wait for the data to be ready.\n",
              "    let fileData = yield {\n",
              "      promise: fileDataPromise,\n",
              "      response: {\n",
              "        action: 'continue',\n",
              "      }\n",
              "    };\n",
              "\n",
              "    // Use a chunked sending to avoid message size limits. See b/62115660.\n",
              "    let position = 0;\n",
              "    do {\n",
              "      const length = Math.min(fileData.byteLength - position, MAX_PAYLOAD_SIZE);\n",
              "      const chunk = new Uint8Array(fileData, position, length);\n",
              "      position += length;\n",
              "\n",
              "      const base64 = btoa(String.fromCharCode.apply(null, chunk));\n",
              "      yield {\n",
              "        response: {\n",
              "          action: 'append',\n",
              "          file: file.name,\n",
              "          data: base64,\n",
              "        },\n",
              "      };\n",
              "\n",
              "      let percentDone = fileData.byteLength === 0 ?\n",
              "          100 :\n",
              "          Math.round((position / fileData.byteLength) * 100);\n",
              "      percent.textContent = `${percentDone}% done`;\n",
              "\n",
              "    } while (position < fileData.byteLength);\n",
              "  }\n",
              "\n",
              "  // All done.\n",
              "  yield {\n",
              "    response: {\n",
              "      action: 'complete',\n",
              "    }\n",
              "  };\n",
              "}\n",
              "\n",
              "scope.google = scope.google || {};\n",
              "scope.google.colab = scope.google.colab || {};\n",
              "scope.google.colab._files = {\n",
              "  _uploadFiles,\n",
              "  _uploadFilesContinue,\n",
              "};\n",
              "})(self);\n",
              "</script> "
            ]
          },
          "metadata": {}
        },
        {
          "output_type": "stream",
          "name": "stdout",
          "text": [
            "Saving diabetes_data.csv to diabetes_data.csv\n"
          ]
        }
      ],
      "source": [
        "from google.colab import files\n",
        "uploaded = files.upload()"
      ]
    },
    {
      "cell_type": "code",
      "execution_count": 17,
      "id": "effd76dd",
      "metadata": {
        "colab": {
          "base_uri": "https://localhost:8080/"
        },
        "id": "effd76dd",
        "outputId": "33b6e86e-b8f5-478a-a8f0-5b7c5c8444c5"
      },
      "outputs": [
        {
          "output_type": "stream",
          "name": "stdout",
          "text": [
            "Diabetes disease dataset:\n",
            " 1000 Records\n",
            " 14 Features\n"
          ]
        }
      ],
      "source": [
        "data_db = pd.read_csv(\"diabetes_data.csv\").sample(frac = 1).reset_index(drop = True).drop([])\n",
        "label_db = data_db[\"CLASS\"]\n",
        "\n",
        "\n",
        "print(\"Diabetes disease dataset:\\n\",data_db.shape[0],\"Records\\n\",data_db.shape[1],\"Features\")\n"
      ]
    },
    {
      "cell_type": "code",
      "execution_count": 20,
      "id": "aa2548f1",
      "metadata": {
        "id": "aa2548f1"
      },
      "outputs": [],
      "source": []
    },
    {
      "cell_type": "code",
      "execution_count": 18,
      "id": "d09629f6",
      "metadata": {
        "id": "d09629f6"
      },
      "outputs": [],
      "source": [
        "#data cleaning\n",
        "data_db['CLASS'] = [2 if CLASS.strip() == 'Y' else 0 if CLASS.strip() == 'N' else 1 for CLASS in data_db['CLASS']]\n",
        "data_db['Gender'] = [0 if Gender.strip() in ['f', 'F'] else 1 if Gender.strip() == 'M' else None for Gender in data_db['Gender']]"
      ]
    },
    {
      "cell_type": "code",
      "execution_count": 21,
      "id": "c9960141",
      "metadata": {
        "colab": {
          "base_uri": "https://localhost:8080/",
          "height": 300
        },
        "id": "c9960141",
        "outputId": "53ad2aa3-8531-4853-a711-0de6e92342e5"
      },
      "outputs": [
        {
          "output_type": "execute_result",
          "data": {
            "text/plain": [
              "    ID  No_Pation  Gender  AGE  Urea  Cr  HbA1c  Chol   TG  HDL  LDL  VLDL  \\\n",
              "0  510      34290       1   73   4.3  79    6.9   5.3  1.4  1.5  3.2   0.6   \n",
              "1  506      34304       1   60   4.2  39    8.8   4.5  2.2  0.8  1.4   1.1   \n",
              "2  256      48858       1   55   4.4  38   13.2   3.9  1.3  1.6  1.7   0.6   \n",
              "3  645      34507       1   54   5.4  68    3.0   1.2  0.7  1.0  0.5   1.5   \n",
              "4   47      34350       1   52   8.0  66   11.0   4.0  1.1  0.8  3.5   0.8   \n",
              "5   78      23997       1   60   4.0  63   12.0   3.6  5.1  0.9  2.5   0.9   \n",
              "6  594       6632       1   58   5.2  63    7.5   3.6  5.1  0.9  2.5   0.9   \n",
              "7  167      24027       1   58   5.2  63    7.5   3.6  5.1  0.9  2.5   0.9   \n",
              "\n",
              "    BMI  CLASS  \n",
              "0  28.0      2  \n",
              "1  34.0      2  \n",
              "2  34.0      2  \n",
              "3  33.0      2  \n",
              "4  28.0      2  \n",
              "5  30.0      2  \n",
              "6  30.0      2  \n",
              "7  30.0      2  "
            ],
            "text/html": [
              "\n",
              "  <div id=\"df-01faa261-32eb-4151-b6b0-6726c5791213\">\n",
              "    <div class=\"colab-df-container\">\n",
              "      <div>\n",
              "<style scoped>\n",
              "    .dataframe tbody tr th:only-of-type {\n",
              "        vertical-align: middle;\n",
              "    }\n",
              "\n",
              "    .dataframe tbody tr th {\n",
              "        vertical-align: top;\n",
              "    }\n",
              "\n",
              "    .dataframe thead th {\n",
              "        text-align: right;\n",
              "    }\n",
              "</style>\n",
              "<table border=\"1\" class=\"dataframe\">\n",
              "  <thead>\n",
              "    <tr style=\"text-align: right;\">\n",
              "      <th></th>\n",
              "      <th>ID</th>\n",
              "      <th>No_Pation</th>\n",
              "      <th>Gender</th>\n",
              "      <th>AGE</th>\n",
              "      <th>Urea</th>\n",
              "      <th>Cr</th>\n",
              "      <th>HbA1c</th>\n",
              "      <th>Chol</th>\n",
              "      <th>TG</th>\n",
              "      <th>HDL</th>\n",
              "      <th>LDL</th>\n",
              "      <th>VLDL</th>\n",
              "      <th>BMI</th>\n",
              "      <th>CLASS</th>\n",
              "    </tr>\n",
              "  </thead>\n",
              "  <tbody>\n",
              "    <tr>\n",
              "      <th>0</th>\n",
              "      <td>510</td>\n",
              "      <td>34290</td>\n",
              "      <td>1</td>\n",
              "      <td>73</td>\n",
              "      <td>4.3</td>\n",
              "      <td>79</td>\n",
              "      <td>6.9</td>\n",
              "      <td>5.3</td>\n",
              "      <td>1.4</td>\n",
              "      <td>1.5</td>\n",
              "      <td>3.2</td>\n",
              "      <td>0.6</td>\n",
              "      <td>28.0</td>\n",
              "      <td>2</td>\n",
              "    </tr>\n",
              "    <tr>\n",
              "      <th>1</th>\n",
              "      <td>506</td>\n",
              "      <td>34304</td>\n",
              "      <td>1</td>\n",
              "      <td>60</td>\n",
              "      <td>4.2</td>\n",
              "      <td>39</td>\n",
              "      <td>8.8</td>\n",
              "      <td>4.5</td>\n",
              "      <td>2.2</td>\n",
              "      <td>0.8</td>\n",
              "      <td>1.4</td>\n",
              "      <td>1.1</td>\n",
              "      <td>34.0</td>\n",
              "      <td>2</td>\n",
              "    </tr>\n",
              "    <tr>\n",
              "      <th>2</th>\n",
              "      <td>256</td>\n",
              "      <td>48858</td>\n",
              "      <td>1</td>\n",
              "      <td>55</td>\n",
              "      <td>4.4</td>\n",
              "      <td>38</td>\n",
              "      <td>13.2</td>\n",
              "      <td>3.9</td>\n",
              "      <td>1.3</td>\n",
              "      <td>1.6</td>\n",
              "      <td>1.7</td>\n",
              "      <td>0.6</td>\n",
              "      <td>34.0</td>\n",
              "      <td>2</td>\n",
              "    </tr>\n",
              "    <tr>\n",
              "      <th>3</th>\n",
              "      <td>645</td>\n",
              "      <td>34507</td>\n",
              "      <td>1</td>\n",
              "      <td>54</td>\n",
              "      <td>5.4</td>\n",
              "      <td>68</td>\n",
              "      <td>3.0</td>\n",
              "      <td>1.2</td>\n",
              "      <td>0.7</td>\n",
              "      <td>1.0</td>\n",
              "      <td>0.5</td>\n",
              "      <td>1.5</td>\n",
              "      <td>33.0</td>\n",
              "      <td>2</td>\n",
              "    </tr>\n",
              "    <tr>\n",
              "      <th>4</th>\n",
              "      <td>47</td>\n",
              "      <td>34350</td>\n",
              "      <td>1</td>\n",
              "      <td>52</td>\n",
              "      <td>8.0</td>\n",
              "      <td>66</td>\n",
              "      <td>11.0</td>\n",
              "      <td>4.0</td>\n",
              "      <td>1.1</td>\n",
              "      <td>0.8</td>\n",
              "      <td>3.5</td>\n",
              "      <td>0.8</td>\n",
              "      <td>28.0</td>\n",
              "      <td>2</td>\n",
              "    </tr>\n",
              "    <tr>\n",
              "      <th>5</th>\n",
              "      <td>78</td>\n",
              "      <td>23997</td>\n",
              "      <td>1</td>\n",
              "      <td>60</td>\n",
              "      <td>4.0</td>\n",
              "      <td>63</td>\n",
              "      <td>12.0</td>\n",
              "      <td>3.6</td>\n",
              "      <td>5.1</td>\n",
              "      <td>0.9</td>\n",
              "      <td>2.5</td>\n",
              "      <td>0.9</td>\n",
              "      <td>30.0</td>\n",
              "      <td>2</td>\n",
              "    </tr>\n",
              "    <tr>\n",
              "      <th>6</th>\n",
              "      <td>594</td>\n",
              "      <td>6632</td>\n",
              "      <td>1</td>\n",
              "      <td>58</td>\n",
              "      <td>5.2</td>\n",
              "      <td>63</td>\n",
              "      <td>7.5</td>\n",
              "      <td>3.6</td>\n",
              "      <td>5.1</td>\n",
              "      <td>0.9</td>\n",
              "      <td>2.5</td>\n",
              "      <td>0.9</td>\n",
              "      <td>30.0</td>\n",
              "      <td>2</td>\n",
              "    </tr>\n",
              "    <tr>\n",
              "      <th>7</th>\n",
              "      <td>167</td>\n",
              "      <td>24027</td>\n",
              "      <td>1</td>\n",
              "      <td>58</td>\n",
              "      <td>5.2</td>\n",
              "      <td>63</td>\n",
              "      <td>7.5</td>\n",
              "      <td>3.6</td>\n",
              "      <td>5.1</td>\n",
              "      <td>0.9</td>\n",
              "      <td>2.5</td>\n",
              "      <td>0.9</td>\n",
              "      <td>30.0</td>\n",
              "      <td>2</td>\n",
              "    </tr>\n",
              "  </tbody>\n",
              "</table>\n",
              "</div>\n",
              "      <button class=\"colab-df-convert\" onclick=\"convertToInteractive('df-01faa261-32eb-4151-b6b0-6726c5791213')\"\n",
              "              title=\"Convert this dataframe to an interactive table.\"\n",
              "              style=\"display:none;\">\n",
              "        \n",
              "  <svg xmlns=\"http://www.w3.org/2000/svg\" height=\"24px\"viewBox=\"0 0 24 24\"\n",
              "       width=\"24px\">\n",
              "    <path d=\"M0 0h24v24H0V0z\" fill=\"none\"/>\n",
              "    <path d=\"M18.56 5.44l.94 2.06.94-2.06 2.06-.94-2.06-.94-.94-2.06-.94 2.06-2.06.94zm-11 1L8.5 8.5l.94-2.06 2.06-.94-2.06-.94L8.5 2.5l-.94 2.06-2.06.94zm10 10l.94 2.06.94-2.06 2.06-.94-2.06-.94-.94-2.06-.94 2.06-2.06.94z\"/><path d=\"M17.41 7.96l-1.37-1.37c-.4-.4-.92-.59-1.43-.59-.52 0-1.04.2-1.43.59L10.3 9.45l-7.72 7.72c-.78.78-.78 2.05 0 2.83L4 21.41c.39.39.9.59 1.41.59.51 0 1.02-.2 1.41-.59l7.78-7.78 2.81-2.81c.8-.78.8-2.07 0-2.86zM5.41 20L4 18.59l7.72-7.72 1.47 1.35L5.41 20z\"/>\n",
              "  </svg>\n",
              "      </button>\n",
              "      \n",
              "  <style>\n",
              "    .colab-df-container {\n",
              "      display:flex;\n",
              "      flex-wrap:wrap;\n",
              "      gap: 12px;\n",
              "    }\n",
              "\n",
              "    .colab-df-convert {\n",
              "      background-color: #E8F0FE;\n",
              "      border: none;\n",
              "      border-radius: 50%;\n",
              "      cursor: pointer;\n",
              "      display: none;\n",
              "      fill: #1967D2;\n",
              "      height: 32px;\n",
              "      padding: 0 0 0 0;\n",
              "      width: 32px;\n",
              "    }\n",
              "\n",
              "    .colab-df-convert:hover {\n",
              "      background-color: #E2EBFA;\n",
              "      box-shadow: 0px 1px 2px rgba(60, 64, 67, 0.3), 0px 1px 3px 1px rgba(60, 64, 67, 0.15);\n",
              "      fill: #174EA6;\n",
              "    }\n",
              "\n",
              "    [theme=dark] .colab-df-convert {\n",
              "      background-color: #3B4455;\n",
              "      fill: #D2E3FC;\n",
              "    }\n",
              "\n",
              "    [theme=dark] .colab-df-convert:hover {\n",
              "      background-color: #434B5C;\n",
              "      box-shadow: 0px 1px 3px 1px rgba(0, 0, 0, 0.15);\n",
              "      filter: drop-shadow(0px 1px 2px rgba(0, 0, 0, 0.3));\n",
              "      fill: #FFFFFF;\n",
              "    }\n",
              "  </style>\n",
              "\n",
              "      <script>\n",
              "        const buttonEl =\n",
              "          document.querySelector('#df-01faa261-32eb-4151-b6b0-6726c5791213 button.colab-df-convert');\n",
              "        buttonEl.style.display =\n",
              "          google.colab.kernel.accessAllowed ? 'block' : 'none';\n",
              "\n",
              "        async function convertToInteractive(key) {\n",
              "          const element = document.querySelector('#df-01faa261-32eb-4151-b6b0-6726c5791213');\n",
              "          const dataTable =\n",
              "            await google.colab.kernel.invokeFunction('convertToInteractive',\n",
              "                                                     [key], {});\n",
              "          if (!dataTable) return;\n",
              "\n",
              "          const docLinkHtml = 'Like what you see? Visit the ' +\n",
              "            '<a target=\"_blank\" href=https://colab.research.google.com/notebooks/data_table.ipynb>data table notebook</a>'\n",
              "            + ' to learn more about interactive tables.';\n",
              "          element.innerHTML = '';\n",
              "          dataTable['output_type'] = 'display_data';\n",
              "          await google.colab.output.renderOutput(dataTable, element);\n",
              "          const docLink = document.createElement('div');\n",
              "          docLink.innerHTML = docLinkHtml;\n",
              "          element.appendChild(docLink);\n",
              "        }\n",
              "      </script>\n",
              "    </div>\n",
              "  </div>\n",
              "  "
            ]
          },
          "metadata": {},
          "execution_count": 21
        }
      ],
      "source": [
        "data_db.head(8)"
      ]
    },
    {
      "cell_type": "code",
      "source": [
        "# Split dataset into input and output variables\n",
        "X = data_db.iloc[:, 0:13]\n",
        "Y = data_db.iloc[:, 13]\n",
        "\n"
      ],
      "metadata": {
        "id": "oiLovFZQcGeL"
      },
      "id": "oiLovFZQcGeL",
      "execution_count": 20,
      "outputs": []
    },
    {
      "cell_type": "code",
      "source": [
        "#performing feature selection to pick the mose prevalent variables\n",
        "from sklearn.tree import DecisionTreeClassifier\n",
        "from sklearn.model_selection import train_test_split\n",
        "\n",
        "\n",
        "\n",
        "# Split the data into training and testing sets\n",
        "X_train, X_test, y_train, y_test = train_test_split(X, Y, random_state=1)\n",
        "\n",
        "# Train a decision tree classifier on the training set\n",
        "dtc = DecisionTreeClassifier(random_state=0)\n",
        "dtc.fit(X_train, y_train)\n",
        "\n",
        "# Print the feature importances\n",
        "print(\"Feature importances:\\n{}\".format(dtc.feature_importances_))\n",
        "\n",
        "# Select the most important features\n",
        "important_features = [i for i in dtc.feature_importances_.tolist() if i > 0.0]\n",
        "#X_train_reduced = X_train[:, important_features]\n",
        "#X_test_reduced = X_test[:, important_features]"
      ],
      "metadata": {
        "colab": {
          "base_uri": "https://localhost:8080/"
        },
        "id": "9AiDWizycRpg",
        "outputId": "1d805031-79b9-400c-b8ef-2ecdde13ff5c"
      },
      "id": "9AiDWizycRpg",
      "execution_count": 22,
      "outputs": [
        {
          "output_type": "stream",
          "name": "stdout",
          "text": [
            "Feature importances:\n",
            "[0.         0.00963802 0.         0.11962336 0.         0.00516323\n",
            " 0.62074102 0.09028625 0.04166327 0.         0.01394071 0.\n",
            " 0.09894414]\n"
          ]
        }
      ]
    },
    {
      "cell_type": "code",
      "source": [
        "reduced_data = data_db[['AGE', 'HbA1c', 'Chol', 'TG', 'VLDL', 'BMI', 'CLASS']]"
      ],
      "metadata": {
        "id": "NrheAoLicR6k"
      },
      "id": "NrheAoLicR6k",
      "execution_count": 49,
      "outputs": []
    },
    {
      "cell_type": "code",
      "source": [
        "#predicting the result using K-means classifier\n",
        "import pandas as pd\n",
        "import numpy as np\n",
        "from sklearn.cluster import KMeans\n",
        "from sklearn.preprocessing import StandardScaler\n",
        "import matplotlib.pyplot as plt\n",
        "%matplotlib inline"
      ],
      "metadata": {
        "id": "aYRH2zh5cSBE"
      },
      "id": "aYRH2zh5cSBE",
      "execution_count": 24,
      "outputs": []
    },
    {
      "cell_type": "code",
      "source": [
        "#Preparing the dataset\n",
        "X = reduced_data.drop(\"CLASS\", axis = 1)"
      ],
      "metadata": {
        "id": "csbXP1XGcSMB"
      },
      "id": "csbXP1XGcSMB",
      "execution_count": 101,
      "outputs": []
    },
    {
      "cell_type": "code",
      "source": [
        "scaler = StandardScaler()\n",
        "X = scaler.fit_transform(X)"
      ],
      "metadata": {
        "id": "uGw1UCAqfsg9"
      },
      "id": "uGw1UCAqfsg9",
      "execution_count": 122,
      "outputs": []
    },
    {
      "cell_type": "code",
      "source": [
        "X = pd.DataFrame(X)"
      ],
      "metadata": {
        "id": "HIdMiGODfyNX"
      },
      "id": "HIdMiGODfyNX",
      "execution_count": 104,
      "outputs": []
    },
    {
      "cell_type": "code",
      "source": [
        "X.columns = reduced_data.drop(\"CLASS\", axis = 1).columns"
      ],
      "metadata": {
        "id": "dqslaS9RBgDH"
      },
      "id": "dqslaS9RBgDH",
      "execution_count": 105,
      "outputs": []
    },
    {
      "cell_type": "code",
      "source": [
        "X"
      ],
      "metadata": {
        "colab": {
          "base_uri": "https://localhost:8080/",
          "height": 424
        },
        "id": "3VXx0Vd8CBmR",
        "outputId": "9a739db3-ee3a-4af2-b9be-9eefc0257e95"
      },
      "id": "3VXx0Vd8CBmR",
      "execution_count": 106,
      "outputs": [
        {
          "output_type": "execute_result",
          "data": {
            "text/plain": [
              "          AGE     HbA1c      Chol        TG      VLDL       BMI\n",
              "0    2.214025 -0.545323  0.336011 -0.678063 -0.342649 -0.318155\n",
              "1    0.735886  0.204854 -0.278859 -0.106828 -0.206103  0.891545\n",
              "2    0.167371  1.942105 -0.740012 -0.749467 -0.342649  0.891545\n",
              "3    0.053668 -2.085160 -2.815201 -1.177893 -0.096866  0.689928\n",
              "4   -0.173738  1.073480 -0.663153 -0.892276 -0.288030 -0.318155\n",
              "..        ...       ...       ...       ...       ...       ...\n",
              "995  0.394777  0.362786  0.412870 -0.820871 -0.369958  0.488312\n",
              "996 -0.173738  1.784173 -0.048283  1.178450 -0.014938  1.415749\n",
              "997 -0.287441 -0.584806  0.797165  0.178789 -0.178793  0.689928\n",
              "998  0.963292  0.955031  0.336011  0.250194 -0.178793 -0.116538\n",
              "999  0.167371 -1.098085  0.797165 -0.249637 -0.260721  0.085078\n",
              "\n",
              "[1000 rows x 6 columns]"
            ],
            "text/html": [
              "\n",
              "  <div id=\"df-ed5538f3-c7e0-438d-82cc-fb36983ab314\">\n",
              "    <div class=\"colab-df-container\">\n",
              "      <div>\n",
              "<style scoped>\n",
              "    .dataframe tbody tr th:only-of-type {\n",
              "        vertical-align: middle;\n",
              "    }\n",
              "\n",
              "    .dataframe tbody tr th {\n",
              "        vertical-align: top;\n",
              "    }\n",
              "\n",
              "    .dataframe thead th {\n",
              "        text-align: right;\n",
              "    }\n",
              "</style>\n",
              "<table border=\"1\" class=\"dataframe\">\n",
              "  <thead>\n",
              "    <tr style=\"text-align: right;\">\n",
              "      <th></th>\n",
              "      <th>AGE</th>\n",
              "      <th>HbA1c</th>\n",
              "      <th>Chol</th>\n",
              "      <th>TG</th>\n",
              "      <th>VLDL</th>\n",
              "      <th>BMI</th>\n",
              "    </tr>\n",
              "  </thead>\n",
              "  <tbody>\n",
              "    <tr>\n",
              "      <th>0</th>\n",
              "      <td>2.214025</td>\n",
              "      <td>-0.545323</td>\n",
              "      <td>0.336011</td>\n",
              "      <td>-0.678063</td>\n",
              "      <td>-0.342649</td>\n",
              "      <td>-0.318155</td>\n",
              "    </tr>\n",
              "    <tr>\n",
              "      <th>1</th>\n",
              "      <td>0.735886</td>\n",
              "      <td>0.204854</td>\n",
              "      <td>-0.278859</td>\n",
              "      <td>-0.106828</td>\n",
              "      <td>-0.206103</td>\n",
              "      <td>0.891545</td>\n",
              "    </tr>\n",
              "    <tr>\n",
              "      <th>2</th>\n",
              "      <td>0.167371</td>\n",
              "      <td>1.942105</td>\n",
              "      <td>-0.740012</td>\n",
              "      <td>-0.749467</td>\n",
              "      <td>-0.342649</td>\n",
              "      <td>0.891545</td>\n",
              "    </tr>\n",
              "    <tr>\n",
              "      <th>3</th>\n",
              "      <td>0.053668</td>\n",
              "      <td>-2.085160</td>\n",
              "      <td>-2.815201</td>\n",
              "      <td>-1.177893</td>\n",
              "      <td>-0.096866</td>\n",
              "      <td>0.689928</td>\n",
              "    </tr>\n",
              "    <tr>\n",
              "      <th>4</th>\n",
              "      <td>-0.173738</td>\n",
              "      <td>1.073480</td>\n",
              "      <td>-0.663153</td>\n",
              "      <td>-0.892276</td>\n",
              "      <td>-0.288030</td>\n",
              "      <td>-0.318155</td>\n",
              "    </tr>\n",
              "    <tr>\n",
              "      <th>...</th>\n",
              "      <td>...</td>\n",
              "      <td>...</td>\n",
              "      <td>...</td>\n",
              "      <td>...</td>\n",
              "      <td>...</td>\n",
              "      <td>...</td>\n",
              "    </tr>\n",
              "    <tr>\n",
              "      <th>995</th>\n",
              "      <td>0.394777</td>\n",
              "      <td>0.362786</td>\n",
              "      <td>0.412870</td>\n",
              "      <td>-0.820871</td>\n",
              "      <td>-0.369958</td>\n",
              "      <td>0.488312</td>\n",
              "    </tr>\n",
              "    <tr>\n",
              "      <th>996</th>\n",
              "      <td>-0.173738</td>\n",
              "      <td>1.784173</td>\n",
              "      <td>-0.048283</td>\n",
              "      <td>1.178450</td>\n",
              "      <td>-0.014938</td>\n",
              "      <td>1.415749</td>\n",
              "    </tr>\n",
              "    <tr>\n",
              "      <th>997</th>\n",
              "      <td>-0.287441</td>\n",
              "      <td>-0.584806</td>\n",
              "      <td>0.797165</td>\n",
              "      <td>0.178789</td>\n",
              "      <td>-0.178793</td>\n",
              "      <td>0.689928</td>\n",
              "    </tr>\n",
              "    <tr>\n",
              "      <th>998</th>\n",
              "      <td>0.963292</td>\n",
              "      <td>0.955031</td>\n",
              "      <td>0.336011</td>\n",
              "      <td>0.250194</td>\n",
              "      <td>-0.178793</td>\n",
              "      <td>-0.116538</td>\n",
              "    </tr>\n",
              "    <tr>\n",
              "      <th>999</th>\n",
              "      <td>0.167371</td>\n",
              "      <td>-1.098085</td>\n",
              "      <td>0.797165</td>\n",
              "      <td>-0.249637</td>\n",
              "      <td>-0.260721</td>\n",
              "      <td>0.085078</td>\n",
              "    </tr>\n",
              "  </tbody>\n",
              "</table>\n",
              "<p>1000 rows × 6 columns</p>\n",
              "</div>\n",
              "      <button class=\"colab-df-convert\" onclick=\"convertToInteractive('df-ed5538f3-c7e0-438d-82cc-fb36983ab314')\"\n",
              "              title=\"Convert this dataframe to an interactive table.\"\n",
              "              style=\"display:none;\">\n",
              "        \n",
              "  <svg xmlns=\"http://www.w3.org/2000/svg\" height=\"24px\"viewBox=\"0 0 24 24\"\n",
              "       width=\"24px\">\n",
              "    <path d=\"M0 0h24v24H0V0z\" fill=\"none\"/>\n",
              "    <path d=\"M18.56 5.44l.94 2.06.94-2.06 2.06-.94-2.06-.94-.94-2.06-.94 2.06-2.06.94zm-11 1L8.5 8.5l.94-2.06 2.06-.94-2.06-.94L8.5 2.5l-.94 2.06-2.06.94zm10 10l.94 2.06.94-2.06 2.06-.94-2.06-.94-.94-2.06-.94 2.06-2.06.94z\"/><path d=\"M17.41 7.96l-1.37-1.37c-.4-.4-.92-.59-1.43-.59-.52 0-1.04.2-1.43.59L10.3 9.45l-7.72 7.72c-.78.78-.78 2.05 0 2.83L4 21.41c.39.39.9.59 1.41.59.51 0 1.02-.2 1.41-.59l7.78-7.78 2.81-2.81c.8-.78.8-2.07 0-2.86zM5.41 20L4 18.59l7.72-7.72 1.47 1.35L5.41 20z\"/>\n",
              "  </svg>\n",
              "      </button>\n",
              "      \n",
              "  <style>\n",
              "    .colab-df-container {\n",
              "      display:flex;\n",
              "      flex-wrap:wrap;\n",
              "      gap: 12px;\n",
              "    }\n",
              "\n",
              "    .colab-df-convert {\n",
              "      background-color: #E8F0FE;\n",
              "      border: none;\n",
              "      border-radius: 50%;\n",
              "      cursor: pointer;\n",
              "      display: none;\n",
              "      fill: #1967D2;\n",
              "      height: 32px;\n",
              "      padding: 0 0 0 0;\n",
              "      width: 32px;\n",
              "    }\n",
              "\n",
              "    .colab-df-convert:hover {\n",
              "      background-color: #E2EBFA;\n",
              "      box-shadow: 0px 1px 2px rgba(60, 64, 67, 0.3), 0px 1px 3px 1px rgba(60, 64, 67, 0.15);\n",
              "      fill: #174EA6;\n",
              "    }\n",
              "\n",
              "    [theme=dark] .colab-df-convert {\n",
              "      background-color: #3B4455;\n",
              "      fill: #D2E3FC;\n",
              "    }\n",
              "\n",
              "    [theme=dark] .colab-df-convert:hover {\n",
              "      background-color: #434B5C;\n",
              "      box-shadow: 0px 1px 3px 1px rgba(0, 0, 0, 0.15);\n",
              "      filter: drop-shadow(0px 1px 2px rgba(0, 0, 0, 0.3));\n",
              "      fill: #FFFFFF;\n",
              "    }\n",
              "  </style>\n",
              "\n",
              "      <script>\n",
              "        const buttonEl =\n",
              "          document.querySelector('#df-ed5538f3-c7e0-438d-82cc-fb36983ab314 button.colab-df-convert');\n",
              "        buttonEl.style.display =\n",
              "          google.colab.kernel.accessAllowed ? 'block' : 'none';\n",
              "\n",
              "        async function convertToInteractive(key) {\n",
              "          const element = document.querySelector('#df-ed5538f3-c7e0-438d-82cc-fb36983ab314');\n",
              "          const dataTable =\n",
              "            await google.colab.kernel.invokeFunction('convertToInteractive',\n",
              "                                                     [key], {});\n",
              "          if (!dataTable) return;\n",
              "\n",
              "          const docLinkHtml = 'Like what you see? Visit the ' +\n",
              "            '<a target=\"_blank\" href=https://colab.research.google.com/notebooks/data_table.ipynb>data table notebook</a>'\n",
              "            + ' to learn more about interactive tables.';\n",
              "          element.innerHTML = '';\n",
              "          dataTable['output_type'] = 'display_data';\n",
              "          await google.colab.output.renderOutput(dataTable, element);\n",
              "          const docLink = document.createElement('div');\n",
              "          docLink.innerHTML = docLinkHtml;\n",
              "          element.appendChild(docLink);\n",
              "        }\n",
              "      </script>\n",
              "    </div>\n",
              "  </div>\n",
              "  "
            ]
          },
          "metadata": {},
          "execution_count": 106
        }
      ]
    },
    {
      "cell_type": "code",
      "source": [
        "wcss = []\n",
        "for i in range(1, 11):\n",
        "    kmeans = KMeans(n_clusters=i, init='k-means++', random_state=42)\n",
        "    kmeans.fit(X)\n",
        "    wcss.append(kmeans.inertia_)\n",
        "plt.plot(range(1, 11), wcss)\n",
        "plt.title('Elbow Method')\n",
        "plt.xlabel('Number of clusters')\n",
        "plt.ylabel('WCSS')\n",
        "plt.show()"
      ],
      "metadata": {
        "colab": {
          "base_uri": "https://localhost:8080/",
          "height": 472
        },
        "id": "mJZm2R9Ug3f2",
        "outputId": "10f0ac35-e76f-40d2-88f9-c1051bbb40b0"
      },
      "id": "mJZm2R9Ug3f2",
      "execution_count": 107,
      "outputs": [
        {
          "output_type": "display_data",
          "data": {
            "text/plain": [
              "<Figure size 640x480 with 1 Axes>"
            ],
            "image/png": "[encoded data removed]"
          },
          "metadata": {}
        }
      ]
    },
    {
      "cell_type": "code",
      "source": [
        "kmeans = KMeans(n_clusters=3, init='k-means++', random_state=42)\n",
        "kmeans.fit(X)"
      ],
      "metadata": {
        "colab": {
          "base_uri": "https://localhost:8080/",
          "height": 75
        },
        "id": "8P8lEYQNg3vw",
        "outputId": "967209fe-5056-4a1d-da57-f92fcfaff019"
      },
      "id": "8P8lEYQNg3vw",
      "execution_count": 108,
      "outputs": [
        {
          "output_type": "execute_result",
          "data": {
            "text/plain": [
              "KMeans(n_clusters=3, random_state=42)"
            ],
            "text/html": [
              "<style>#sk-container-id-5 {color: black;background-color: white;}#sk-container-id-5 pre{padding: 0;}#sk-container-id-5 div.sk-toggleable {background-color: white;}#sk-container-id-5 label.sk-toggleable__label {cursor: pointer;display: block;width: 100%;margin-bottom: 0;padding: 0.3em;box-sizing: border-box;text-align: center;}#sk-container-id-5 label.sk-toggleable__label-arrow:before {content: \"▸\";float: left;margin-right: 0.25em;color: #696969;}#sk-container-id-5 label.sk-toggleable__label-arrow:hover:before {color: black;}#sk-container-id-5 div.sk-estimator:hover label.sk-toggleable__label-arrow:before {color: black;}#sk-container-id-5 div.sk-toggleable__content {max-height: 0;max-width: 0;overflow: hidden;text-align: left;background-color: #f0f8ff;}#sk-container-id-5 div.sk-toggleable__content pre {margin: 0.2em;color: black;border-radius: 0.25em;background-color: #f0f8ff;}#sk-container-id-5 input.sk-toggleable__control:checked~div.sk-toggleable__content {max-height: 200px;max-width: 100%;overflow: auto;}#sk-container-id-5 input.sk-toggleable__control:checked~label.sk-toggleable__label-arrow:before {content: \"▾\";}#sk-container-id-5 div.sk-estimator input.sk-toggleable__control:checked~label.sk-toggleable__label {background-color: #d4ebff;}#sk-container-id-5 div.sk-label input.sk-toggleable__control:checked~label.sk-toggleable__label {background-color: #d4ebff;}#sk-container-id-5 input.sk-hidden--visually {border: 0;clip: rect(1px 1px 1px 1px);clip: rect(1px, 1px, 1px, 1px);height: 1px;margin: -1px;overflow: hidden;padding: 0;position: absolute;width: 1px;}#sk-container-id-5 div.sk-estimator {font-family: monospace;background-color: #f0f8ff;border: 1px dotted black;border-radius: 0.25em;box-sizing: border-box;margin-bottom: 0.5em;}#sk-container-id-5 div.sk-estimator:hover {background-color: #d4ebff;}#sk-container-id-5 div.sk-parallel-item::after {content: \"\";width: 100%;border-bottom: 1px solid gray;flex-grow: 1;}#sk-container-id-5 div.sk-label:hover label.sk-toggleable__label {background-color: #d4ebff;}#sk-container-id-5 div.sk-serial::before {content: \"\";position: absolute;border-left: 1px solid gray;box-sizing: border-box;top: 0;bottom: 0;left: 50%;z-index: 0;}#sk-container-id-5 div.sk-serial {display: flex;flex-direction: column;align-items: center;background-color: white;padding-right: 0.2em;padding-left: 0.2em;position: relative;}#sk-container-id-5 div.sk-item {position: relative;z-index: 1;}#sk-container-id-5 div.sk-parallel {display: flex;align-items: stretch;justify-content: center;background-color: white;position: relative;}#sk-container-id-5 div.sk-item::before, #sk-container-id-5 div.sk-parallel-item::before {content: \"\";position: absolute;border-left: 1px solid gray;box-sizing: border-box;top: 0;bottom: 0;left: 50%;z-index: -1;}#sk-container-id-5 div.sk-parallel-item {display: flex;flex-direction: column;z-index: 1;position: relative;background-color: white;}#sk-container-id-5 div.sk-parallel-item:first-child::after {align-self: flex-end;width: 50%;}#sk-container-id-5 div.sk-parallel-item:last-child::after {align-self: flex-start;width: 50%;}#sk-container-id-5 div.sk-parallel-item:only-child::after {width: 0;}#sk-container-id-5 div.sk-dashed-wrapped {border: 1px dashed gray;margin: 0 0.4em 0.5em 0.4em;box-sizing: border-box;padding-bottom: 0.4em;background-color: white;}#sk-container-id-5 div.sk-label label {font-family: monospace;font-weight: bold;display: inline-block;line-height: 1.2em;}#sk-container-id-5 div.sk-label-container {text-align: center;}#sk-container-id-5 div.sk-container {/* jupyter's `normalize.less` sets `[hidden] { display: none; }` but bootstrap.min.css set `[hidden] { display: none !important; }` so we also need the `!important` here to be able to override the default hidden behavior on the sphinx rendered scikit-learn.org. See: https://github.com/scikit-learn/scikit-learn/issues/21755 */display: inline-block !important;position: relative;}#sk-container-id-5 div.sk-text-repr-fallback {display: none;}</style><div id=\"sk-container-id-5\" class=\"sk-top-container\"><div class=\"sk-text-repr-fallback\"><pre>KMeans(n_clusters=3, random_state=42)</pre><b>In a Jupyter environment, please rerun this cell to show the HTML representation or trust the notebook. <br />On GitHub, the HTML representation is unable to render, please try loading this page with nbviewer.org.</b></div><div class=\"sk-container\" hidden><div class=\"sk-item\"><div class=\"sk-estimator sk-toggleable\"><input class=\"sk-toggleable__control sk-hidden--visually\" id=\"sk-estimator-id-5\" type=\"checkbox\" checked><label for=\"sk-estimator-id-5\" class=\"sk-toggleable__label sk-toggleable__label-arrow\">KMeans</label><div class=\"sk-toggleable__content\"><pre>KMeans(n_clusters=3, random_state=42)</pre></div></div></div></div></div>"
            ]
          },
          "metadata": {},
          "execution_count": 108
        }
      ]
    },
    {
      "cell_type": "code",
      "source": [
        "labels = kmeans.predict(X)\n",
        "reduced_means = reduced_data.copy()"
      ],
      "metadata": {
        "id": "Hdu2u1vlhZPk"
      },
      "id": "Hdu2u1vlhZPk",
      "execution_count": 116,
      "outputs": []
    },
    {
      "cell_type": "code",
      "source": [
        "reduced_means['Cluster'] = labels"
      ],
      "metadata": {
        "id": "3vjp0AxfhZYS"
      },
      "id": "3vjp0AxfhZYS",
      "execution_count": 117,
      "outputs": []
    },
    {
      "cell_type": "code",
      "source": [
        "reduced_means"
      ],
      "metadata": {
        "colab": {
          "base_uri": "https://localhost:8080/",
          "height": 424
        },
        "id": "nIlPtwwxhuY1",
        "outputId": "d79a24a7-7b52-4b97-f0fe-629cb69d39fe"
      },
      "id": "nIlPtwwxhuY1",
      "execution_count": 118,
      "outputs": [
        {
          "output_type": "execute_result",
          "data": {
            "text/plain": [
              "     AGE  HbA1c  Chol   TG  VLDL   BMI  CLASS  Cluster\n",
              "0     73    6.9   5.3  1.4   0.6  28.0      2        0\n",
              "1     60    8.8   4.5  2.2   1.1  34.0      2        0\n",
              "2     55   13.2   3.9  1.3   0.6  34.0      2        0\n",
              "3     54    3.0   1.2  0.7   1.5  33.0      2        1\n",
              "4     52   11.0   4.0  1.1   0.8  28.0      2        0\n",
              "..   ...    ...   ...  ...   ...   ...    ...      ...\n",
              "995   57    9.2   5.4  1.2   0.5  32.0      2        0\n",
              "996   52   12.8   4.8  4.0   1.8  36.6      2        0\n",
              "997   51    6.8   5.9  2.6   1.2  33.0      2        0\n",
              "998   62   10.7   5.3  2.7   1.2  29.0      2        0\n",
              "999   55    5.5   5.9  2.0   0.9  30.0      2        0\n",
              "\n",
              "[1000 rows x 8 columns]"
            ],
            "text/html": [
              "\n",
              "  <div id=\"df-4c1a4236-145c-4c22-b74d-a63c8aeb6c1b\">\n",
              "    <div class=\"colab-df-container\">\n",
              "      <div>\n",
              "<style scoped>\n",
              "    .dataframe tbody tr th:only-of-type {\n",
              "        vertical-align: middle;\n",
              "    }\n",
              "\n",
              "    .dataframe tbody tr th {\n",
              "        vertical-align: top;\n",
              "    }\n",
              "\n",
              "    .dataframe thead th {\n",
              "        text-align: right;\n",
              "    }\n",
              "</style>\n",
              "<table border=\"1\" class=\"dataframe\">\n",
              "  <thead>\n",
              "    <tr style=\"text-align: right;\">\n",
              "      <th></th>\n",
              "      <th>AGE</th>\n",
              "      <th>HbA1c</th>\n",
              "      <th>Chol</th>\n",
              "      <th>TG</th>\n",
              "      <th>VLDL</th>\n",
              "      <th>BMI</th>\n",
              "      <th>CLASS</th>\n",
              "      <th>Cluster</th>\n",
              "    </tr>\n",
              "  </thead>\n",
              "  <tbody>\n",
              "    <tr>\n",
              "      <th>0</th>\n",
              "      <td>73</td>\n",
              "      <td>6.9</td>\n",
              "      <td>5.3</td>\n",
              "      <td>1.4</td>\n",
              "      <td>0.6</td>\n",
              "      <td>28.0</td>\n",
              "      <td>2</td>\n",
              "      <td>0</td>\n",
              "    </tr>\n",
              "    <tr>\n",
              "      <th>1</th>\n",
              "      <td>60</td>\n",
              "      <td>8.8</td>\n",
              "      <td>4.5</td>\n",
              "      <td>2.2</td>\n",
              "      <td>1.1</td>\n",
              "      <td>34.0</td>\n",
              "      <td>2</td>\n",
              "      <td>0</td>\n",
              "    </tr>\n",
              "    <tr>\n",
              "      <th>2</th>\n",
              "      <td>55</td>\n",
              "      <td>13.2</td>\n",
              "      <td>3.9</td>\n",
              "      <td>1.3</td>\n",
              "      <td>0.6</td>\n",
              "      <td>34.0</td>\n",
              "      <td>2</td>\n",
              "      <td>0</td>\n",
              "    </tr>\n",
              "    <tr>\n",
              "      <th>3</th>\n",
              "      <td>54</td>\n",
              "      <td>3.0</td>\n",
              "      <td>1.2</td>\n",
              "      <td>0.7</td>\n",
              "      <td>1.5</td>\n",
              "      <td>33.0</td>\n",
              "      <td>2</td>\n",
              "      <td>1</td>\n",
              "    </tr>\n",
              "    <tr>\n",
              "      <th>4</th>\n",
              "      <td>52</td>\n",
              "      <td>11.0</td>\n",
              "      <td>4.0</td>\n",
              "      <td>1.1</td>\n",
              "      <td>0.8</td>\n",
              "      <td>28.0</td>\n",
              "      <td>2</td>\n",
              "      <td>0</td>\n",
              "    </tr>\n",
              "    <tr>\n",
              "      <th>...</th>\n",
              "      <td>...</td>\n",
              "      <td>...</td>\n",
              "      <td>...</td>\n",
              "      <td>...</td>\n",
              "      <td>...</td>\n",
              "      <td>...</td>\n",
              "      <td>...</td>\n",
              "      <td>...</td>\n",
              "    </tr>\n",
              "    <tr>\n",
              "      <th>995</th>\n",
              "      <td>57</td>\n",
              "      <td>9.2</td>\n",
              "      <td>5.4</td>\n",
              "      <td>1.2</td>\n",
              "      <td>0.5</td>\n",
              "      <td>32.0</td>\n",
              "      <td>2</td>\n",
              "      <td>0</td>\n",
              "    </tr>\n",
              "    <tr>\n",
              "      <th>996</th>\n",
              "      <td>52</td>\n",
              "      <td>12.8</td>\n",
              "      <td>4.8</td>\n",
              "      <td>4.0</td>\n",
              "      <td>1.8</td>\n",
              "      <td>36.6</td>\n",
              "      <td>2</td>\n",
              "      <td>0</td>\n",
              "    </tr>\n",
              "    <tr>\n",
              "      <th>997</th>\n",
              "      <td>51</td>\n",
              "      <td>6.8</td>\n",
              "      <td>5.9</td>\n",
              "      <td>2.6</td>\n",
              "      <td>1.2</td>\n",
              "      <td>33.0</td>\n",
              "      <td>2</td>\n",
              "      <td>0</td>\n",
              "    </tr>\n",
              "    <tr>\n",
              "      <th>998</th>\n",
              "      <td>62</td>\n",
              "      <td>10.7</td>\n",
              "      <td>5.3</td>\n",
              "      <td>2.7</td>\n",
              "      <td>1.2</td>\n",
              "      <td>29.0</td>\n",
              "      <td>2</td>\n",
              "      <td>0</td>\n",
              "    </tr>\n",
              "    <tr>\n",
              "      <th>999</th>\n",
              "      <td>55</td>\n",
              "      <td>5.5</td>\n",
              "      <td>5.9</td>\n",
              "      <td>2.0</td>\n",
              "      <td>0.9</td>\n",
              "      <td>30.0</td>\n",
              "      <td>2</td>\n",
              "      <td>0</td>\n",
              "    </tr>\n",
              "  </tbody>\n",
              "</table>\n",
              "<p>1000 rows × 8 columns</p>\n",
              "</div>\n",
              "      <button class=\"colab-df-convert\" onclick=\"convertToInteractive('df-4c1a4236-145c-4c22-b74d-a63c8aeb6c1b')\"\n",
              "              title=\"Convert this dataframe to an interactive table.\"\n",
              "              style=\"display:none;\">\n",
              "        \n",
              "  <svg xmlns=\"http://www.w3.org/2000/svg\" height=\"24px\"viewBox=\"0 0 24 24\"\n",
              "       width=\"24px\">\n",
              "    <path d=\"M0 0h24v24H0V0z\" fill=\"none\"/>\n",
              "    <path d=\"M18.56 5.44l.94 2.06.94-2.06 2.06-.94-2.06-.94-.94-2.06-.94 2.06-2.06.94zm-11 1L8.5 8.5l.94-2.06 2.06-.94-2.06-.94L8.5 2.5l-.94 2.06-2.06.94zm10 10l.94 2.06.94-2.06 2.06-.94-2.06-.94-.94-2.06-.94 2.06-2.06.94z\"/><path d=\"M17.41 7.96l-1.37-1.37c-.4-.4-.92-.59-1.43-.59-.52 0-1.04.2-1.43.59L10.3 9.45l-7.72 7.72c-.78.78-.78 2.05 0 2.83L4 21.41c.39.39.9.59 1.41.59.51 0 1.02-.2 1.41-.59l7.78-7.78 2.81-2.81c.8-.78.8-2.07 0-2.86zM5.41 20L4 18.59l7.72-7.72 1.47 1.35L5.41 20z\"/>\n",
              "  </svg>\n",
              "      </button>\n",
              "      \n",
              "  <style>\n",
              "    .colab-df-container {\n",
              "      display:flex;\n",
              "      flex-wrap:wrap;\n",
              "      gap: 12px;\n",
              "    }\n",
              "\n",
              "    .colab-df-convert {\n",
              "      background-color: #E8F0FE;\n",
              "      border: none;\n",
              "      border-radius: 50%;\n",
              "      cursor: pointer;\n",
              "      display: none;\n",
              "      fill: #1967D2;\n",
              "      height: 32px;\n",
              "      padding: 0 0 0 0;\n",
              "      width: 32px;\n",
              "    }\n",
              "\n",
              "    .colab-df-convert:hover {\n",
              "      background-color: #E2EBFA;\n",
              "      box-shadow: 0px 1px 2px rgba(60, 64, 67, 0.3), 0px 1px 3px 1px rgba(60, 64, 67, 0.15);\n",
              "      fill: #174EA6;\n",
              "    }\n",
              "\n",
              "    [theme=dark] .colab-df-convert {\n",
              "      background-color: #3B4455;\n",
              "      fill: #D2E3FC;\n",
              "    }\n",
              "\n",
              "    [theme=dark] .colab-df-convert:hover {\n",
              "      background-color: #434B5C;\n",
              "      box-shadow: 0px 1px 3px 1px rgba(0, 0, 0, 0.15);\n",
              "      filter: drop-shadow(0px 1px 2px rgba(0, 0, 0, 0.3));\n",
              "      fill: #FFFFFF;\n",
              "    }\n",
              "  </style>\n",
              "\n",
              "      <script>\n",
              "        const buttonEl =\n",
              "          document.querySelector('#df-4c1a4236-145c-4c22-b74d-a63c8aeb6c1b button.colab-df-convert');\n",
              "        buttonEl.style.display =\n",
              "          google.colab.kernel.accessAllowed ? 'block' : 'none';\n",
              "\n",
              "        async function convertToInteractive(key) {\n",
              "          const element = document.querySelector('#df-4c1a4236-145c-4c22-b74d-a63c8aeb6c1b');\n",
              "          const dataTable =\n",
              "            await google.colab.kernel.invokeFunction('convertToInteractive',\n",
              "                                                     [key], {});\n",
              "          if (!dataTable) return;\n",
              "\n",
              "          const docLinkHtml = 'Like what you see? Visit the ' +\n",
              "            '<a target=\"_blank\" href=https://colab.research.google.com/notebooks/data_table.ipynb>data table notebook</a>'\n",
              "            + ' to learn more about interactive tables.';\n",
              "          element.innerHTML = '';\n",
              "          dataTable['output_type'] = 'display_data';\n",
              "          await google.colab.output.renderOutput(dataTable, element);\n",
              "          const docLink = document.createElement('div');\n",
              "          docLink.innerHTML = docLinkHtml;\n",
              "          element.appendChild(docLink);\n",
              "        }\n",
              "      </script>\n",
              "    </div>\n",
              "  </div>\n",
              "  "
            ]
          },
          "metadata": {},
          "execution_count": 118
        }
      ]
    },
    {
      "cell_type": "code",
      "source": [
        "#visualizing gthe result\n",
        "plt.scatter(X[labels == 0, 0], X[labels == 0, 1], s = 50, c = 'red', label = 'Cluster 1')\n",
        "plt.scatter(X[labels == 1, 0], X[labels == 1, 1], s = 50, c = 'blue', label = 'Cluster 2')\n",
        "plt.scatter(X[labels == 2, 0], X[labels == 2, 1], s = 50, c = 'green', label = 'Cluster 3')\n",
        "plt.scatter(kmeans.cluster_centers_[:, 0], kmeans.cluster_centers_[:, 1], s = 100, c = 'yellow', label = 'Centroids')\n",
        "plt.title('Clusters of Patients')\n",
        "plt.xlabel('PC1')\n",
        "plt.ylabel('PC2')\n",
        "plt.legend()\n",
        "plt.show()"
      ],
      "metadata": {
        "colab": {
          "base_uri": "https://localhost:8080/",
          "height": 472
        },
        "id": "LAJu-GV2hucy",
        "outputId": "9535b1cf-5288-420b-bb55-95844470f457"
      },
      "id": "LAJu-GV2hucy",
      "execution_count": 123,
      "outputs": [
        {
          "output_type": "display_data",
          "data": {
            "text/plain": [
              "<Figure size 640x480 with 1 Axes>"
            ],
            "image/png": "[encoded data removed]"
          },
          "metadata": {}
        }
      ]
    },
    {
      "cell_type": "code",
      "source": [],
      "metadata": {
        "id": "PAPYQdw6hugt"
      },
      "id": "PAPYQdw6hugt",
      "execution_count": null,
      "outputs": []
    },
    {
      "cell_type": "code",
      "source": [],
      "metadata": {
        "id": "F8ivn-mAhums"
      },
      "id": "F8ivn-mAhums",
      "execution_count": null,
      "outputs": []
    },
    {
      "cell_type": "code",
      "execution_count": null,
      "id": "7d68a7c1",
      "metadata": {
        "id": "7d68a7c1"
      },
      "outputs": [],
      "source": []
    },
    {
      "cell_type": "code",
      "execution_count": null,
      "id": "01d7d097",
      "metadata": {
        "id": "01d7d097"
      },
      "outputs": [],
      "source": [
        "\n"
      ]
    },
    {
      "cell_type": "code",
      "execution_count": null,
      "id": "04dfe541",
      "metadata": {
        "id": "04dfe541"
      },
      "outputs": [],
      "source": []
    },
    {
      "cell_type": "code",
      "execution_count": null,
      "id": "740f23a9",
      "metadata": {
        "id": "740f23a9"
      },
      "outputs": [],
      "source": []
    },
    {
      "cell_type": "code",
      "execution_count": null,
      "id": "f41bda2c",
      "metadata": {
        "id": "f41bda2c"
      },
      "outputs": [],
      "source": []
    },
    {
      "cell_type": "code",
      "execution_count": null,
      "id": "55f48859",
      "metadata": {
        "id": "55f48859"
      },
      "outputs": [],
      "source": [
        "#scaled_acc = acc_score9dat"
      ]
    },
    {
      "cell_type": "code",
      "execution_count": null,
      "id": "f9dcd72f",
      "metadata": {
        "id": "f9dcd72f"
      },
      "outputs": [],
      "source": []
    },
    {
      "cell_type": "code",
      "execution_count": null,
      "id": "ced9e1d8",
      "metadata": {
        "id": "ced9e1d8"
      },
      "outputs": [],
      "source": []
    },
    {
      "cell_type": "code",
      "execution_count": null,
      "id": "a98a973a",
      "metadata": {
        "id": "a98a973a"
      },
      "outputs": [],
      "source": []
    },
    {
      "cell_type": "code",
      "execution_count": 34,
      "id": "5f976be2",
      "metadata": {
        "id": "5f976be2"
      },
      "outputs": [],
      "source": [
        "from sklearn.preprocessing import StandardScaler"
      ]
    },
    {
      "cell_type": "code",
      "execution_count": 35,
      "id": "094be951",
      "metadata": {
        "id": "094be951"
      },
      "outputs": [],
      "source": [
        "scaler = StandardScaler()"
      ]
    },
    {
      "cell_type": "code",
      "execution_count": 1,
      "id": "37eeafec",
      "metadata": {
        "id": "37eeafec"
      },
      "outputs": [],
      "source": []
    },
    {
      "cell_type": "code",
      "execution_count": 36,
      "id": "13373b9b",
      "metadata": {
        "id": "13373b9b"
      },
      "outputs": [],
      "source": [
        "data_with_scale = data_db.copy()"
      ]
    },
    {
      "cell_type": "code",
      "execution_count": 74,
      "id": "5ff437ad",
      "metadata": {
        "id": "5ff437ad",
        "colab": {
          "base_uri": "https://localhost:8080/"
        },
        "outputId": "8abea840-2619-4a7f-f411-9d9b8dfbfb57"
      },
      "outputs": [
        {
          "output_type": "execute_result",
          "data": {
            "text/plain": [
              "array([[ 2.21402542, -0.54532336,  0.33601148, -0.67806268, -0.34264878,\n",
              "        -0.3181552 ],\n",
              "       [ 0.73588602,  0.20485358, -0.27885925, -0.10682802, -0.20610268,\n",
              "         0.89154507],\n",
              "       [ 0.16737086,  1.94210545, -0.7400123 , -0.74946701, -0.34264878,\n",
              "         0.89154507],\n",
              "       ...,\n",
              "       [-0.28744126, -0.58480636,  0.79716453,  0.17878931, -0.17879346,\n",
              "         0.68992836],\n",
              "       [ 0.96329208,  0.95503052,  0.33601148,  0.25019364, -0.17879346,\n",
              "        -0.11653849],\n",
              "       [ 0.16737086, -1.09808532,  0.79716453, -0.24963668, -0.26072112,\n",
              "         0.08507822]])"
            ]
          },
          "metadata": {},
          "execution_count": 74
        }
      ],
      "source": [
        "X"
      ]
    },
    {
      "cell_type": "code",
      "execution_count": null,
      "id": "8a0b2d10",
      "metadata": {
        "id": "8a0b2d10"
      },
      "outputs": [],
      "source": []
    },
    {
      "cell_type": "code",
      "execution_count": 40,
      "id": "69ab4c43",
      "metadata": {
        "id": "69ab4c43"
      },
      "outputs": [],
      "source": [
        "data_with_scale = scaler.fit_transform(data_db)"
      ]
    },
    {
      "cell_type": "code",
      "execution_count": null,
      "id": "68c65515",
      "metadata": {
        "id": "68c65515"
      },
      "outputs": [],
      "source": []
    },
    {
      "cell_type": "code",
      "execution_count": 41,
      "id": "05e5c8c2",
      "metadata": {
        "id": "05e5c8c2",
        "outputId": "a08a647e-393d-491b-c5d0-ca27ff07269c",
        "colab": {
          "base_uri": "https://localhost:8080/"
        }
      },
      "outputs": [
        {
          "output_type": "execute_result",
          "data": {
            "text/plain": [
              "array([[ 0.70543451, -0.06991912,  0.87744601, ..., -0.34264878,\n",
              "        -0.3181552 ,  0.41058438],\n",
              "       [ 0.68878708, -0.06991498,  0.87744601, ..., -0.20610268,\n",
              "         0.89154507,  0.41058438],\n",
              "       [-0.35167679, -0.06560788,  0.87744601, ..., -0.34264878,\n",
              "         0.89154507,  0.41058438],\n",
              "       ...,\n",
              "       [-1.22566644, -0.07711845,  0.87744601, ..., -0.17879346,\n",
              "         0.68992836,  0.41058438],\n",
              "       [-0.05618505, -0.06714291, -1.13967126, ..., -0.17879346,\n",
              "        -0.11653849,  0.41058438],\n",
              "       [-1.04670666, -0.07041186,  0.87744601, ..., -0.26072112,\n",
              "         0.08507822,  0.41058438]])"
            ]
          },
          "metadata": {},
          "execution_count": 41
        }
      ],
      "source": [
        "data_with_scale"
      ]
    },
    {
      "cell_type": "code",
      "execution_count": 124,
      "id": "6102c2e2",
      "metadata": {
        "id": "6102c2e2"
      },
      "outputs": [],
      "source": [
        "unscaled_data = reduced_data.drop(\"CLASS\", axis = 1)"
      ]
    },
    {
      "cell_type": "code",
      "execution_count": 125,
      "id": "5a8184e9",
      "metadata": {
        "id": "5a8184e9"
      },
      "outputs": [],
      "source": [
        "unscaled_acc = acc_score(unscaled_data, label_db)"
      ]
    },
    {
      "cell_type": "code",
      "source": [
        "scaled_data = pd.DataFrame(X)"
      ],
      "metadata": {
        "id": "Ts-TC9vJNmJO"
      },
      "id": "Ts-TC9vJNmJO",
      "execution_count": 128,
      "outputs": []
    },
    {
      "cell_type": "code",
      "execution_count": 131,
      "id": "10c03440",
      "metadata": {
        "id": "10c03440"
      },
      "outputs": [],
      "source": [
        "scaled_data.columns = reduced_data.drop(\"CLASS\", axis = 1).columns"
      ]
    },
    {
      "cell_type": "code",
      "source": [
        "scaled_data"
      ],
      "metadata": {
        "colab": {
          "base_uri": "https://localhost:8080/",
          "height": 424
        },
        "id": "Ba9T8pFrO7X0",
        "outputId": "bc6921cf-30e5-4b37-a4b1-d942b42be429"
      },
      "id": "Ba9T8pFrO7X0",
      "execution_count": 132,
      "outputs": [
        {
          "output_type": "execute_result",
          "data": {
            "text/plain": [
              "          AGE     HbA1c      Chol        TG      VLDL       BMI\n",
              "0    2.214025 -0.545323  0.336011 -0.678063 -0.342649 -0.318155\n",
              "1    0.735886  0.204854 -0.278859 -0.106828 -0.206103  0.891545\n",
              "2    0.167371  1.942105 -0.740012 -0.749467 -0.342649  0.891545\n",
              "3    0.053668 -2.085160 -2.815201 -1.177893 -0.096866  0.689928\n",
              "4   -0.173738  1.073480 -0.663153 -0.892276 -0.288030 -0.318155\n",
              "..        ...       ...       ...       ...       ...       ...\n",
              "995  0.394777  0.362786  0.412870 -0.820871 -0.369958  0.488312\n",
              "996 -0.173738  1.784173 -0.048283  1.178450 -0.014938  1.415749\n",
              "997 -0.287441 -0.584806  0.797165  0.178789 -0.178793  0.689928\n",
              "998  0.963292  0.955031  0.336011  0.250194 -0.178793 -0.116538\n",
              "999  0.167371 -1.098085  0.797165 -0.249637 -0.260721  0.085078\n",
              "\n",
              "[1000 rows x 6 columns]"
            ],
            "text/html": [
              "\n",
              "  <div id=\"df-49983863-5283-4f4c-b4d5-a4ce7de5a887\">\n",
              "    <div class=\"colab-df-container\">\n",
              "      <div>\n",
              "<style scoped>\n",
              "    .dataframe tbody tr th:only-of-type {\n",
              "        vertical-align: middle;\n",
              "    }\n",
              "\n",
              "    .dataframe tbody tr th {\n",
              "        vertical-align: top;\n",
              "    }\n",
              "\n",
              "    .dataframe thead th {\n",
              "        text-align: right;\n",
              "    }\n",
              "</style>\n",
              "<table border=\"1\" class=\"dataframe\">\n",
              "  <thead>\n",
              "    <tr style=\"text-align: right;\">\n",
              "      <th></th>\n",
              "      <th>AGE</th>\n",
              "      <th>HbA1c</th>\n",
              "      <th>Chol</th>\n",
              "      <th>TG</th>\n",
              "      <th>VLDL</th>\n",
              "      <th>BMI</th>\n",
              "    </tr>\n",
              "  </thead>\n",
              "  <tbody>\n",
              "    <tr>\n",
              "      <th>0</th>\n",
              "      <td>2.214025</td>\n",
              "      <td>-0.545323</td>\n",
              "      <td>0.336011</td>\n",
              "      <td>-0.678063</td>\n",
              "      <td>-0.342649</td>\n",
              "      <td>-0.318155</td>\n",
              "    </tr>\n",
              "    <tr>\n",
              "      <th>1</th>\n",
              "      <td>0.735886</td>\n",
              "      <td>0.204854</td>\n",
              "      <td>-0.278859</td>\n",
              "      <td>-0.106828</td>\n",
              "      <td>-0.206103</td>\n",
              "      <td>0.891545</td>\n",
              "    </tr>\n",
              "    <tr>\n",
              "      <th>2</th>\n",
              "      <td>0.167371</td>\n",
              "      <td>1.942105</td>\n",
              "      <td>-0.740012</td>\n",
              "      <td>-0.749467</td>\n",
              "      <td>-0.342649</td>\n",
              "      <td>0.891545</td>\n",
              "    </tr>\n",
              "    <tr>\n",
              "      <th>3</th>\n",
              "      <td>0.053668</td>\n",
              "      <td>-2.085160</td>\n",
              "      <td>-2.815201</td>\n",
              "      <td>-1.177893</td>\n",
              "      <td>-0.096866</td>\n",
              "      <td>0.689928</td>\n",
              "    </tr>\n",
              "    <tr>\n",
              "      <th>4</th>\n",
              "      <td>-0.173738</td>\n",
              "      <td>1.073480</td>\n",
              "      <td>-0.663153</td>\n",
              "      <td>-0.892276</td>\n",
              "      <td>-0.288030</td>\n",
              "      <td>-0.318155</td>\n",
              "    </tr>\n",
              "    <tr>\n",
              "      <th>...</th>\n",
              "      <td>...</td>\n",
              "      <td>...</td>\n",
              "      <td>...</td>\n",
              "      <td>...</td>\n",
              "      <td>...</td>\n",
              "      <td>...</td>\n",
              "    </tr>\n",
              "    <tr>\n",
              "      <th>995</th>\n",
              "      <td>0.394777</td>\n",
              "      <td>0.362786</td>\n",
              "      <td>0.412870</td>\n",
              "      <td>-0.820871</td>\n",
              "      <td>-0.369958</td>\n",
              "      <td>0.488312</td>\n",
              "    </tr>\n",
              "    <tr>\n",
              "      <th>996</th>\n",
              "      <td>-0.173738</td>\n",
              "      <td>1.784173</td>\n",
              "      <td>-0.048283</td>\n",
              "      <td>1.178450</td>\n",
              "      <td>-0.014938</td>\n",
              "      <td>1.415749</td>\n",
              "    </tr>\n",
              "    <tr>\n",
              "      <th>997</th>\n",
              "      <td>-0.287441</td>\n",
              "      <td>-0.584806</td>\n",
              "      <td>0.797165</td>\n",
              "      <td>0.178789</td>\n",
              "      <td>-0.178793</td>\n",
              "      <td>0.689928</td>\n",
              "    </tr>\n",
              "    <tr>\n",
              "      <th>998</th>\n",
              "      <td>0.963292</td>\n",
              "      <td>0.955031</td>\n",
              "      <td>0.336011</td>\n",
              "      <td>0.250194</td>\n",
              "      <td>-0.178793</td>\n",
              "      <td>-0.116538</td>\n",
              "    </tr>\n",
              "    <tr>\n",
              "      <th>999</th>\n",
              "      <td>0.167371</td>\n",
              "      <td>-1.098085</td>\n",
              "      <td>0.797165</td>\n",
              "      <td>-0.249637</td>\n",
              "      <td>-0.260721</td>\n",
              "      <td>0.085078</td>\n",
              "    </tr>\n",
              "  </tbody>\n",
              "</table>\n",
              "<p>1000 rows × 6 columns</p>\n",
              "</div>\n",
              "      <button class=\"colab-df-convert\" onclick=\"convertToInteractive('df-49983863-5283-4f4c-b4d5-a4ce7de5a887')\"\n",
              "              title=\"Convert this dataframe to an interactive table.\"\n",
              "              style=\"display:none;\">\n",
              "        \n",
              "  <svg xmlns=\"http://www.w3.org/2000/svg\" height=\"24px\"viewBox=\"0 0 24 24\"\n",
              "       width=\"24px\">\n",
              "    <path d=\"M0 0h24v24H0V0z\" fill=\"none\"/>\n",
              "    <path d=\"M18.56 5.44l.94 2.06.94-2.06 2.06-.94-2.06-.94-.94-2.06-.94 2.06-2.06.94zm-11 1L8.5 8.5l.94-2.06 2.06-.94-2.06-.94L8.5 2.5l-.94 2.06-2.06.94zm10 10l.94 2.06.94-2.06 2.06-.94-2.06-.94-.94-2.06-.94 2.06-2.06.94z\"/><path d=\"M17.41 7.96l-1.37-1.37c-.4-.4-.92-.59-1.43-.59-.52 0-1.04.2-1.43.59L10.3 9.45l-7.72 7.72c-.78.78-.78 2.05 0 2.83L4 21.41c.39.39.9.59 1.41.59.51 0 1.02-.2 1.41-.59l7.78-7.78 2.81-2.81c.8-.78.8-2.07 0-2.86zM5.41 20L4 18.59l7.72-7.72 1.47 1.35L5.41 20z\"/>\n",
              "  </svg>\n",
              "      </button>\n",
              "      \n",
              "  <style>\n",
              "    .colab-df-container {\n",
              "      display:flex;\n",
              "      flex-wrap:wrap;\n",
              "      gap: 12px;\n",
              "    }\n",
              "\n",
              "    .colab-df-convert {\n",
              "      background-color: #E8F0FE;\n",
              "      border: none;\n",
              "      border-radius: 50%;\n",
              "      cursor: pointer;\n",
              "      display: none;\n",
              "      fill: #1967D2;\n",
              "      height: 32px;\n",
              "      padding: 0 0 0 0;\n",
              "      width: 32px;\n",
              "    }\n",
              "\n",
              "    .colab-df-convert:hover {\n",
              "      background-color: #E2EBFA;\n",
              "      box-shadow: 0px 1px 2px rgba(60, 64, 67, 0.3), 0px 1px 3px 1px rgba(60, 64, 67, 0.15);\n",
              "      fill: #174EA6;\n",
              "    }\n",
              "\n",
              "    [theme=dark] .colab-df-convert {\n",
              "      background-color: #3B4455;\n",
              "      fill: #D2E3FC;\n",
              "    }\n",
              "\n",
              "    [theme=dark] .colab-df-convert:hover {\n",
              "      background-color: #434B5C;\n",
              "      box-shadow: 0px 1px 3px 1px rgba(0, 0, 0, 0.15);\n",
              "      filter: drop-shadow(0px 1px 2px rgba(0, 0, 0, 0.3));\n",
              "      fill: #FFFFFF;\n",
              "    }\n",
              "  </style>\n",
              "\n",
              "      <script>\n",
              "        const buttonEl =\n",
              "          document.querySelector('#df-49983863-5283-4f4c-b4d5-a4ce7de5a887 button.colab-df-convert');\n",
              "        buttonEl.style.display =\n",
              "          google.colab.kernel.accessAllowed ? 'block' : 'none';\n",
              "\n",
              "        async function convertToInteractive(key) {\n",
              "          const element = document.querySelector('#df-49983863-5283-4f4c-b4d5-a4ce7de5a887');\n",
              "          const dataTable =\n",
              "            await google.colab.kernel.invokeFunction('convertToInteractive',\n",
              "                                                     [key], {});\n",
              "          if (!dataTable) return;\n",
              "\n",
              "          const docLinkHtml = 'Like what you see? Visit the ' +\n",
              "            '<a target=\"_blank\" href=https://colab.research.google.com/notebooks/data_table.ipynb>data table notebook</a>'\n",
              "            + ' to learn more about interactive tables.';\n",
              "          element.innerHTML = '';\n",
              "          dataTable['output_type'] = 'display_data';\n",
              "          await google.colab.output.renderOutput(dataTable, element);\n",
              "          const docLink = document.createElement('div');\n",
              "          docLink.innerHTML = docLinkHtml;\n",
              "          element.appendChild(docLink);\n",
              "        }\n",
              "      </script>\n",
              "    </div>\n",
              "  </div>\n",
              "  "
            ]
          },
          "metadata": {},
          "execution_count": 132
        }
      ]
    },
    {
      "cell_type": "code",
      "execution_count": 134,
      "id": "7a621658",
      "metadata": {
        "id": "7a621658"
      },
      "outputs": [],
      "source": [
        "scaled_acc = acc_score(scaled_data, label_db)"
      ]
    },
    {
      "cell_type": "code",
      "execution_count": 135,
      "id": "a42f3755",
      "metadata": {
        "id": "a42f3755",
        "outputId": "e74205bd-c6f5-44da-92cc-1551517db0cc",
        "colab": {
          "base_uri": "https://localhost:8080/",
          "height": 143
        }
      },
      "outputs": [
        {
          "output_type": "execute_result",
          "data": {
            "text/plain": [
              "               Classifier  Accuracy\n",
              "0              KNeighbors     0.932\n",
              "1  Support vector Machine     0.928\n",
              "2                Logistic     0.920"
            ],
            "text/html": [
              "\n",
              "  <div id=\"df-f6947504-d3fa-41de-bc6d-67d5b33285ad\">\n",
              "    <div class=\"colab-df-container\">\n",
              "      <div>\n",
              "<style scoped>\n",
              "    .dataframe tbody tr th:only-of-type {\n",
              "        vertical-align: middle;\n",
              "    }\n",
              "\n",
              "    .dataframe tbody tr th {\n",
              "        vertical-align: top;\n",
              "    }\n",
              "\n",
              "    .dataframe thead th {\n",
              "        text-align: right;\n",
              "    }\n",
              "</style>\n",
              "<table border=\"1\" class=\"dataframe\">\n",
              "  <thead>\n",
              "    <tr style=\"text-align: right;\">\n",
              "      <th></th>\n",
              "      <th>Classifier</th>\n",
              "      <th>Accuracy</th>\n",
              "    </tr>\n",
              "  </thead>\n",
              "  <tbody>\n",
              "    <tr>\n",
              "      <th>0</th>\n",
              "      <td>KNeighbors</td>\n",
              "      <td>0.932</td>\n",
              "    </tr>\n",
              "    <tr>\n",
              "      <th>1</th>\n",
              "      <td>Support vector Machine</td>\n",
              "      <td>0.928</td>\n",
              "    </tr>\n",
              "    <tr>\n",
              "      <th>2</th>\n",
              "      <td>Logistic</td>\n",
              "      <td>0.920</td>\n",
              "    </tr>\n",
              "  </tbody>\n",
              "</table>\n",
              "</div>\n",
              "      <button class=\"colab-df-convert\" onclick=\"convertToInteractive('df-f6947504-d3fa-41de-bc6d-67d5b33285ad')\"\n",
              "              title=\"Convert this dataframe to an interactive table.\"\n",
              "              style=\"display:none;\">\n",
              "        \n",
              "  <svg xmlns=\"http://www.w3.org/2000/svg\" height=\"24px\"viewBox=\"0 0 24 24\"\n",
              "       width=\"24px\">\n",
              "    <path d=\"M0 0h24v24H0V0z\" fill=\"none\"/>\n",
              "    <path d=\"M18.56 5.44l.94 2.06.94-2.06 2.06-.94-2.06-.94-.94-2.06-.94 2.06-2.06.94zm-11 1L8.5 8.5l.94-2.06 2.06-.94-2.06-.94L8.5 2.5l-.94 2.06-2.06.94zm10 10l.94 2.06.94-2.06 2.06-.94-2.06-.94-.94-2.06-.94 2.06-2.06.94z\"/><path d=\"M17.41 7.96l-1.37-1.37c-.4-.4-.92-.59-1.43-.59-.52 0-1.04.2-1.43.59L10.3 9.45l-7.72 7.72c-.78.78-.78 2.05 0 2.83L4 21.41c.39.39.9.59 1.41.59.51 0 1.02-.2 1.41-.59l7.78-7.78 2.81-2.81c.8-.78.8-2.07 0-2.86zM5.41 20L4 18.59l7.72-7.72 1.47 1.35L5.41 20z\"/>\n",
              "  </svg>\n",
              "      </button>\n",
              "      \n",
              "  <style>\n",
              "    .colab-df-container {\n",
              "      display:flex;\n",
              "      flex-wrap:wrap;\n",
              "      gap: 12px;\n",
              "    }\n",
              "\n",
              "    .colab-df-convert {\n",
              "      background-color: #E8F0FE;\n",
              "      border: none;\n",
              "      border-radius: 50%;\n",
              "      cursor: pointer;\n",
              "      display: none;\n",
              "      fill: #1967D2;\n",
              "      height: 32px;\n",
              "      padding: 0 0 0 0;\n",
              "      width: 32px;\n",
              "    }\n",
              "\n",
              "    .colab-df-convert:hover {\n",
              "      background-color: #E2EBFA;\n",
              "      box-shadow: 0px 1px 2px rgba(60, 64, 67, 0.3), 0px 1px 3px 1px rgba(60, 64, 67, 0.15);\n",
              "      fill: #174EA6;\n",
              "    }\n",
              "\n",
              "    [theme=dark] .colab-df-convert {\n",
              "      background-color: #3B4455;\n",
              "      fill: #D2E3FC;\n",
              "    }\n",
              "\n",
              "    [theme=dark] .colab-df-convert:hover {\n",
              "      background-color: #434B5C;\n",
              "      box-shadow: 0px 1px 3px 1px rgba(0, 0, 0, 0.15);\n",
              "      filter: drop-shadow(0px 1px 2px rgba(0, 0, 0, 0.3));\n",
              "      fill: #FFFFFF;\n",
              "    }\n",
              "  </style>\n",
              "\n",
              "      <script>\n",
              "        const buttonEl =\n",
              "          document.querySelector('#df-f6947504-d3fa-41de-bc6d-67d5b33285ad button.colab-df-convert');\n",
              "        buttonEl.style.display =\n",
              "          google.colab.kernel.accessAllowed ? 'block' : 'none';\n",
              "\n",
              "        async function convertToInteractive(key) {\n",
              "          const element = document.querySelector('#df-f6947504-d3fa-41de-bc6d-67d5b33285ad');\n",
              "          const dataTable =\n",
              "            await google.colab.kernel.invokeFunction('convertToInteractive',\n",
              "                                                     [key], {});\n",
              "          if (!dataTable) return;\n",
              "\n",
              "          const docLinkHtml = 'Like what you see? Visit the ' +\n",
              "            '<a target=\"_blank\" href=https://colab.research.google.com/notebooks/data_table.ipynb>data table notebook</a>'\n",
              "            + ' to learn more about interactive tables.';\n",
              "          element.innerHTML = '';\n",
              "          dataTable['output_type'] = 'display_data';\n",
              "          await google.colab.output.renderOutput(dataTable, element);\n",
              "          const docLink = document.createElement('div');\n",
              "          docLink.innerHTML = docLinkHtml;\n",
              "          element.appendChild(docLink);\n",
              "        }\n",
              "      </script>\n",
              "    </div>\n",
              "  </div>\n",
              "  "
            ]
          },
          "metadata": {},
          "execution_count": 135
        }
      ],
      "source": [
        "scaled_acc"
      ]
    },
    {
      "cell_type": "code",
      "execution_count": 136,
      "id": "6de13ee7",
      "metadata": {
        "id": "6de13ee7"
      },
      "outputs": [],
      "source": [
        "X_train, X_test, Y_train, Y_test = split(scaled_data, label_db)"
      ]
    },
    {
      "cell_type": "code",
      "execution_count": 137,
      "id": "517134bf",
      "metadata": {
        "id": "517134bf",
        "outputId": "a60bd56d-7770-4451-a93a-6c587aa1590b",
        "colab": {
          "base_uri": "https://localhost:8080/",
          "height": 424
        }
      },
      "outputs": [
        {
          "output_type": "execute_result",
          "data": {
            "text/plain": [
              "          AGE     HbA1c      Chol        TG      VLDL\n",
              "82  -0.401144 -1.690330 -0.970589 -0.749467 -0.342649\n",
              "991  0.394777  0.915548  0.797165 -0.535254 -0.315340\n",
              "789  0.849589 -0.111010  1.335176  1.535472  0.039680\n",
              "894 -1.083362 -1.098085  3.564083 -0.463850 -0.342649\n",
              "398 -0.060035  1.784173  0.182294  0.464407 -0.151484\n",
              "..        ...       ...       ...       ...       ...\n",
              "106 -0.401144 -0.900670 -0.663153 -0.178232 -0.260721\n",
              "270  0.508480  0.639167  0.259153 -0.392445 -0.342649\n",
              "860  0.167371 -0.624289 -1.124307 -1.177893 -0.424576\n",
              "435  0.622183 -0.111010  0.489729  0.107385 -0.206103\n",
              "102  0.167371  3.008146 -0.509436 -0.820871  0.039680\n",
              "\n",
              "[750 rows x 5 columns]"
            ],
            "text/html": [
              "\n",
              "  <div id=\"df-249aa17a-0c61-43bc-b048-204393ee3398\">\n",
              "    <div class=\"colab-df-container\">\n",
              "      <div>\n",
              "<style scoped>\n",
              "    .dataframe tbody tr th:only-of-type {\n",
              "        vertical-align: middle;\n",
              "    }\n",
              "\n",
              "    .dataframe tbody tr th {\n",
              "        vertical-align: top;\n",
              "    }\n",
              "\n",
              "    .dataframe thead th {\n",
              "        text-align: right;\n",
              "    }\n",
              "</style>\n",
              "<table border=\"1\" class=\"dataframe\">\n",
              "  <thead>\n",
              "    <tr style=\"text-align: right;\">\n",
              "      <th></th>\n",
              "      <th>AGE</th>\n",
              "      <th>HbA1c</th>\n",
              "      <th>Chol</th>\n",
              "      <th>TG</th>\n",
              "      <th>VLDL</th>\n",
              "    </tr>\n",
              "  </thead>\n",
              "  <tbody>\n",
              "    <tr>\n",
              "      <th>82</th>\n",
              "      <td>-0.401144</td>\n",
              "      <td>-1.690330</td>\n",
              "      <td>-0.970589</td>\n",
              "      <td>-0.749467</td>\n",
              "      <td>-0.342649</td>\n",
              "    </tr>\n",
              "    <tr>\n",
              "      <th>991</th>\n",
              "      <td>0.394777</td>\n",
              "      <td>0.915548</td>\n",
              "      <td>0.797165</td>\n",
              "      <td>-0.535254</td>\n",
              "      <td>-0.315340</td>\n",
              "    </tr>\n",
              "    <tr>\n",
              "      <th>789</th>\n",
              "      <td>0.849589</td>\n",
              "      <td>-0.111010</td>\n",
              "      <td>1.335176</td>\n",
              "      <td>1.535472</td>\n",
              "      <td>0.039680</td>\n",
              "    </tr>\n",
              "    <tr>\n",
              "      <th>894</th>\n",
              "      <td>-1.083362</td>\n",
              "      <td>-1.098085</td>\n",
              "      <td>3.564083</td>\n",
              "      <td>-0.463850</td>\n",
              "      <td>-0.342649</td>\n",
              "    </tr>\n",
              "    <tr>\n",
              "      <th>398</th>\n",
              "      <td>-0.060035</td>\n",
              "      <td>1.784173</td>\n",
              "      <td>0.182294</td>\n",
              "      <td>0.464407</td>\n",
              "      <td>-0.151484</td>\n",
              "    </tr>\n",
              "    <tr>\n",
              "      <th>...</th>\n",
              "      <td>...</td>\n",
              "      <td>...</td>\n",
              "      <td>...</td>\n",
              "      <td>...</td>\n",
              "      <td>...</td>\n",
              "    </tr>\n",
              "    <tr>\n",
              "      <th>106</th>\n",
              "      <td>-0.401144</td>\n",
              "      <td>-0.900670</td>\n",
              "      <td>-0.663153</td>\n",
              "      <td>-0.178232</td>\n",
              "      <td>-0.260721</td>\n",
              "    </tr>\n",
              "    <tr>\n",
              "      <th>270</th>\n",
              "      <td>0.508480</td>\n",
              "      <td>0.639167</td>\n",
              "      <td>0.259153</td>\n",
              "      <td>-0.392445</td>\n",
              "      <td>-0.342649</td>\n",
              "    </tr>\n",
              "    <tr>\n",
              "      <th>860</th>\n",
              "      <td>0.167371</td>\n",
              "      <td>-0.624289</td>\n",
              "      <td>-1.124307</td>\n",
              "      <td>-1.177893</td>\n",
              "      <td>-0.424576</td>\n",
              "    </tr>\n",
              "    <tr>\n",
              "      <th>435</th>\n",
              "      <td>0.622183</td>\n",
              "      <td>-0.111010</td>\n",
              "      <td>0.489729</td>\n",
              "      <td>0.107385</td>\n",
              "      <td>-0.206103</td>\n",
              "    </tr>\n",
              "    <tr>\n",
              "      <th>102</th>\n",
              "      <td>0.167371</td>\n",
              "      <td>3.008146</td>\n",
              "      <td>-0.509436</td>\n",
              "      <td>-0.820871</td>\n",
              "      <td>0.039680</td>\n",
              "    </tr>\n",
              "  </tbody>\n",
              "</table>\n",
              "<p>750 rows × 5 columns</p>\n",
              "</div>\n",
              "      <button class=\"colab-df-convert\" onclick=\"convertToInteractive('df-249aa17a-0c61-43bc-b048-204393ee3398')\"\n",
              "              title=\"Convert this dataframe to an interactive table.\"\n",
              "              style=\"display:none;\">\n",
              "        \n",
              "  <svg xmlns=\"http://www.w3.org/2000/svg\" height=\"24px\"viewBox=\"0 0 24 24\"\n",
              "       width=\"24px\">\n",
              "    <path d=\"M0 0h24v24H0V0z\" fill=\"none\"/>\n",
              "    <path d=\"M18.56 5.44l.94 2.06.94-2.06 2.06-.94-2.06-.94-.94-2.06-.94 2.06-2.06.94zm-11 1L8.5 8.5l.94-2.06 2.06-.94-2.06-.94L8.5 2.5l-.94 2.06-2.06.94zm10 10l.94 2.06.94-2.06 2.06-.94-2.06-.94-.94-2.06-.94 2.06-2.06.94z\"/><path d=\"M17.41 7.96l-1.37-1.37c-.4-.4-.92-.59-1.43-.59-.52 0-1.04.2-1.43.59L10.3 9.45l-7.72 7.72c-.78.78-.78 2.05 0 2.83L4 21.41c.39.39.9.59 1.41.59.51 0 1.02-.2 1.41-.59l7.78-7.78 2.81-2.81c.8-.78.8-2.07 0-2.86zM5.41 20L4 18.59l7.72-7.72 1.47 1.35L5.41 20z\"/>\n",
              "  </svg>\n",
              "      </button>\n",
              "      \n",
              "  <style>\n",
              "    .colab-df-container {\n",
              "      display:flex;\n",
              "      flex-wrap:wrap;\n",
              "      gap: 12px;\n",
              "    }\n",
              "\n",
              "    .colab-df-convert {\n",
              "      background-color: #E8F0FE;\n",
              "      border: none;\n",
              "      border-radius: 50%;\n",
              "      cursor: pointer;\n",
              "      display: none;\n",
              "      fill: #1967D2;\n",
              "      height: 32px;\n",
              "      padding: 0 0 0 0;\n",
              "      width: 32px;\n",
              "    }\n",
              "\n",
              "    .colab-df-convert:hover {\n",
              "      background-color: #E2EBFA;\n",
              "      box-shadow: 0px 1px 2px rgba(60, 64, 67, 0.3), 0px 1px 3px 1px rgba(60, 64, 67, 0.15);\n",
              "      fill: #174EA6;\n",
              "    }\n",
              "\n",
              "    [theme=dark] .colab-df-convert {\n",
              "      background-color: #3B4455;\n",
              "      fill: #D2E3FC;\n",
              "    }\n",
              "\n",
              "    [theme=dark] .colab-df-convert:hover {\n",
              "      background-color: #434B5C;\n",
              "      box-shadow: 0px 1px 3px 1px rgba(0, 0, 0, 0.15);\n",
              "      filter: drop-shadow(0px 1px 2px rgba(0, 0, 0, 0.3));\n",
              "      fill: #FFFFFF;\n",
              "    }\n",
              "  </style>\n",
              "\n",
              "      <script>\n",
              "        const buttonEl =\n",
              "          document.querySelector('#df-249aa17a-0c61-43bc-b048-204393ee3398 button.colab-df-convert');\n",
              "        buttonEl.style.display =\n",
              "          google.colab.kernel.accessAllowed ? 'block' : 'none';\n",
              "\n",
              "        async function convertToInteractive(key) {\n",
              "          const element = document.querySelector('#df-249aa17a-0c61-43bc-b048-204393ee3398');\n",
              "          const dataTable =\n",
              "            await google.colab.kernel.invokeFunction('convertToInteractive',\n",
              "                                                     [key], {});\n",
              "          if (!dataTable) return;\n",
              "\n",
              "          const docLinkHtml = 'Like what you see? Visit the ' +\n",
              "            '<a target=\"_blank\" href=https://colab.research.google.com/notebooks/data_table.ipynb>data table notebook</a>'\n",
              "            + ' to learn more about interactive tables.';\n",
              "          element.innerHTML = '';\n",
              "          dataTable['output_type'] = 'display_data';\n",
              "          await google.colab.output.renderOutput(dataTable, element);\n",
              "          const docLink = document.createElement('div');\n",
              "          docLink.innerHTML = docLinkHtml;\n",
              "          element.appendChild(docLink);\n",
              "        }\n",
              "      </script>\n",
              "    </div>\n",
              "  </div>\n",
              "  "
            ]
          },
          "metadata": {},
          "execution_count": 137
        }
      ],
      "source": [
        "X_train"
      ]
    },
    {
      "cell_type": "code",
      "execution_count": 138,
      "id": "12136419",
      "metadata": {
        "id": "12136419"
      },
      "outputs": [],
      "source": [
        "testmodel = LogisticRegression(max_iter = 1000)\n",
        "testmodel.fit(X_train, Y_train)\n",
        "y_pred = testmodel.predict(X_test)"
      ]
    },
    {
      "cell_type": "code",
      "execution_count": 139,
      "id": "4d1d8d21",
      "metadata": {
        "id": "4d1d8d21"
      },
      "outputs": [],
      "source": [
        "from sklearn.metrics import confusion_matrix\n",
        "import matplotlib.pyplot as plt\n",
        "import seaborn as sns"
      ]
    },
    {
      "cell_type": "code",
      "execution_count": 140,
      "id": "99b1db02",
      "metadata": {
        "id": "99b1db02"
      },
      "outputs": [],
      "source": [
        "cm = confusion_matrix(Y_test, y_pred, labels = ['Y', 'N', 'P'])"
      ]
    },
    {
      "cell_type": "code",
      "execution_count": 141,
      "id": "732d1612",
      "metadata": {
        "id": "732d1612",
        "outputId": "a9a4b596-e4c3-460b-ddf3-7a3486474bef",
        "colab": {
          "base_uri": "https://localhost:8080/",
          "height": 451
        }
      },
      "outputs": [
        {
          "output_type": "display_data",
          "data": {
            "text/plain": [
              "<Figure size 640x480 with 2 Axes>"
            ],
            "image/png": "[encoded data removed]"
          },
          "metadata": {}
        }
      ],
      "source": [
        "# Create a heatmap to visualize the confusion matrix\n",
        "sns.heatmap(cm, annot=True, cmap='Reds', fmt='g')\n",
        "plt.xlabel('Predicted labels')\n",
        "plt.ylabel('True labels')\n",
        "plt.show()"
      ]
    },
    {
      "cell_type": "code",
      "execution_count": 142,
      "id": "a1e18416",
      "metadata": {
        "id": "a1e18416",
        "outputId": "72fc30f1-329a-46dc-f4b2-0cbccad86b6c",
        "colab": {
          "base_uri": "https://localhost:8080/"
        }
      },
      "outputs": [
        {
          "output_type": "stream",
          "name": "stdout",
          "text": [
            "[[202   8   0]\n",
            " [  1  27   0]\n",
            " [  9   1   1]]\n"
          ]
        }
      ],
      "source": [
        "print(cm)"
      ]
    },
    {
      "cell_type": "code",
      "execution_count": 143,
      "id": "c34481ab",
      "metadata": {
        "id": "c34481ab"
      },
      "outputs": [],
      "source": [
        "logmodel = LogisticRegression(max_iter = 1000)"
      ]
    },
    {
      "cell_type": "code",
      "execution_count": null,
      "id": "973079a9",
      "metadata": {
        "id": "973079a9"
      },
      "outputs": [],
      "source": [
        "X_train, X_test, Y_train, Y_test = split(data_with_scale, label_db)"
      ]
    },
    {
      "cell_type": "code",
      "execution_count": 144,
      "id": "a85f8a80",
      "metadata": {
        "id": "a85f8a80",
        "outputId": "11f649cf-1fbb-4008-b709-810d943aa11d",
        "colab": {
          "base_uri": "https://localhost:8080/"
        }
      },
      "outputs": [
        {
          "output_type": "stream",
          "name": "stdout",
          "text": [
            "Best score in generation 1 : [0.924]\n",
            "Best score in generation 2 : [0.924]\n",
            "Best score in generation 3 : [0.924]\n",
            "Best score in generation 4 : [0.924]\n",
            "Best score in generation 5 : [0.924]\n"
          ]
        }
      ],
      "source": [
        "chromo_df_bc,score_bc=generations(scaled_data,label_db,size=80,n_feat= X_train.shape[1], n_parents=64,mutation_rate=0.20,n_gen=5, X_train = X_train,X_test = X_test,Y_train = Y_train,Y_test = Y_test)"
      ]
    },
    {
      "cell_type": "code",
      "execution_count": null,
      "id": "eab53420",
      "metadata": {
        "id": "eab53420"
      },
      "outputs": [],
      "source": []
    }
  ],
  "metadata": {
    "kernelspec": {
      "display_name": "Python 3 (ipykernel)",
      "language": "python",
      "name": "python3"
    },
    "language_info": {
      "codemirror_mode": {
        "name": "ipython",
        "version": 3
      },
      "file_extension": ".py",
      "mimetype": "text/x-python",
      "name": "python",
      "nbconvert_exporter": "python",
      "pygments_lexer": "ipython3",
      "version": "3.10.9"
    },
    "colab": {
      "provenance": [],
      "include_colab_link": true
    }
  },
  "nbformat": 4,
  "nbformat_minor": 5
}